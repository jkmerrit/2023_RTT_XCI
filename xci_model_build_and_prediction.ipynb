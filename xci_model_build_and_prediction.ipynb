{
 "cells": [
  {
   "cell_type": "code",
   "execution_count": 1,
   "id": "83091f3c",
   "metadata": {},
   "outputs": [
    {
     "data": {
      "text/html": [
       "<dl>\n",
       "\t<dt>$platform</dt>\n",
       "\t\t<dd>'x86_64-w64-mingw32'</dd>\n",
       "\t<dt>$arch</dt>\n",
       "\t\t<dd>'x86_64'</dd>\n",
       "\t<dt>$os</dt>\n",
       "\t\t<dd>'mingw32'</dd>\n",
       "\t<dt>$system</dt>\n",
       "\t\t<dd>'x86_64, mingw32'</dd>\n",
       "\t<dt>$status</dt>\n",
       "\t\t<dd>''</dd>\n",
       "\t<dt>$major</dt>\n",
       "\t\t<dd>'4'</dd>\n",
       "\t<dt>$minor</dt>\n",
       "\t\t<dd>'1.3'</dd>\n",
       "\t<dt>$year</dt>\n",
       "\t\t<dd>'2022'</dd>\n",
       "\t<dt>$month</dt>\n",
       "\t\t<dd>'03'</dd>\n",
       "\t<dt>$day</dt>\n",
       "\t\t<dd>'10'</dd>\n",
       "\t<dt>$`svn rev`</dt>\n",
       "\t\t<dd>'81868'</dd>\n",
       "\t<dt>$language</dt>\n",
       "\t\t<dd>'R'</dd>\n",
       "\t<dt>$version.string</dt>\n",
       "\t\t<dd>'R version 4.1.3 (2022-03-10)'</dd>\n",
       "\t<dt>$nickname</dt>\n",
       "\t\t<dd>'One Push-Up'</dd>\n",
       "</dl>\n"
      ],
      "text/latex": [
       "\\begin{description}\n",
       "\\item[\\$platform] 'x86\\_64-w64-mingw32'\n",
       "\\item[\\$arch] 'x86\\_64'\n",
       "\\item[\\$os] 'mingw32'\n",
       "\\item[\\$system] 'x86\\_64, mingw32'\n",
       "\\item[\\$status] ''\n",
       "\\item[\\$major] '4'\n",
       "\\item[\\$minor] '1.3'\n",
       "\\item[\\$year] '2022'\n",
       "\\item[\\$month] '03'\n",
       "\\item[\\$day] '10'\n",
       "\\item[\\$`svn rev`] '81868'\n",
       "\\item[\\$language] 'R'\n",
       "\\item[\\$version.string] 'R version 4.1.3 (2022-03-10)'\n",
       "\\item[\\$nickname] 'One Push-Up'\n",
       "\\end{description}\n"
      ],
      "text/markdown": [
       "$platform\n",
       ":   'x86_64-w64-mingw32'\n",
       "$arch\n",
       ":   'x86_64'\n",
       "$os\n",
       ":   'mingw32'\n",
       "$system\n",
       ":   'x86_64, mingw32'\n",
       "$status\n",
       ":   ''\n",
       "$major\n",
       ":   '4'\n",
       "$minor\n",
       ":   '1.3'\n",
       "$year\n",
       ":   '2022'\n",
       "$month\n",
       ":   '03'\n",
       "$day\n",
       ":   '10'\n",
       "$`svn rev`\n",
       ":   '81868'\n",
       "$language\n",
       ":   'R'\n",
       "$version.string\n",
       ":   'R version 4.1.3 (2022-03-10)'\n",
       "$nickname\n",
       ":   'One Push-Up'\n",
       "\n",
       "\n"
      ],
      "text/plain": [
       "$platform\n",
       "[1] \"x86_64-w64-mingw32\"\n",
       "\n",
       "$arch\n",
       "[1] \"x86_64\"\n",
       "\n",
       "$os\n",
       "[1] \"mingw32\"\n",
       "\n",
       "$system\n",
       "[1] \"x86_64, mingw32\"\n",
       "\n",
       "$status\n",
       "[1] \"\"\n",
       "\n",
       "$major\n",
       "[1] \"4\"\n",
       "\n",
       "$minor\n",
       "[1] \"1.3\"\n",
       "\n",
       "$year\n",
       "[1] \"2022\"\n",
       "\n",
       "$month\n",
       "[1] \"03\"\n",
       "\n",
       "$day\n",
       "[1] \"10\"\n",
       "\n",
       "$`svn rev`\n",
       "[1] \"81868\"\n",
       "\n",
       "$language\n",
       "[1] \"R\"\n",
       "\n",
       "$version.string\n",
       "[1] \"R version 4.1.3 (2022-03-10)\"\n",
       "\n",
       "$nickname\n",
       "[1] \"One Push-Up\"\n"
      ]
     },
     "metadata": {},
     "output_type": "display_data"
    }
   ],
   "source": [
    "R.Version()"
   ]
  },
  {
   "cell_type": "code",
   "execution_count": 2,
   "id": "87a9d16f",
   "metadata": {},
   "outputs": [],
   "source": [
    " Sys.setenv(JAGS_HOME = \"C:/Program Files/JAGS/JAGS-4.0.0\")"
   ]
  },
  {
   "cell_type": "code",
   "execution_count": 3,
   "id": "783e1084",
   "metadata": {},
   "outputs": [
    {
     "name": "stderr",
     "output_type": "stream",
     "text": [
      "Loading required package: lme4\n",
      "\n",
      "Loading required package: Matrix\n",
      "\n",
      "Loading required package: ggplot2\n",
      "\n",
      "Loading required package: ggpubr\n",
      "\n",
      "Loading required package: directlabels\n",
      "\n",
      "Loading required package: RColorBrewer\n",
      "\n",
      "Loading required package: ggeffects\n",
      "\n",
      "Loading required package: see\n",
      "\n",
      "Loading required package: ggforce\n",
      "\n",
      "Loading required package: yarrr\n",
      "\n",
      "Loading required package: jpeg\n",
      "\n",
      "Loading required package: BayesFactor\n",
      "\n",
      "Loading required package: coda\n",
      "\n",
      "************\n",
      "Welcome to BayesFactor 0.9.12-4.4. If you have questions, please contact Richard Morey (richarddmorey@gmail.com).\n",
      "\n",
      "Type BFManual() to open the manual.\n",
      "************\n",
      "\n",
      "Loading required package: circlize\n",
      "\n",
      "========================================\n",
      "circlize version 0.4.15\n",
      "CRAN page: https://cran.r-project.org/package=circlize\n",
      "Github page: https://github.com/jokergoo/circlize\n",
      "Documentation: https://jokergoo.github.io/circlize_book/book/\n",
      "\n",
      "If you use it in published research, please cite:\n",
      "Gu, Z. circlize implements and enhances circular visualization\n",
      "  in R. Bioinformatics 2014.\n",
      "\n",
      "This message can be suppressed by:\n",
      "  suppressPackageStartupMessages(library(circlize))\n",
      "========================================\n",
      "\n",
      "\n",
      "yarrr v0.1.5. Citation info at citation('yarrr'). Package guide at yarrr.guide()\n",
      "\n",
      "Email me at Nathaniel.D.Phillips.is@gmail.com\n",
      "\n",
      "\n",
      "Attaching package: 'yarrr'\n",
      "\n",
      "\n",
      "The following object is masked from 'package:ggplot2':\n",
      "\n",
      "    diamonds\n",
      "\n",
      "\n",
      "Loading required package: mgcv\n",
      "\n",
      "Loading required package: nlme\n",
      "\n",
      "\n",
      "Attaching package: 'nlme'\n",
      "\n",
      "\n",
      "The following object is masked from 'package:directlabels':\n",
      "\n",
      "    gapply\n",
      "\n",
      "\n",
      "The following object is masked from 'package:lme4':\n",
      "\n",
      "    lmList\n",
      "\n",
      "\n",
      "This is mgcv 1.8-42. For overview type 'help(\"mgcv-package\")'.\n",
      "\n",
      "Loading required package: gratia\n",
      "\n",
      "Loading required package: tidymv\n",
      "\n",
      "tidymv will be deprecated. Users are recommended\n",
      "    to check out the in-progress replacement tidygam\n",
      "    (https://github.com/stefanocoretta/tidygam).\n",
      "\n",
      "Loading required package: visreg\n",
      "\n",
      "Loading required package: tidyverse\n",
      "\n",
      "-- \u001b[1mAttaching core tidyverse packages\u001b[22m ---------------------------------------------------------------- tidyverse 2.0.0 --\n",
      "\u001b[32mv\u001b[39m \u001b[34mdplyr    \u001b[39m 1.1.2     \u001b[32mv\u001b[39m \u001b[34mreadr    \u001b[39m 2.1.4\n",
      "\u001b[32mv\u001b[39m \u001b[34mforcats  \u001b[39m 1.0.0     \u001b[32mv\u001b[39m \u001b[34mstringr  \u001b[39m 1.5.0\n",
      "\u001b[32mv\u001b[39m \u001b[34mlubridate\u001b[39m 1.9.2     \u001b[32mv\u001b[39m \u001b[34mtibble   \u001b[39m 3.2.1\n",
      "\u001b[32mv\u001b[39m \u001b[34mpurrr    \u001b[39m 1.0.1     \u001b[32mv\u001b[39m \u001b[34mtidyr    \u001b[39m 1.3.0\n",
      "-- \u001b[1mConflicts\u001b[22m ---------------------------------------------------------------------------------- tidyverse_conflicts() --\n",
      "\u001b[31mx\u001b[39m \u001b[34mdplyr\u001b[39m::\u001b[32mcollapse()\u001b[39m masks \u001b[34mnlme\u001b[39m::collapse()\n",
      "\u001b[31mx\u001b[39m \u001b[34mtidyr\u001b[39m::\u001b[32mexpand()\u001b[39m   masks \u001b[34mMatrix\u001b[39m::expand()\n",
      "\u001b[31mx\u001b[39m \u001b[34mdplyr\u001b[39m::\u001b[32mfilter()\u001b[39m   masks \u001b[34mstats\u001b[39m::filter()\n",
      "\u001b[31mx\u001b[39m \u001b[34mdplyr\u001b[39m::\u001b[32mlag()\u001b[39m      masks \u001b[34mstats\u001b[39m::lag()\n",
      "\u001b[31mx\u001b[39m \u001b[34mtidyr\u001b[39m::\u001b[32mpack()\u001b[39m     masks \u001b[34mMatrix\u001b[39m::pack()\n",
      "\u001b[31mx\u001b[39m \u001b[34mtidyr\u001b[39m::\u001b[32munpack()\u001b[39m   masks \u001b[34mMatrix\u001b[39m::unpack()\n",
      "\u001b[36mi\u001b[39m Use the conflicted package (\u001b[3m\u001b[34m<http://conflicted.r-lib.org/>\u001b[39m\u001b[23m) to force all conflicts to become errors\n",
      "Loading required package: confintr\n",
      "\n",
      "Loading required package: Kendall\n",
      "\n",
      "Loading required package: poolr\n",
      "\n",
      "Loading required package: broom\n",
      "\n",
      "Loading required package: modelr\n",
      "\n",
      "\n",
      "Attaching package: 'modelr'\n",
      "\n",
      "\n",
      "The following object is masked from 'package:broom':\n",
      "\n",
      "    bootstrap\n",
      "\n",
      "\n",
      "The following object is masked from 'package:gratia':\n",
      "\n",
      "    add_residuals\n",
      "\n",
      "\n",
      "The following object is masked from 'package:ggeffects':\n",
      "\n",
      "    data_grid\n",
      "\n",
      "\n",
      "Loading required package: gdata\n",
      "\n",
      "gdata: Unable to locate valid perl interpreter\n",
      "gdata: \n",
      "gdata: read.xls() will be unable to read Excel XLS and XLSX files\n",
      "gdata: unless the 'perl=' argument is used to specify the location of a\n",
      "gdata: valid perl intrpreter.\n",
      "gdata: \n",
      "gdata: (To avoid display of this message in the future, please ensure\n",
      "gdata: perl is installed and available on the executable search path.)\n",
      "\n",
      "gdata: Unable to load perl libaries needed by read.xls()\n",
      "gdata: to support 'XLX' (Excel 97-2004) files.\n",
      "\n",
      "\n",
      "\n",
      "gdata: Unable to load perl libaries needed by read.xls()\n",
      "gdata: to support 'XLSX' (Excel 2007+) files.\n",
      "\n",
      "\n",
      "\n",
      "gdata: Run the function 'installXLSXsupport()'\n",
      "gdata: to automatically download and install the perl\n",
      "gdata: libaries needed to support Excel XLS and XLSX formats.\n",
      "\n",
      "\n",
      "Attaching package: 'gdata'\n",
      "\n",
      "\n",
      "The following object is masked from 'package:modelr':\n",
      "\n",
      "    resample\n",
      "\n",
      "\n",
      "The following objects are masked from 'package:dplyr':\n",
      "\n",
      "    combine, first, last\n",
      "\n",
      "\n",
      "The following object is masked from 'package:purrr':\n",
      "\n",
      "    keep\n",
      "\n",
      "\n",
      "The following object is masked from 'package:stats':\n",
      "\n",
      "    nobs\n",
      "\n",
      "\n",
      "The following object is masked from 'package:utils':\n",
      "\n",
      "    object.size\n",
      "\n",
      "\n",
      "The following object is masked from 'package:base':\n",
      "\n",
      "    startsWith\n",
      "\n",
      "\n",
      "Loading required package: LongituRF\n",
      "\n",
      "Loading required package: janitor\n",
      "\n",
      "\n",
      "Attaching package: 'janitor'\n",
      "\n",
      "\n",
      "The following objects are masked from 'package:stats':\n",
      "\n",
      "    chisq.test, fisher.test\n",
      "\n",
      "\n",
      "Loading required package: zoo\n",
      "\n",
      "\n",
      "Attaching package: 'zoo'\n",
      "\n",
      "\n",
      "The following objects are masked from 'package:base':\n",
      "\n",
      "    as.Date, as.Date.numeric\n",
      "\n",
      "\n",
      "Loading required package: gt\n",
      "\n",
      "Loading required package: scales\n",
      "\n",
      "\n",
      "Attaching package: 'scales'\n",
      "\n",
      "\n",
      "The following object is masked from 'package:purrr':\n",
      "\n",
      "    discard\n",
      "\n",
      "\n",
      "The following object is masked from 'package:readr':\n",
      "\n",
      "    col_factor\n",
      "\n",
      "\n",
      "Loading required package: glue\n",
      "\n",
      "\n",
      "Attaching package: 'glue'\n",
      "\n",
      "\n",
      "The following object is masked from 'package:gdata':\n",
      "\n",
      "    trim\n",
      "\n",
      "\n",
      "Loading required package: htree\n",
      "\n",
      "Loading required package: parallel\n",
      "\n",
      "htree 2.0.0\n",
      "\n",
      "Loading required package: JMbayes\n",
      "\n",
      "Loading required package: survival\n",
      "\n",
      "Loading required package: doParallel\n",
      "\n",
      "Loading required package: foreach\n",
      "\n",
      "\n",
      "Attaching package: 'foreach'\n",
      "\n",
      "\n",
      "The following objects are masked from 'package:purrr':\n",
      "\n",
      "    accumulate, when\n",
      "\n",
      "\n",
      "Loading required package: iterators\n",
      "\n",
      "Loading required package: rstan\n",
      "\n",
      "Loading required package: StanHeaders\n",
      "\n",
      "rstan (Version 2.21.7, GitRev: 2e1f913d3ca3)\n",
      "\n",
      "For execution on a local, multicore CPU with excess RAM we recommend calling\n",
      "options(mc.cores = parallel::detectCores()).\n",
      "To avoid recompilation of unchanged Stan programs, we recommend calling\n",
      "rstan_options(auto_write = TRUE)\n",
      "\n",
      "Do not specify '-march=native' in 'LOCAL_CPPFLAGS' or a Makevars file\n",
      "\n",
      "\n",
      "Attaching package: 'rstan'\n",
      "\n",
      "\n",
      "The following object is masked from 'package:tidyr':\n",
      "\n",
      "    extract\n",
      "\n",
      "\n",
      "The following object is masked from 'package:coda':\n",
      "\n",
      "    traceplot\n",
      "\n",
      "\n",
      "Loading required package: car\n",
      "\n",
      "Loading required package: carData\n",
      "\n",
      "\n",
      "Attaching package: 'car'\n",
      "\n",
      "\n",
      "The following object is masked from 'package:dplyr':\n",
      "\n",
      "    recode\n",
      "\n",
      "\n",
      "The following object is masked from 'package:purrr':\n",
      "\n",
      "    some\n",
      "\n",
      "\n",
      "Loading required package: agricolae\n",
      "\n",
      "\n",
      "Attaching package: 'agricolae'\n",
      "\n",
      "\n",
      "The following objects are masked from 'package:confintr':\n",
      "\n",
      "    kurtosis, skewness\n",
      "\n",
      "\n",
      "Loading required package: flextable\n",
      "\n",
      "\n",
      "Attaching package: 'flextable'\n",
      "\n",
      "\n",
      "The following object is masked from 'package:purrr':\n",
      "\n",
      "    compose\n",
      "\n",
      "\n",
      "The following object is masked from 'package:circlize':\n",
      "\n",
      "    fontsize\n",
      "\n",
      "\n",
      "The following objects are masked from 'package:ggpubr':\n",
      "\n",
      "    border, font, rotate\n",
      "\n",
      "\n",
      "Loading required package: crul\n",
      "\n",
      "Loading required package: rempsyc\n",
      "\n",
      "Suggested APA citation: Thériault, R. (2022). rempsyc: Convenience functions for psychology \n",
      "(R package version 0.1.2) [Computer software]. https://rempsyc.remi-theriault.com \n",
      "\n"
     ]
    },
    {
     "data": {
      "text/html": [
       "<style>\n",
       ".dl-inline {width: auto; margin:0; padding: 0}\n",
       ".dl-inline>dt, .dl-inline>dd {float: none; width: auto; display: inline-block}\n",
       ".dl-inline>dt::after {content: \":\\0020\"; padding-right: .5ex}\n",
       ".dl-inline>dt:not(:first-of-type) {padding-left: .5ex}\n",
       "</style><dl class=dl-inline><dt>lme4</dt><dd>TRUE</dd><dt>ggplot2</dt><dd>TRUE</dd><dt>ggpubr</dt><dd>TRUE</dd><dt>directlabels</dt><dd>TRUE</dd><dt>RColorBrewer</dt><dd>TRUE</dd><dt>ggeffects</dt><dd>TRUE</dd><dt>see</dt><dd>TRUE</dd><dt>ggforce</dt><dd>TRUE</dd><dt>yarrr</dt><dd>TRUE</dd><dt>mgcv</dt><dd>TRUE</dd><dt>gratia</dt><dd>TRUE</dd><dt>tidymv</dt><dd>TRUE</dd><dt>visreg</dt><dd>TRUE</dd><dt>tidyverse</dt><dd>TRUE</dd><dt>dplyr</dt><dd>TRUE</dd><dt>directlabels</dt><dd>TRUE</dd><dt>confintr</dt><dd>TRUE</dd><dt>Kendall</dt><dd>TRUE</dd><dt>poolr</dt><dd>TRUE</dd><dt>broom</dt><dd>TRUE</dd><dt>modelr</dt><dd>TRUE</dd><dt>gdata</dt><dd>TRUE</dd><dt>LongituRF</dt><dd>TRUE</dd><dt>janitor</dt><dd>TRUE</dd><dt>zoo</dt><dd>TRUE</dd><dt>gt</dt><dd>TRUE</dd><dt>scales</dt><dd>TRUE</dd><dt>glue</dt><dd>TRUE</dd><dt>purrr</dt><dd>TRUE</dd><dt>htree</dt><dd>TRUE</dd><dt>JMbayes</dt><dd>TRUE</dd><dt>car</dt><dd>TRUE</dd><dt>agricolae</dt><dd>TRUE</dd><dt>flextable</dt><dd>TRUE</dd><dt>crul</dt><dd>TRUE</dd><dt>rempsyc</dt><dd>TRUE</dd></dl>\n"
      ],
      "text/latex": [
       "\\begin{description*}\n",
       "\\item[lme4] TRUE\n",
       "\\item[ggplot2] TRUE\n",
       "\\item[ggpubr] TRUE\n",
       "\\item[directlabels] TRUE\n",
       "\\item[RColorBrewer] TRUE\n",
       "\\item[ggeffects] TRUE\n",
       "\\item[see] TRUE\n",
       "\\item[ggforce] TRUE\n",
       "\\item[yarrr] TRUE\n",
       "\\item[mgcv] TRUE\n",
       "\\item[gratia] TRUE\n",
       "\\item[tidymv] TRUE\n",
       "\\item[visreg] TRUE\n",
       "\\item[tidyverse] TRUE\n",
       "\\item[dplyr] TRUE\n",
       "\\item[directlabels] TRUE\n",
       "\\item[confintr] TRUE\n",
       "\\item[Kendall] TRUE\n",
       "\\item[poolr] TRUE\n",
       "\\item[broom] TRUE\n",
       "\\item[modelr] TRUE\n",
       "\\item[gdata] TRUE\n",
       "\\item[LongituRF] TRUE\n",
       "\\item[janitor] TRUE\n",
       "\\item[zoo] TRUE\n",
       "\\item[gt] TRUE\n",
       "\\item[scales] TRUE\n",
       "\\item[glue] TRUE\n",
       "\\item[purrr] TRUE\n",
       "\\item[htree] TRUE\n",
       "\\item[JMbayes] TRUE\n",
       "\\item[car] TRUE\n",
       "\\item[agricolae] TRUE\n",
       "\\item[flextable] TRUE\n",
       "\\item[crul] TRUE\n",
       "\\item[rempsyc] TRUE\n",
       "\\end{description*}\n"
      ],
      "text/markdown": [
       "lme4\n",
       ":   TRUEggplot2\n",
       ":   TRUEggpubr\n",
       ":   TRUEdirectlabels\n",
       ":   TRUERColorBrewer\n",
       ":   TRUEggeffects\n",
       ":   TRUEsee\n",
       ":   TRUEggforce\n",
       ":   TRUEyarrr\n",
       ":   TRUEmgcv\n",
       ":   TRUEgratia\n",
       ":   TRUEtidymv\n",
       ":   TRUEvisreg\n",
       ":   TRUEtidyverse\n",
       ":   TRUEdplyr\n",
       ":   TRUEdirectlabels\n",
       ":   TRUEconfintr\n",
       ":   TRUEKendall\n",
       ":   TRUEpoolr\n",
       ":   TRUEbroom\n",
       ":   TRUEmodelr\n",
       ":   TRUEgdata\n",
       ":   TRUELongituRF\n",
       ":   TRUEjanitor\n",
       ":   TRUEzoo\n",
       ":   TRUEgt\n",
       ":   TRUEscales\n",
       ":   TRUEglue\n",
       ":   TRUEpurrr\n",
       ":   TRUEhtree\n",
       ":   TRUEJMbayes\n",
       ":   TRUEcar\n",
       ":   TRUEagricolae\n",
       ":   TRUEflextable\n",
       ":   TRUEcrul\n",
       ":   TRUErempsyc\n",
       ":   TRUE\n",
       "\n"
      ],
      "text/plain": [
       "        lme4      ggplot2       ggpubr directlabels RColorBrewer    ggeffects \n",
       "        TRUE         TRUE         TRUE         TRUE         TRUE         TRUE \n",
       "         see      ggforce        yarrr         mgcv       gratia       tidymv \n",
       "        TRUE         TRUE         TRUE         TRUE         TRUE         TRUE \n",
       "      visreg    tidyverse        dplyr directlabels     confintr      Kendall \n",
       "        TRUE         TRUE         TRUE         TRUE         TRUE         TRUE \n",
       "       poolr        broom       modelr        gdata    LongituRF      janitor \n",
       "        TRUE         TRUE         TRUE         TRUE         TRUE         TRUE \n",
       "         zoo           gt       scales         glue        purrr        htree \n",
       "        TRUE         TRUE         TRUE         TRUE         TRUE         TRUE \n",
       "     JMbayes          car    agricolae    flextable         crul      rempsyc \n",
       "        TRUE         TRUE         TRUE         TRUE         TRUE         TRUE "
      ]
     },
     "metadata": {},
     "output_type": "display_data"
    }
   ],
   "source": [
    ".libPaths(\"C:/Users/jkmer/anaconda3/envs/r4-base/Library\")\n",
    "\n",
    "load.lib <- c(\"lme4\",\n",
    "              \"ggplot2\",\n",
    "              \"ggpubr\",\n",
    "              \"directlabels\",\n",
    "              \"RColorBrewer\",\n",
    "              \"ggeffects\",\n",
    "              \"see\",\n",
    "              \"ggforce\",\n",
    "              \"yarrr\",\n",
    "              \"mgcv\",\n",
    "              \"gratia\",\n",
    "              \"tidymv\",\n",
    "              \"visreg\",\n",
    "              \"tidyverse\",\n",
    "              \"dplyr\",\n",
    "              \"directlabels\",\n",
    "              \"confintr\",\n",
    "              \"Kendall\",\n",
    "              \"poolr\",\n",
    "              \"broom\",\n",
    "              \"modelr\",\n",
    "              \"gdata\",\n",
    "             \"LongituRF\",\n",
    "             \"janitor\",\n",
    "             \"zoo\",\n",
    "             \"gt\",\n",
    "             \"scales\",\n",
    "             \"glue\",\n",
    "             \"purrr\",\n",
    "             \"htree\",\n",
    "             \"JMbayes\",\n",
    "             \"car\",\n",
    "             \"agricolae\",\n",
    "             \"flextable\",\n",
    "             \"crul\",\n",
    "             \"rempsyc\"\n",
    ") \n",
    "\n",
    "sapply(load.lib,require,character=TRUE)"
   ]
  },
  {
   "cell_type": "code",
   "execution_count": 4,
   "id": "6b9c2384",
   "metadata": {},
   "outputs": [],
   "source": [
    "# read in cleaned CLinical Severity Scores from Rett Natural History Study 5201 and 5211\n",
    "clean <- read.csv('C:/Users/jkmer/Desktop/2023_css/20230201_CSS_5201_5211_cleaned.csv')"
   ]
  },
  {
   "cell_type": "code",
   "execution_count": 5,
   "id": "50aa4cd7",
   "metadata": {},
   "outputs": [],
   "source": [
    "#convert id's etc to factors\n",
    "clean$participant_id <- as.factor(clean$participant_id)\n",
    "clean$childs_gender <- as.factor(clean$childs_gender)\n",
    "clean$diagnosis <- as.factor(clean$diagnosis)\n",
    "clean$grouping3 <- as.factor(clean$grouping3)\n",
    "clean$visit <- as.factor(clean$visit)"
   ]
  },
  {
   "cell_type": "code",
   "execution_count": 6,
   "id": "49ad60fe",
   "metadata": {},
   "outputs": [],
   "source": [
    "#round age at visit to 0.1 years\n",
    "clean$age <- round(clean$age_at_visit, 1)"
   ]
  },
  {
   "cell_type": "code",
   "execution_count": 7,
   "id": "9d4ad9e8",
   "metadata": {},
   "outputs": [],
   "source": [
    "#sort by age at visit within participant_id\n",
    " clean <- clean[\n",
    "      with(clean, order(participant_id, age_at_visit)),]\n",
    "        "
   ]
  },
  {
   "cell_type": "code",
   "execution_count": 8,
   "id": "fe12ed85",
   "metadata": {},
   "outputs": [],
   "source": [
    "#filter for females with a mecp2 mutation\n",
    "fem <- clean %>% filter(childs_gender == \"Female\")\n",
    "fempos <- fem %>% filter(grouping1_genetic_mutation == \"MECP2 mutation\")"
   ]
  },
  {
   "cell_type": "code",
   "execution_count": 9,
   "id": "30d7ae36",
   "metadata": {},
   "outputs": [
    {
     "name": "stderr",
     "output_type": "stream",
     "text": [
      "Warning message:\n",
      "\"\u001b[1m\u001b[22mThe `size` argument of `element_line()` is deprecated as of ggplot2 3.4.0.\n",
      "\u001b[36mi\u001b[39m Please use the `linewidth` argument instead.\"\n"
     ]
    },
    {
     "data": {
      "text/html": [
       "<style>\n",
       ".list-inline {list-style: none; margin:0; padding: 0}\n",
       ".list-inline>li {display: inline-block}\n",
       ".list-inline>li:not(:last-child)::after {content: \"\\00b7\"; padding: 0 .5ex}\n",
       "</style>\n",
       "<ol class=list-inline><li>1451</li><li>43</li></ol>\n"
      ],
      "text/latex": [
       "\\begin{enumerate*}\n",
       "\\item 1451\n",
       "\\item 43\n",
       "\\end{enumerate*}\n"
      ],
      "text/markdown": [
       "1. 1451\n",
       "2. 43\n",
       "\n",
       "\n"
      ],
      "text/plain": [
       "[1] 1451   43"
      ]
     },
     "metadata": {},
     "output_type": "display_data"
    },
    {
     "name": "stderr",
     "output_type": "stream",
     "text": [
      "Warning message:\n",
      "\"\u001b[1m\u001b[22mUsing `size` aesthetic for lines was deprecated in ggplot2 3.4.0.\n",
      "\u001b[36mi\u001b[39m Please use `linewidth` instead.\"\n",
      "\u001b[1m\u001b[22m`geom_smooth()` using method = 'gam'\n",
      "Warning message:\n",
      "\"\u001b[1m\u001b[22mRemoved 733 rows containing non-finite values (`stat_smooth()`).\"\n",
      "Warning message:\n",
      "\"\u001b[1m\u001b[22mRemoved 126 rows containing missing values (`geom_point()`).\"\n"
     ]
    },
    {
     "data": {
      "text/html": [
       "<strong>png:</strong> 2"
      ],
      "text/latex": [
       "\\textbf{png:} 2"
      ],
      "text/markdown": [
       "**png:** 2"
      ],
      "text/plain": [
       "png \n",
       "  2 "
      ]
     },
     "metadata": {},
     "output_type": "display_data"
    },
    {
     "name": "stderr",
     "output_type": "stream",
     "text": [
      "\u001b[1m\u001b[22m`geom_smooth()` using method = 'gam'\n",
      "Warning message:\n",
      "\"\u001b[1m\u001b[22mRemoved 733 rows containing non-finite values (`stat_smooth()`).\"\n",
      "Warning message:\n",
      "\"\u001b[1m\u001b[22mRemoved 126 rows containing missing values (`geom_point()`).\"\n"
     ]
    },
    {
     "data": {
      "image/png": "[encoded data removed]",
      "text/plain": [
       "plot without title"
      ]
     },
     "metadata": {
      "image/png": {
       "height": 420,
       "width": 420
      }
     },
     "output_type": "display_data"
    }
   ],
   "source": [
    "#plot of females in rnhs with a mecp2 mutation\n",
    "testpal <- c('#ff00ff', '#33cc33', '#006600',\n",
    "             '#33cccc', '#777b7e', '#663300',\n",
    "             '#cc9900', '#ff5050', '#3366ff',\n",
    "             '#6600cc', '#ff9900')\n",
    "\n",
    "My_Theme = theme(\n",
    "  axis.title.x = element_text(size = 30, face=\"bold\", color = \"black\"),\n",
    "  axis.text.x = element_text(size = 30, face=\"bold\", color = \"black\"),\n",
    "  axis.title.y = element_text(size = 30, face=\"bold\", color = \"black\"),\n",
    "  axis.text.y = element_text(size = 30, face=\"bold\", color = \"black\"),  \n",
    "  axis.line = element_line(size = 2, color = \"black\"),\n",
    "  axis.ticks = element_line(size = 2, color = \"black\"),\n",
    "  legend.text = element_text(size = 30, face=\"bold\", color = \"black\"),\n",
    "  axis.ticks.length=unit(0.1,\"inch\"),    \n",
    "  legend.title = element_blank())\n",
    "\n",
    "baseline <- fempos %>% group_by(participant_id) %>% slice(which.min(age_at_visit)) %>%\n",
    "                             ungroup()\n",
    "dim(baseline)\n",
    "\n",
    "rnhs_summary_plot <- baseline %>%     \n",
    "    ggplot() +\n",
    "    geom_jitter(aes(x=age, y=total_score_clean), size = 3, width = 0.01, height = 0.5) +\n",
    "    scale_colour_manual(values = testpal) +\n",
    "    theme_classic() +\n",
    "    My_Theme +\n",
    "    ylab('Baseline CSS') +\n",
    "    xlab('Age (Years)') +\n",
    "    geom_smooth(data = fempos,\n",
    "                aes(x = age, y = total_score_clean), \n",
    "                formula = y ~ log(x), size = 4, se = FALSE, color = '#ff5050') +\n",
    "    xlim(0,25)\n",
    "\n",
    "png(file=\"C:/Users/jkmer/Desktop/2023_css/rnhs_summary.png\",\n",
    "units=\"in\", width=8, height=8, res=300)\n",
    "rnhs_summary_plot\n",
    "dev.off()\n",
    "\n",
    "rnhs_summary_plot"
   ]
  },
  {
   "cell_type": "code",
   "execution_count": 10,
   "id": "ba70d202",
   "metadata": {},
   "outputs": [
    {
     "data": {
      "text/html": [
       "<strong>png:</strong> 2"
      ],
      "text/latex": [
       "\\textbf{png:} 2"
      ],
      "text/markdown": [
       "**png:** 2"
      ],
      "text/plain": [
       "png \n",
       "  2 "
      ]
     },
     "metadata": {},
     "output_type": "display_data"
    },
    {
     "data": {
      "image/png": "[encoded data removed]",
      "text/plain": [
       "plot without title"
      ]
     },
     "metadata": {
      "image/png": {
       "height": 420,
       "width": 420
      }
     },
     "output_type": "display_data"
    }
   ],
   "source": [
    "#plot common mutations to show differences in mean baseline severity\n",
    "stderror <- function(x) sd(x)/sqrt(length(x))\n",
    "baseline_mean <- baseline %>% group_by(grouping3) %>% mutate(mean = mean(total_score_clean)) %>%\n",
    "                         mutate(sem = stderror(total_score_clean)) %>% ungroup() %>%\n",
    "                         select(c(grouping3, mean, sem)) %>% unique()\n",
    "                         \n",
    "\n",
    "\n",
    "My_Theme = theme(\n",
    "  axis.title.x = element_blank(), #element_text(size = 20, face=\"bold\", color = \"black\"),\n",
    "  axis.text.x = element_text(size = 30, face=\"bold\", color = \"black\", angle = 45, vjust = 1, hjust=1),\n",
    "  axis.title.y = element_text(size = 30, face=\"bold\", color = \"black\"),\n",
    "  axis.text.y = element_text(size = 30, face=\"bold\", color = \"black\"),  \n",
    "  axis.line=element_line(size = 2, color = \"black\"),\n",
    "  axis.ticks = element_line(size = 2, color = \"black\"),\n",
    "  axis.ticks.length=unit(0.1,\"inch\"),    \n",
    "  legend.position = \"none\")\n",
    "\n",
    "baseline_mean$grouping3 <- factor(baseline_mean$grouping3, levels = c(\"earlytrunc\",\n",
    "                                 \"R106W\",\n",
    "                                 \"R133C\",\n",
    "                                 \"T158M\",\n",
    "                                 \"R168X\",\n",
    "                                 \"R255X\",\n",
    "                                 \"R270X\",\n",
    "                                 \"R294X\",\n",
    "                                 \"R306C\",\n",
    "                                 \"LargeDel\",\n",
    "                                 \"CTT\")) \n",
    "baseline_mean <-  baseline_mean %>% na.omit()\n",
    "\n",
    "rnhs_meanplot <- ggplot(baseline_mean, aes(reorder(grouping3,mean), mean, fill = grouping3)) + \n",
    "      geom_bar(stat = \"identity\", color = \"black\", size=1, width=0.9) +\n",
    "      #stat_summary(fun=mean, geom=\"bar\") +\n",
    "      geom_errorbar(aes(ymin=mean-sem, ymax=mean+sem), width=.3, size=1) +\n",
    "      scale_y_continuous(expand = c(0,0),\n",
    "                     limits = c(0,37)) +\n",
    "          ylab(\"Baseline CSS\") +\n",
    "          theme_classic() +\n",
    "          scale_fill_manual(values = testpal) +\n",
    "          My_Theme\n",
    "\n",
    "png(file=\"C:/Users/jkmer/Desktop/2023_css/rnhs_baseline_summary.png\",\n",
    "units=\"in\", width=8, height=8, res=300)\n",
    "rnhs_meanplot\n",
    "dev.off()\n",
    "\n",
    "rnhs_meanplot"
   ]
  },
  {
   "cell_type": "code",
   "execution_count": 11,
   "id": "421a673a",
   "metadata": {},
   "outputs": [],
   "source": [
    "fempos$age <- round(fempos$age_at_visit, digits = 1)\n",
    "fempos25 <- fempos %>% filter(age <= 25)"
   ]
  },
  {
   "cell_type": "code",
   "execution_count": 12,
   "id": "81c20da3",
   "metadata": {},
   "outputs": [],
   "source": [
    "femposatypical <- fempos25 %>% filter(diagnosis != \"Classic\")"
   ]
  },
  {
   "cell_type": "code",
   "execution_count": 13,
   "id": "bb6afeeb",
   "metadata": {},
   "outputs": [],
   "source": [
    "femposatypical <- femposatypical %>% select(c(participant_id, grouping3)) %>% unique()"
   ]
  },
  {
   "cell_type": "code",
   "execution_count": 14,
   "id": "3bdacc2a",
   "metadata": {},
   "outputs": [
    {
     "data": {
      "text/plain": [
       "\n",
       "       CTT earlytrunc      Exon1   LargeDel       None    OtherPt      R106W \n",
       "        57         11          3         15          0         29          5 \n",
       "     R133C      R168X      R255X      R270X      R294X      R306C     Splice \n",
       "        24         11         12         10         12         14          2 \n",
       "     T158M \n",
       "         5 "
      ]
     },
     "metadata": {},
     "output_type": "display_data"
    }
   ],
   "source": [
    "table(femposatypical$grouping3)"
   ]
  },
  {
   "cell_type": "code",
   "execution_count": 15,
   "id": "e8c609a2",
   "metadata": {},
   "outputs": [
    {
     "data": {
      "text/html": [
       "1213"
      ],
      "text/latex": [
       "1213"
      ],
      "text/markdown": [
       "1213"
      ],
      "text/plain": [
       "[1] 1213"
      ]
     },
     "metadata": {},
     "output_type": "display_data"
    }
   ],
   "source": [
    "femposclassic <- fempos %>% filter(diagnosis == \"Classic\")\n",
    "length(unique(femposclassic$participant_id))"
   ]
  },
  {
   "cell_type": "code",
   "execution_count": 16,
   "id": "14c61e73",
   "metadata": {},
   "outputs": [
    {
     "data": {
      "text/html": [
       "1109"
      ],
      "text/latex": [
       "1109"
      ],
      "text/markdown": [
       "1109"
      ],
      "text/plain": [
       "[1] 1109"
      ]
     },
     "metadata": {},
     "output_type": "display_data"
    }
   ],
   "source": [
    "femposclassic$age <- round(femposclassic$age_at_visit, digits = 1)\n",
    "age25 <- femposclassic %>% filter(age <= 25)\n",
    "length(unique(age25$participant_id))"
   ]
  },
  {
   "cell_type": "code",
   "execution_count": 17,
   "id": "8bb7ef99",
   "metadata": {
    "scrolled": true
   },
   "outputs": [
    {
     "data": {
      "text/html": [
       "100"
      ],
      "text/latex": [
       "100"
      ],
      "text/markdown": [
       "100"
      ],
      "text/plain": [
       "[1] 100"
      ]
     },
     "metadata": {},
     "output_type": "display_data"
    }
   ],
   "source": [
    "mutspec <- age25 %>% filter(grouping3 == \"earlytrunc\")\n",
    "length(unique(mutspec$participant_id))"
   ]
  },
  {
   "cell_type": "code",
   "execution_count": 18,
   "id": "2cb960c7",
   "metadata": {},
   "outputs": [],
   "source": [
    "#for model development, focus on individuals with a classic diagnosis\n",
    "#filter for classic cases in females under 25 years old\n",
    "classic <- clean[clean$diagnosis == \"Classic\" ,]\n",
    "females <- classic[classic$childs_gender == \"Female\" ,]\n",
    "mecp2_pos <- females[females$grouping1_genetic_mutation == \"MECP2 mutation\" ,]\n",
    "mecp2_pos$age <- round(mecp2_pos$age_at_visit, digits = 1)\n",
    "mecp2_pos$lnage <- log(mecp2_pos$age)\n",
    "mecp2_pos25 <- mecp2_pos[mecp2_pos$age<=25,]"
   ]
  },
  {
   "cell_type": "code",
   "execution_count": 19,
   "id": "866e7e81",
   "metadata": {},
   "outputs": [],
   "source": [
    "#remove under-represented mutation groups\n",
    "mecp2_pos25 <- mecp2_pos25 %>% filter(!grouping3 == 'OtherPt') %>% \n",
    "                               filter(!grouping3 == 'MISSING') %>% \n",
    "                               filter(!grouping3 == \"Splice\") %>%  \n",
    "                               filter(!grouping3 == \"Exon1\")\n",
    "\n",
    "mecp2_pos25 <- mecp2_pos25[!(is.na(mecp2_pos25$grouping3)), ]"
   ]
  },
  {
   "cell_type": "code",
   "execution_count": 20,
   "id": "3ae4567c",
   "metadata": {},
   "outputs": [
    {
     "data": {
      "text/html": [
       "1003"
      ],
      "text/latex": [
       "1003"
      ],
      "text/markdown": [
       "1003"
      ],
      "text/plain": [
       "[1] 1003"
      ]
     },
     "metadata": {},
     "output_type": "display_data"
    }
   ],
   "source": [
    "length(unique(mecp2_pos25$participant_id))"
   ]
  },
  {
   "cell_type": "code",
   "execution_count": 21,
   "id": "8a24d373",
   "metadata": {},
   "outputs": [
    {
     "data": {
      "text/html": [
       "<style>\n",
       ".list-inline {list-style: none; margin:0; padding: 0}\n",
       ".list-inline>li {display: inline-block}\n",
       ".list-inline>li:not(:last-child)::after {content: \"\\00b7\"; padding: 0 .5ex}\n",
       "</style>\n",
       "<ol class=list-inline><li>5469</li><li>44</li></ol>\n"
      ],
      "text/latex": [
       "\\begin{enumerate*}\n",
       "\\item 5469\n",
       "\\item 44\n",
       "\\end{enumerate*}\n"
      ],
      "text/markdown": [
       "1. 5469\n",
       "2. 44\n",
       "\n",
       "\n"
      ],
      "text/plain": [
       "[1] 5469   44"
      ]
     },
     "metadata": {},
     "output_type": "display_data"
    }
   ],
   "source": [
    "dim(mecp2_pos25)"
   ]
  },
  {
   "cell_type": "code",
   "execution_count": 22,
   "id": "e171af30",
   "metadata": {},
   "outputs": [
    {
     "data": {
      "text/html": [
       "5.45264207377866"
      ],
      "text/latex": [
       "5.45264207377866"
      ],
      "text/markdown": [
       "5.45264207377866"
      ],
      "text/plain": [
       "[1] 5.452642"
      ]
     },
     "metadata": {},
     "output_type": "display_data"
    }
   ],
   "source": [
    "5469/1003"
   ]
  },
  {
   "cell_type": "code",
   "execution_count": 23,
   "id": "2f013a25",
   "metadata": {},
   "outputs": [
    {
     "data": {
      "text/html": [
       "<style>\n",
       ".list-inline {list-style: none; margin:0; padding: 0}\n",
       ".list-inline>li {display: inline-block}\n",
       ".list-inline>li:not(:last-child)::after {content: \"\\00b7\"; padding: 0 .5ex}\n",
       "</style>\n",
       "<ol class=list-inline><li>R168X</li><li>LargeDel</li><li>CTT</li><li>T158M</li><li>R306C</li><li>earlytrunc</li><li>R255X</li><li>R133C</li><li>R294X</li><li>R270X</li><li>R106W</li></ol>\n",
       "\n",
       "<details>\n",
       "\t<summary style=display:list-item;cursor:pointer>\n",
       "\t\t<strong>Levels</strong>:\n",
       "\t</summary>\n",
       "\t<style>\n",
       "\t.list-inline {list-style: none; margin:0; padding: 0}\n",
       "\t.list-inline>li {display: inline-block}\n",
       "\t.list-inline>li:not(:last-child)::after {content: \"\\00b7\"; padding: 0 .5ex}\n",
       "\t</style>\n",
       "\t<ol class=list-inline><li>'CTT'</li><li>'earlytrunc'</li><li>'Exon1'</li><li>'LargeDel'</li><li>'None'</li><li>'OtherPt'</li><li>'R106W'</li><li>'R133C'</li><li>'R168X'</li><li>'R255X'</li><li>'R270X'</li><li>'R294X'</li><li>'R306C'</li><li>'Splice'</li><li>'T158M'</li></ol>\n",
       "</details>"
      ],
      "text/latex": [
       "\\begin{enumerate*}\n",
       "\\item R168X\n",
       "\\item LargeDel\n",
       "\\item CTT\n",
       "\\item T158M\n",
       "\\item R306C\n",
       "\\item earlytrunc\n",
       "\\item R255X\n",
       "\\item R133C\n",
       "\\item R294X\n",
       "\\item R270X\n",
       "\\item R106W\n",
       "\\end{enumerate*}\n",
       "\n",
       "\\emph{Levels}: \\begin{enumerate*}\n",
       "\\item 'CTT'\n",
       "\\item 'earlytrunc'\n",
       "\\item 'Exon1'\n",
       "\\item 'LargeDel'\n",
       "\\item 'None'\n",
       "\\item 'OtherPt'\n",
       "\\item 'R106W'\n",
       "\\item 'R133C'\n",
       "\\item 'R168X'\n",
       "\\item 'R255X'\n",
       "\\item 'R270X'\n",
       "\\item 'R294X'\n",
       "\\item 'R306C'\n",
       "\\item 'Splice'\n",
       "\\item 'T158M'\n",
       "\\end{enumerate*}\n"
      ],
      "text/markdown": [
       "1. R168X\n",
       "2. LargeDel\n",
       "3. CTT\n",
       "4. T158M\n",
       "5. R306C\n",
       "6. earlytrunc\n",
       "7. R255X\n",
       "8. R133C\n",
       "9. R294X\n",
       "10. R270X\n",
       "11. R106W\n",
       "\n",
       "\n",
       "\n",
       "**Levels**: 1. 'CTT'\n",
       "2. 'earlytrunc'\n",
       "3. 'Exon1'\n",
       "4. 'LargeDel'\n",
       "5. 'None'\n",
       "6. 'OtherPt'\n",
       "7. 'R106W'\n",
       "8. 'R133C'\n",
       "9. 'R168X'\n",
       "10. 'R255X'\n",
       "11. 'R270X'\n",
       "12. 'R294X'\n",
       "13. 'R306C'\n",
       "14. 'Splice'\n",
       "15. 'T158M'\n",
       "\n",
       "\n"
      ],
      "text/plain": [
       " [1] R168X      LargeDel   CTT        T158M      R306C      earlytrunc\n",
       " [7] R255X      R133C      R294X      R270X      R106W     \n",
       "15 Levels: CTT earlytrunc Exon1 LargeDel None OtherPt R106W R133C ... T158M"
      ]
     },
     "metadata": {},
     "output_type": "display_data"
    }
   ],
   "source": [
    "unique(mecp2_pos25$grouping3)"
   ]
  },
  {
   "cell_type": "markdown",
   "id": "6a9fdfe6",
   "metadata": {},
   "source": [
    "## disaggregating within and between person effects by decomposing time in the log transformed model"
   ]
  },
  {
   "cell_type": "code",
   "execution_count": 24,
   "id": "332fbb00",
   "metadata": {},
   "outputs": [],
   "source": [
    "#decompose logtime\n",
    "mecp2_decomp <- mecp2_pos25 %>%\n",
    "  group_by(participant_id) %>%\n",
    "  summarize(mean_lnage = mean(lnage)) %>% \n",
    "  ungroup() %>%\n",
    "  mutate(mean_lnage_ctr = scale(mean_lnage, scale = F)[,1],\n",
    "         ctrval = attr(scale(mean_lnage, scale = F),\"scaled:center\")) %>% \n",
    "  right_join(mecp2_pos25, by = \"participant_id\") %>%\n",
    "  mutate(duration = lnage - mean_lnage) %>% \n",
    "  select(participant_id, age, lnage, \n",
    "         mean_lnage, ctrval, mean_lnage_ctr, duration, \n",
    "         total_score_clean, grouping3)"
   ]
  },
  {
   "cell_type": "code",
   "execution_count": 25,
   "id": "5efbf0fd",
   "metadata": {},
   "outputs": [],
   "source": [
    "#logtime decomp\n",
    "log_decomp <- lme(fixed = total_score_clean ~ mean_lnage_ctr*duration*grouping3, \n",
    "             random = ~duration|participant_id,\n",
    "             data = mecp2_decomp,\n",
    "             correlation = corAR1(form = ~1|participant_id),\n",
    "             method = \"ML\")"
   ]
  },
  {
   "cell_type": "code",
   "execution_count": 26,
   "id": "3ad1c842",
   "metadata": {
    "scrolled": false
   },
   "outputs": [
    {
     "data": {
      "text/plain": [
       "Linear mixed-effects model fit by maximum likelihood\n",
       "  Data: mecp2_decomp \n",
       "      AIC      BIC   logLik\n",
       "  27922.2 28245.93 -13912.1\n",
       "\n",
       "Random effects:\n",
       " Formula: ~duration | participant_id\n",
       " Structure: General positive-definite, Log-Cholesky parametrization\n",
       "            StdDev   Corr  \n",
       "(Intercept) 5.795597 (Intr)\n",
       "duration    2.758149 0.201 \n",
       "Residual    2.490962       \n",
       "\n",
       "Correlation Structure: AR(1)\n",
       " Formula: ~1 | participant_id \n",
       " Parameter estimate(s):\n",
       "      Phi \n",
       "0.3746984 \n",
       "Fixed effects:  total_score_clean ~ mean_lnage_ctr * duration * grouping3 \n",
       "                                                Value Std.Error   DF  t-value\n",
       "(Intercept)                                 20.644386 0.5615795 4444 36.76129\n",
       "mean_lnage_ctr                               3.367083 0.9703915  981  3.46982\n",
       "duration                                     5.442157 0.6313405 4444  8.62000\n",
       "grouping3earlytrunc                          4.503202 0.8267304  981  5.44700\n",
       "grouping3LargeDel                            4.455011 0.8213295  981  5.42415\n",
       "grouping3R106W                               4.615573 1.2362829  981  3.73343\n",
       "grouping3R133C                              -2.093305 0.9210138  981 -2.27283\n",
       "grouping3R168X                               5.801725 0.7906712  981  7.33772\n",
       "grouping3R255X                               5.233636 0.8070974  981  6.48452\n",
       "grouping3R270X                               6.351860 0.9344520  981  6.79742\n",
       "grouping3R294X                              -1.478240 1.0074503  981 -1.46731\n",
       "grouping3R306C                              -2.270022 0.8468638  981 -2.68050\n",
       "grouping3T158M                               2.938009 0.7911479  981  3.71360\n",
       "mean_lnage_ctr:duration                      0.621512 1.4473328 4444  0.42942\n",
       "mean_lnage_ctr:grouping3earlytrunc           0.566055 1.3652930  981  0.41460\n",
       "mean_lnage_ctr:grouping3LargeDel             1.339374 1.3819174  981  0.96921\n",
       "mean_lnage_ctr:grouping3R106W                1.477922 2.2677194  981  0.65172\n",
       "mean_lnage_ctr:grouping3R133C                0.839704 1.5513465  981  0.54127\n",
       "mean_lnage_ctr:grouping3R168X                0.056458 1.2772771  981  0.04420\n",
       "mean_lnage_ctr:grouping3R255X               -1.481907 1.3685639  981 -1.08282\n",
       "mean_lnage_ctr:grouping3R270X                2.477423 1.5903555  981  1.55778\n",
       "mean_lnage_ctr:grouping3R294X               -2.776865 1.7403060  981 -1.59562\n",
       "mean_lnage_ctr:grouping3R306C                0.709186 1.5529072  981  0.45668\n",
       "mean_lnage_ctr:grouping3T158M               -0.324056 1.3146403  981 -0.24650\n",
       "duration:grouping3earlytrunc                -2.923408 0.9161432 4444 -3.19100\n",
       "duration:grouping3LargeDel                  -1.755462 0.9288403 4444 -1.88995\n",
       "duration:grouping3R106W                     -0.523200 1.1920257 4444 -0.43892\n",
       "duration:grouping3R133C                     -0.155534 1.0190829 4444 -0.15262\n",
       "duration:grouping3R168X                     -1.592410 0.8714257 4444 -1.82736\n",
       "duration:grouping3R255X                     -1.711396 0.8683147 4444 -1.97094\n",
       "duration:grouping3R270X                     -1.476560 1.0621646 4444 -1.39014\n",
       "duration:grouping3R294X                     -1.181008 1.1244231 4444 -1.05032\n",
       "duration:grouping3R306C                     -0.999888 0.8784352 4444 -1.13826\n",
       "duration:grouping3T158M                     -1.368563 0.8846274 4444 -1.54705\n",
       "mean_lnage_ctr:duration:grouping3earlytrunc -1.089657 1.8828201 4444 -0.57874\n",
       "mean_lnage_ctr:duration:grouping3LargeDel    2.319932 2.0755363 4444  1.11775\n",
       "mean_lnage_ctr:duration:grouping3R106W       0.388783 2.6395125 4444  0.14729\n",
       "mean_lnage_ctr:duration:grouping3R133C      -0.393984 2.3517920 4444 -0.16752\n",
       "mean_lnage_ctr:duration:grouping3R168X      -0.649108 1.8524773 4444 -0.35040\n",
       "mean_lnage_ctr:duration:grouping3R255X      -1.873305 1.8567167 4444 -1.00893\n",
       "mean_lnage_ctr:duration:grouping3R270X      -0.771220 2.3207771 4444 -0.33231\n",
       "mean_lnage_ctr:duration:grouping3R294X      -5.167332 2.6914557 4444 -1.91990\n",
       "mean_lnage_ctr:duration:grouping3R306C      -1.303869 2.1568152 4444 -0.60453\n",
       "mean_lnage_ctr:duration:grouping3T158M      -0.219088 1.9275227 4444 -0.11366\n",
       "                                            p-value\n",
       "(Intercept)                                  0.0000\n",
       "mean_lnage_ctr                               0.0005\n",
       "duration                                     0.0000\n",
       "grouping3earlytrunc                          0.0000\n",
       "grouping3LargeDel                            0.0000\n",
       "grouping3R106W                               0.0002\n",
       "grouping3R133C                               0.0233\n",
       "grouping3R168X                               0.0000\n",
       "grouping3R255X                               0.0000\n",
       "grouping3R270X                               0.0000\n",
       "grouping3R294X                               0.1426\n",
       "grouping3R306C                               0.0075\n",
       "grouping3T158M                               0.0002\n",
       "mean_lnage_ctr:duration                      0.6676\n",
       "mean_lnage_ctr:grouping3earlytrunc           0.6785\n",
       "mean_lnage_ctr:grouping3LargeDel             0.3327\n",
       "mean_lnage_ctr:grouping3R106W                0.5147\n",
       "mean_lnage_ctr:grouping3R133C                0.5884\n",
       "mean_lnage_ctr:grouping3R168X                0.9648\n",
       "mean_lnage_ctr:grouping3R255X                0.2792\n",
       "mean_lnage_ctr:grouping3R270X                0.1196\n",
       "mean_lnage_ctr:grouping3R294X                0.1109\n",
       "mean_lnage_ctr:grouping3R306C                0.6480\n",
       "mean_lnage_ctr:grouping3T158M                0.8053\n",
       "duration:grouping3earlytrunc                 0.0014\n",
       "duration:grouping3LargeDel                   0.0588\n",
       "duration:grouping3R106W                      0.6607\n",
       "duration:grouping3R133C                      0.8787\n",
       "duration:grouping3R168X                      0.0677\n",
       "duration:grouping3R255X                      0.0488\n",
       "duration:grouping3R270X                      0.1646\n",
       "duration:grouping3R294X                      0.2936\n",
       "duration:grouping3R306C                      0.2551\n",
       "duration:grouping3T158M                      0.1219\n",
       "mean_lnage_ctr:duration:grouping3earlytrunc  0.5628\n",
       "mean_lnage_ctr:duration:grouping3LargeDel    0.2637\n",
       "mean_lnage_ctr:duration:grouping3R106W       0.8829\n",
       "mean_lnage_ctr:duration:grouping3R133C       0.8670\n",
       "mean_lnage_ctr:duration:grouping3R168X       0.7261\n",
       "mean_lnage_ctr:duration:grouping3R255X       0.3131\n",
       "mean_lnage_ctr:duration:grouping3R270X       0.7397\n",
       "mean_lnage_ctr:duration:grouping3R294X       0.0549\n",
       "mean_lnage_ctr:duration:grouping3R306C       0.5455\n",
       "mean_lnage_ctr:duration:grouping3T158M       0.9095\n",
       " Correlation: \n",
       "                                            (Intr) mn_ln_ duratn grpng3 grp3LD\n",
       "mean_lnage_ctr                              -0.156                            \n",
       "duration                                     0.081 -0.013                     \n",
       "grouping3earlytrunc                         -0.679  0.106 -0.055              \n",
       "grouping3LargeDel                           -0.684  0.107 -0.055  0.464       \n",
       "grouping3R106W                              -0.454  0.071 -0.037  0.309  0.311\n",
       "grouping3R133C                              -0.610  0.095 -0.049  0.414  0.417\n",
       "grouping3R168X                              -0.710  0.111 -0.058  0.482  0.486\n",
       "grouping3R255X                              -0.696  0.109 -0.056  0.473  0.476\n",
       "grouping3R270X                              -0.601  0.094 -0.049  0.408  0.411\n",
       "grouping3R294X                              -0.557  0.087 -0.045  0.379  0.381\n",
       "grouping3R306C                              -0.663  0.103 -0.054  0.450  0.453\n",
       "grouping3T158M                              -0.710  0.111 -0.057  0.482  0.485\n",
       "mean_lnage_ctr:duration                     -0.009  0.061  0.302  0.006  0.006\n",
       "mean_lnage_ctr:grouping3earlytrunc           0.111 -0.711  0.009 -0.028 -0.076\n",
       "mean_lnage_ctr:grouping3LargeDel             0.110 -0.702  0.009 -0.074 -0.089\n",
       "mean_lnage_ctr:grouping3R106W                0.067 -0.428  0.005 -0.045 -0.046\n",
       "mean_lnage_ctr:grouping3R133C                0.098 -0.626  0.008 -0.066 -0.067\n",
       "mean_lnage_ctr:grouping3R168X                0.119 -0.760  0.010 -0.081 -0.081\n",
       "mean_lnage_ctr:grouping3R255X                0.111 -0.709  0.009 -0.075 -0.076\n",
       "mean_lnage_ctr:grouping3R270X                0.095 -0.610  0.008 -0.065 -0.065\n",
       "mean_lnage_ctr:grouping3R294X                0.087 -0.558  0.007 -0.059 -0.059\n",
       "mean_lnage_ctr:grouping3R306C                0.098 -0.625  0.008 -0.066 -0.067\n",
       "mean_lnage_ctr:grouping3T158M                0.115 -0.738  0.009 -0.078 -0.079\n",
       "duration:grouping3earlytrunc                -0.056  0.009 -0.689  0.082  0.038\n",
       "duration:grouping3LargeDel                  -0.055  0.009 -0.680  0.037  0.081\n",
       "duration:grouping3R106W                     -0.043  0.007 -0.530  0.029  0.029\n",
       "duration:grouping3R133C                     -0.050  0.008 -0.620  0.034  0.034\n",
       "duration:grouping3R168X                     -0.059  0.009 -0.724  0.040  0.040\n",
       "duration:grouping3R255X                     -0.059  0.009 -0.727  0.040  0.040\n",
       "duration:grouping3R270X                     -0.048  0.007 -0.594  0.033  0.033\n",
       "duration:grouping3R294X                     -0.045  0.007 -0.561  0.031  0.031\n",
       "duration:grouping3R306C                     -0.058  0.009 -0.719  0.040  0.040\n",
       "duration:grouping3T158M                     -0.058  0.009 -0.714  0.039  0.040\n",
       "mean_lnage_ctr:duration:grouping3earlytrunc  0.007 -0.047 -0.233 -0.002 -0.005\n",
       "mean_lnage_ctr:duration:grouping3LargeDel    0.007 -0.043 -0.211 -0.004 -0.005\n",
       "mean_lnage_ctr:duration:grouping3R106W       0.005 -0.033 -0.166 -0.004 -0.004\n",
       "mean_lnage_ctr:duration:grouping3R133C       0.006 -0.038 -0.186 -0.004 -0.004\n",
       "mean_lnage_ctr:duration:grouping3R168X       0.007 -0.048 -0.236 -0.005 -0.005\n",
       "mean_lnage_ctr:duration:grouping3R255X       0.007 -0.048 -0.236 -0.005 -0.005\n",
       "mean_lnage_ctr:duration:grouping3R270X       0.006 -0.038 -0.189 -0.004 -0.004\n",
       "mean_lnage_ctr:duration:grouping3R294X       0.005 -0.033 -0.163 -0.003 -0.003\n",
       "mean_lnage_ctr:duration:grouping3R306C       0.006 -0.041 -0.203 -0.004 -0.004\n",
       "mean_lnage_ctr:duration:grouping3T158M       0.007 -0.046 -0.227 -0.005 -0.005\n",
       "                                            g3R106 g3R133 g3R168 g3R255 g3R270\n",
       "mean_lnage_ctr                                                                \n",
       "duration                                                                      \n",
       "grouping3earlytrunc                                                           \n",
       "grouping3LargeDel                                                             \n",
       "grouping3R106W                                                                \n",
       "grouping3R133C                               0.277                            \n",
       "grouping3R168X                               0.323  0.433                     \n",
       "grouping3R255X                               0.316  0.424  0.494              \n",
       "grouping3R270X                               0.273  0.366  0.427  0.418       \n",
       "grouping3R294X                               0.253  0.340  0.396  0.388  0.335\n",
       "grouping3R306C                               0.301  0.404  0.471  0.461  0.399\n",
       "grouping3T158M                               0.322  0.433  0.504  0.494  0.427\n",
       "mean_lnage_ctr:duration                      0.004  0.006  0.007  0.007  0.006\n",
       "mean_lnage_ctr:grouping3earlytrunc          -0.050 -0.068 -0.079 -0.077 -0.067\n",
       "mean_lnage_ctr:grouping3LargeDel            -0.050 -0.067 -0.078 -0.076 -0.066\n",
       "mean_lnage_ctr:grouping3R106W                0.276 -0.041 -0.047 -0.046 -0.040\n",
       "mean_lnage_ctr:grouping3R133C               -0.044 -0.090 -0.069 -0.068 -0.059\n",
       "mean_lnage_ctr:grouping3R168X               -0.054 -0.072 -0.009 -0.082 -0.071\n",
       "mean_lnage_ctr:grouping3R255X               -0.050 -0.067 -0.079 -0.002 -0.066\n",
       "mean_lnage_ctr:grouping3R270X               -0.043 -0.058 -0.068 -0.066  0.021\n",
       "mean_lnage_ctr:grouping3R294X               -0.040 -0.053 -0.062 -0.061 -0.052\n",
       "mean_lnage_ctr:grouping3R306C               -0.044 -0.059 -0.069 -0.068 -0.059\n",
       "mean_lnage_ctr:grouping3T158M               -0.052 -0.070 -0.082 -0.080 -0.069\n",
       "duration:grouping3earlytrunc                 0.025  0.034  0.040  0.039  0.034\n",
       "duration:grouping3LargeDel                   0.025  0.034  0.039  0.038  0.033\n",
       "duration:grouping3R106W                      0.094  0.026  0.030  0.030  0.026\n",
       "duration:grouping3R133C                      0.023  0.082  0.036  0.035  0.030\n",
       "duration:grouping3R168X                      0.027  0.036  0.083  0.041  0.035\n",
       "duration:grouping3R255X                      0.027  0.036  0.042  0.085  0.035\n",
       "duration:grouping3R270X                      0.022  0.029  0.034  0.033  0.080\n",
       "duration:grouping3R294X                      0.021  0.028  0.032  0.032  0.027\n",
       "duration:grouping3R306C                      0.026  0.035  0.041  0.040  0.035\n",
       "duration:grouping3T158M                      0.026  0.035  0.041  0.040  0.035\n",
       "mean_lnage_ctr:duration:grouping3earlytrunc -0.003 -0.004 -0.005 -0.005 -0.004\n",
       "mean_lnage_ctr:duration:grouping3LargeDel   -0.003 -0.004 -0.005 -0.005 -0.004\n",
       "mean_lnage_ctr:duration:grouping3R106W       0.021 -0.003 -0.004 -0.004 -0.003\n",
       "mean_lnage_ctr:duration:grouping3R133C      -0.003 -0.006 -0.004 -0.004 -0.004\n",
       "mean_lnage_ctr:duration:grouping3R168X      -0.003 -0.005  0.000 -0.005 -0.004\n",
       "mean_lnage_ctr:duration:grouping3R255X      -0.003 -0.005 -0.005  0.000 -0.004\n",
       "mean_lnage_ctr:duration:grouping3R270X      -0.003 -0.004 -0.004 -0.004  0.001\n",
       "mean_lnage_ctr:duration:grouping3R294X      -0.002 -0.003 -0.004 -0.004 -0.003\n",
       "mean_lnage_ctr:duration:grouping3R306C      -0.003 -0.004 -0.005 -0.004 -0.004\n",
       "mean_lnage_ctr:duration:grouping3T158M      -0.003 -0.004 -0.005 -0.005 -0.004\n",
       "                                            g3R294 g3R306 g3T158 mn_l_: mn__:3\n",
       "mean_lnage_ctr                                                                \n",
       "duration                                                                      \n",
       "grouping3earlytrunc                                                           \n",
       "grouping3LargeDel                                                             \n",
       "grouping3R106W                                                                \n",
       "grouping3R133C                                                                \n",
       "grouping3R168X                                                                \n",
       "grouping3R255X                                                                \n",
       "grouping3R270X                                                                \n",
       "grouping3R294X                                                                \n",
       "grouping3R306C                               0.370                            \n",
       "grouping3T158M                               0.396  0.471                     \n",
       "mean_lnage_ctr:duration                      0.005  0.006  0.007              \n",
       "mean_lnage_ctr:grouping3earlytrunc          -0.062 -0.074 -0.079 -0.043       \n",
       "mean_lnage_ctr:grouping3LargeDel            -0.061 -0.073 -0.078 -0.043  0.499\n",
       "mean_lnage_ctr:grouping3R106W               -0.037 -0.044 -0.047 -0.026  0.304\n",
       "mean_lnage_ctr:grouping3R133C               -0.054 -0.065 -0.069 -0.038  0.445\n",
       "mean_lnage_ctr:grouping3R168X               -0.066 -0.079 -0.084 -0.046  0.540\n",
       "mean_lnage_ctr:grouping3R255X               -0.062 -0.073 -0.079 -0.043  0.504\n",
       "mean_lnage_ctr:grouping3R270X               -0.053 -0.063 -0.068 -0.037  0.434\n",
       "mean_lnage_ctr:grouping3R294X               -0.344 -0.058 -0.062 -0.034  0.396\n",
       "mean_lnage_ctr:grouping3R306C               -0.054 -0.104 -0.069 -0.038  0.444\n",
       "mean_lnage_ctr:grouping3T158M               -0.064 -0.076 -0.129 -0.045  0.525\n",
       "duration:grouping3earlytrunc                 0.031  0.037  0.040 -0.208 -0.002\n",
       "duration:grouping3LargeDel                   0.031  0.036  0.039 -0.206 -0.006\n",
       "duration:grouping3R106W                      0.024  0.028  0.030 -0.160 -0.005\n",
       "duration:grouping3R133C                      0.028  0.033  0.036 -0.187 -0.006\n",
       "duration:grouping3R168X                      0.033  0.039  0.042 -0.219 -0.006\n",
       "duration:grouping3R255X                      0.033  0.039  0.042 -0.220 -0.007\n",
       "duration:grouping3R270X                      0.027  0.032  0.034 -0.180 -0.005\n",
       "duration:grouping3R294X                      0.081  0.030  0.032 -0.170 -0.005\n",
       "duration:grouping3R306C                      0.032  0.088  0.041 -0.217 -0.006\n",
       "duration:grouping3T158M                      0.032  0.038  0.081 -0.216 -0.006\n",
       "mean_lnage_ctr:duration:grouping3earlytrunc -0.004 -0.005 -0.005 -0.769  0.066\n",
       "mean_lnage_ctr:duration:grouping3LargeDel   -0.004 -0.004 -0.005 -0.697  0.030\n",
       "mean_lnage_ctr:duration:grouping3R106W      -0.003 -0.003 -0.004 -0.548  0.024\n",
       "mean_lnage_ctr:duration:grouping3R133C      -0.003 -0.004 -0.004 -0.615  0.027\n",
       "mean_lnage_ctr:duration:grouping3R168X      -0.004 -0.005 -0.005 -0.781  0.034\n",
       "mean_lnage_ctr:duration:grouping3R255X      -0.004 -0.005 -0.005 -0.780  0.034\n",
       "mean_lnage_ctr:duration:grouping3R270X      -0.003 -0.004 -0.004 -0.624  0.027\n",
       "mean_lnage_ctr:duration:grouping3R294X      -0.020 -0.003 -0.004 -0.538  0.023\n",
       "mean_lnage_ctr:duration:grouping3R306C      -0.004 -0.007 -0.005 -0.671  0.029\n",
       "mean_lnage_ctr:duration:grouping3T158M      -0.004 -0.005 -0.008 -0.751  0.033\n",
       "                                            m__:3L m__:3R10 m__:3R13 m__:3R16\n",
       "mean_lnage_ctr                                                               \n",
       "duration                                                                     \n",
       "grouping3earlytrunc                                                          \n",
       "grouping3LargeDel                                                            \n",
       "grouping3R106W                                                               \n",
       "grouping3R133C                                                               \n",
       "grouping3R168X                                                               \n",
       "grouping3R255X                                                               \n",
       "grouping3R270X                                                               \n",
       "grouping3R294X                                                               \n",
       "grouping3R306C                                                               \n",
       "grouping3T158M                                                               \n",
       "mean_lnage_ctr:duration                                                      \n",
       "mean_lnage_ctr:grouping3earlytrunc                                           \n",
       "mean_lnage_ctr:grouping3LargeDel                                             \n",
       "mean_lnage_ctr:grouping3R106W                0.300                           \n",
       "mean_lnage_ctr:grouping3R133C                0.439  0.268                    \n",
       "mean_lnage_ctr:grouping3R168X                0.533  0.325    0.475           \n",
       "mean_lnage_ctr:grouping3R255X                0.498  0.303    0.444    0.539  \n",
       "mean_lnage_ctr:grouping3R270X                0.428  0.261    0.382    0.464  \n",
       "mean_lnage_ctr:grouping3R294X                0.392  0.239    0.349    0.424  \n",
       "mean_lnage_ctr:grouping3R306C                0.439  0.267    0.391    0.475  \n",
       "mean_lnage_ctr:grouping3T158M                0.518  0.316    0.462    0.561  \n",
       "duration:grouping3earlytrunc                -0.006 -0.004   -0.005   -0.007  \n",
       "duration:grouping3LargeDel                  -0.007 -0.004   -0.005   -0.007  \n",
       "duration:grouping3R106W                     -0.005  0.026   -0.004   -0.005  \n",
       "duration:grouping3R133C                     -0.005 -0.003   -0.008   -0.006  \n",
       "duration:grouping3R168X                     -0.006 -0.004   -0.006   -0.001  \n",
       "duration:grouping3R255X                     -0.006 -0.004   -0.006   -0.007  \n",
       "duration:grouping3R270X                     -0.005 -0.003   -0.005   -0.006  \n",
       "duration:grouping3R294X                     -0.005 -0.003   -0.004   -0.005  \n",
       "duration:grouping3R306C                     -0.006 -0.004   -0.006   -0.007  \n",
       "duration:grouping3T158M                     -0.006 -0.004   -0.006   -0.007  \n",
       "mean_lnage_ctr:duration:grouping3earlytrunc  0.033  0.020    0.029    0.036  \n",
       "mean_lnage_ctr:duration:grouping3LargeDel    0.061  0.018    0.027    0.032  \n",
       "mean_lnage_ctr:duration:grouping3R106W       0.023  0.078    0.021    0.025  \n",
       "mean_lnage_ctr:duration:grouping3R133C       0.026  0.016    0.060    0.029  \n",
       "mean_lnage_ctr:duration:grouping3R168X       0.033  0.020    0.030    0.063  \n",
       "mean_lnage_ctr:duration:grouping3R255X       0.033  0.020    0.030    0.036  \n",
       "mean_lnage_ctr:duration:grouping3R270X       0.027  0.016    0.024    0.029  \n",
       "mean_lnage_ctr:duration:grouping3R294X       0.023  0.014    0.021    0.025  \n",
       "mean_lnage_ctr:duration:grouping3R306C       0.029  0.018    0.026    0.031  \n",
       "mean_lnage_ctr:duration:grouping3T158M       0.032  0.020    0.029    0.035  \n",
       "                                            m__:3R25 m__:3R27 m__:3R29 m__:3R3\n",
       "mean_lnage_ctr                                                                \n",
       "duration                                                                      \n",
       "grouping3earlytrunc                                                           \n",
       "grouping3LargeDel                                                             \n",
       "grouping3R106W                                                                \n",
       "grouping3R133C                                                                \n",
       "grouping3R168X                                                                \n",
       "grouping3R255X                                                                \n",
       "grouping3R270X                                                                \n",
       "grouping3R294X                                                                \n",
       "grouping3R306C                                                                \n",
       "grouping3T158M                                                                \n",
       "mean_lnage_ctr:duration                                                       \n",
       "mean_lnage_ctr:grouping3earlytrunc                                            \n",
       "mean_lnage_ctr:grouping3LargeDel                                              \n",
       "mean_lnage_ctr:grouping3R106W                                                 \n",
       "mean_lnage_ctr:grouping3R133C                                                 \n",
       "mean_lnage_ctr:grouping3R168X                                                 \n",
       "mean_lnage_ctr:grouping3R255X                                                 \n",
       "mean_lnage_ctr:grouping3R270X                0.433                            \n",
       "mean_lnage_ctr:grouping3R294X                0.395    0.340                   \n",
       "mean_lnage_ctr:grouping3R306C                0.443    0.381    0.348          \n",
       "mean_lnage_ctr:grouping3T158M                0.523    0.450    0.412    0.461 \n",
       "duration:grouping3earlytrunc                -0.006   -0.005   -0.005   -0.005 \n",
       "duration:grouping3LargeDel                  -0.006   -0.005   -0.005   -0.005 \n",
       "duration:grouping3R106W                     -0.005   -0.004   -0.004   -0.004 \n",
       "duration:grouping3R133C                     -0.006   -0.005   -0.004   -0.005 \n",
       "duration:grouping3R168X                     -0.006   -0.006   -0.005   -0.006 \n",
       "duration:grouping3R255X                      0.000   -0.006   -0.005   -0.006 \n",
       "duration:grouping3R270X                     -0.005    0.001   -0.004   -0.005 \n",
       "duration:grouping3R294X                     -0.005   -0.004   -0.027   -0.004 \n",
       "duration:grouping3R306C                     -0.006   -0.006   -0.005   -0.009 \n",
       "duration:grouping3T158M                     -0.006   -0.005   -0.005   -0.006 \n",
       "mean_lnage_ctr:duration:grouping3earlytrunc  0.033    0.029    0.026    0.029 \n",
       "mean_lnage_ctr:duration:grouping3LargeDel    0.030    0.026    0.024    0.027 \n",
       "mean_lnage_ctr:duration:grouping3R106W       0.024    0.020    0.019    0.021 \n",
       "mean_lnage_ctr:duration:grouping3R133C       0.027    0.023    0.021    0.023 \n",
       "mean_lnage_ctr:duration:grouping3R168X       0.034    0.029    0.027    0.030 \n",
       "mean_lnage_ctr:duration:grouping3R255X       0.067    0.029    0.027    0.030 \n",
       "mean_lnage_ctr:duration:grouping3R270X       0.027    0.062    0.021    0.024 \n",
       "mean_lnage_ctr:duration:grouping3R294X       0.023    0.020    0.058    0.021 \n",
       "mean_lnage_ctr:duration:grouping3R306C       0.029    0.025    0.023    0.065 \n",
       "mean_lnage_ctr:duration:grouping3T158M       0.032    0.028    0.026    0.029 \n",
       "                                            m__:3T drtn:3 dr:3LD d:3R10 d:3R13\n",
       "mean_lnage_ctr                                                                \n",
       "duration                                                                      \n",
       "grouping3earlytrunc                                                           \n",
       "grouping3LargeDel                                                             \n",
       "grouping3R106W                                                                \n",
       "grouping3R133C                                                                \n",
       "grouping3R168X                                                                \n",
       "grouping3R255X                                                                \n",
       "grouping3R270X                                                                \n",
       "grouping3R294X                                                                \n",
       "grouping3R306C                                                                \n",
       "grouping3T158M                                                                \n",
       "mean_lnage_ctr:duration                                                       \n",
       "mean_lnage_ctr:grouping3earlytrunc                                            \n",
       "mean_lnage_ctr:grouping3LargeDel                                              \n",
       "mean_lnage_ctr:grouping3R106W                                                 \n",
       "mean_lnage_ctr:grouping3R133C                                                 \n",
       "mean_lnage_ctr:grouping3R168X                                                 \n",
       "mean_lnage_ctr:grouping3R255X                                                 \n",
       "mean_lnage_ctr:grouping3R270X                                                 \n",
       "mean_lnage_ctr:grouping3R294X                                                 \n",
       "mean_lnage_ctr:grouping3R306C                                                 \n",
       "mean_lnage_ctr:grouping3T158M                                                 \n",
       "duration:grouping3earlytrunc                -0.006                            \n",
       "duration:grouping3LargeDel                  -0.006  0.468                     \n",
       "duration:grouping3R106W                     -0.005  0.365  0.360              \n",
       "duration:grouping3R133C                     -0.006  0.427  0.421  0.328       \n",
       "duration:grouping3R168X                     -0.007  0.499  0.492  0.384  0.449\n",
       "duration:grouping3R255X                     -0.007  0.501  0.494  0.385  0.450\n",
       "duration:grouping3R270X                     -0.006  0.410  0.404  0.315  0.368\n",
       "duration:grouping3R294X                     -0.005  0.387  0.382  0.297  0.348\n",
       "duration:grouping3R306C                     -0.007  0.495  0.489  0.381  0.445\n",
       "duration:grouping3T158M                     -0.010  0.492  0.485  0.378  0.442\n",
       "mean_lnage_ctr:duration:grouping3earlytrunc  0.035  0.402  0.158  0.123  0.144\n",
       "mean_lnage_ctr:duration:grouping3LargeDel    0.031  0.145  0.394  0.112  0.131\n",
       "mean_lnage_ctr:duration:grouping3R106W       0.025  0.114  0.113  0.484  0.103\n",
       "mean_lnage_ctr:duration:grouping3R133C       0.028  0.128  0.127  0.099  0.298\n",
       "mean_lnage_ctr:duration:grouping3R168X       0.035  0.163  0.161  0.125  0.146\n",
       "mean_lnage_ctr:duration:grouping3R255X       0.035  0.162  0.160  0.125  0.146\n",
       "mean_lnage_ctr:duration:grouping3R270X       0.028  0.130  0.128  0.100  0.117\n",
       "mean_lnage_ctr:duration:grouping3R294X       0.024  0.112  0.111  0.086  0.101\n",
       "mean_lnage_ctr:duration:grouping3R306C       0.030  0.140  0.138  0.107  0.126\n",
       "mean_lnage_ctr:duration:grouping3T158M       0.062  0.157  0.154  0.120  0.141\n",
       "                                            d:3R16 d:3R25 d:3R27 d:3R29 d:3R30\n",
       "mean_lnage_ctr                                                                \n",
       "duration                                                                      \n",
       "grouping3earlytrunc                                                           \n",
       "grouping3LargeDel                                                             \n",
       "grouping3R106W                                                                \n",
       "grouping3R133C                                                                \n",
       "grouping3R168X                                                                \n",
       "grouping3R255X                                                                \n",
       "grouping3R270X                                                                \n",
       "grouping3R294X                                                                \n",
       "grouping3R306C                                                                \n",
       "grouping3T158M                                                                \n",
       "mean_lnage_ctr:duration                                                       \n",
       "mean_lnage_ctr:grouping3earlytrunc                                            \n",
       "mean_lnage_ctr:grouping3LargeDel                                              \n",
       "mean_lnage_ctr:grouping3R106W                                                 \n",
       "mean_lnage_ctr:grouping3R133C                                                 \n",
       "mean_lnage_ctr:grouping3R168X                                                 \n",
       "mean_lnage_ctr:grouping3R255X                                                 \n",
       "mean_lnage_ctr:grouping3R270X                                                 \n",
       "mean_lnage_ctr:grouping3R294X                                                 \n",
       "mean_lnage_ctr:grouping3R306C                                                 \n",
       "mean_lnage_ctr:grouping3T158M                                                 \n",
       "duration:grouping3earlytrunc                                                  \n",
       "duration:grouping3LargeDel                                                    \n",
       "duration:grouping3R106W                                                       \n",
       "duration:grouping3R133C                                                       \n",
       "duration:grouping3R168X                                                       \n",
       "duration:grouping3R255X                      0.527                            \n",
       "duration:grouping3R270X                      0.431  0.432                     \n",
       "duration:grouping3R294X                      0.407  0.408  0.334              \n",
       "duration:grouping3R306C                      0.521  0.523  0.427  0.404       \n",
       "duration:grouping3T158M                      0.517  0.519  0.424  0.401  0.513\n",
       "mean_lnage_ctr:duration:grouping3earlytrunc  0.168  0.169  0.138  0.131  0.167\n",
       "mean_lnage_ctr:duration:grouping3LargeDel    0.153  0.153  0.125  0.118  0.152\n",
       "mean_lnage_ctr:duration:grouping3R106W       0.120  0.121  0.099  0.093  0.119\n",
       "mean_lnage_ctr:duration:grouping3R133C       0.135  0.135  0.111  0.105  0.134\n",
       "mean_lnage_ctr:duration:grouping3R168X       0.388  0.172  0.140  0.133  0.170\n",
       "mean_lnage_ctr:duration:grouping3R255X       0.171  0.388  0.140  0.132  0.169\n",
       "mean_lnage_ctr:duration:grouping3R270X       0.137  0.137  0.451  0.106  0.136\n",
       "mean_lnage_ctr:duration:grouping3R294X       0.118  0.118  0.097  0.013  0.117\n",
       "mean_lnage_ctr:duration:grouping3R306C       0.147  0.148  0.121  0.114  0.246\n",
       "mean_lnage_ctr:duration:grouping3T158M       0.165  0.165  0.135  0.128  0.163\n",
       "                                            d:3T15 mn__::3 m__::3L m__::3R10\n",
       "mean_lnage_ctr                                                              \n",
       "duration                                                                    \n",
       "grouping3earlytrunc                                                         \n",
       "grouping3LargeDel                                                           \n",
       "grouping3R106W                                                              \n",
       "grouping3R133C                                                              \n",
       "grouping3R168X                                                              \n",
       "grouping3R255X                                                              \n",
       "grouping3R270X                                                              \n",
       "grouping3R294X                                                              \n",
       "grouping3R306C                                                              \n",
       "grouping3T158M                                                              \n",
       "mean_lnage_ctr:duration                                                     \n",
       "mean_lnage_ctr:grouping3earlytrunc                                          \n",
       "mean_lnage_ctr:grouping3LargeDel                                            \n",
       "mean_lnage_ctr:grouping3R106W                                               \n",
       "mean_lnage_ctr:grouping3R133C                                               \n",
       "mean_lnage_ctr:grouping3R168X                                               \n",
       "mean_lnage_ctr:grouping3R255X                                               \n",
       "mean_lnage_ctr:grouping3R270X                                               \n",
       "mean_lnage_ctr:grouping3R294X                                               \n",
       "mean_lnage_ctr:grouping3R306C                                               \n",
       "mean_lnage_ctr:grouping3T158M                                               \n",
       "duration:grouping3earlytrunc                                                \n",
       "duration:grouping3LargeDel                                                  \n",
       "duration:grouping3R106W                                                     \n",
       "duration:grouping3R133C                                                     \n",
       "duration:grouping3R168X                                                     \n",
       "duration:grouping3R255X                                                     \n",
       "duration:grouping3R270X                                                     \n",
       "duration:grouping3R294X                                                     \n",
       "duration:grouping3R306C                                                     \n",
       "duration:grouping3T158M                                                     \n",
       "mean_lnage_ctr:duration:grouping3earlytrunc  0.166                          \n",
       "mean_lnage_ctr:duration:grouping3LargeDel    0.151  0.536                   \n",
       "mean_lnage_ctr:duration:grouping3R106W       0.118  0.422   0.382           \n",
       "mean_lnage_ctr:duration:grouping3R133C       0.133  0.473   0.429   0.337   \n",
       "mean_lnage_ctr:duration:grouping3R168X       0.169  0.601   0.545   0.428   \n",
       "mean_lnage_ctr:duration:grouping3R255X       0.168  0.599   0.544   0.427   \n",
       "mean_lnage_ctr:duration:grouping3R270X       0.135  0.479   0.435   0.342   \n",
       "mean_lnage_ctr:duration:grouping3R294X       0.116  0.413   0.375   0.295   \n",
       "mean_lnage_ctr:duration:grouping3R306C       0.145  0.516   0.468   0.368   \n",
       "mean_lnage_ctr:duration:grouping3T158M       0.325  0.577   0.524   0.412   \n",
       "                                            m__::3R13 m__::3R16 m__::3R25\n",
       "mean_lnage_ctr                                                           \n",
       "duration                                                                 \n",
       "grouping3earlytrunc                                                      \n",
       "grouping3LargeDel                                                        \n",
       "grouping3R106W                                                           \n",
       "grouping3R133C                                                           \n",
       "grouping3R168X                                                           \n",
       "grouping3R255X                                                           \n",
       "grouping3R270X                                                           \n",
       "grouping3R294X                                                           \n",
       "grouping3R306C                                                           \n",
       "grouping3T158M                                                           \n",
       "mean_lnage_ctr:duration                                                  \n",
       "mean_lnage_ctr:grouping3earlytrunc                                       \n",
       "mean_lnage_ctr:grouping3LargeDel                                         \n",
       "mean_lnage_ctr:grouping3R106W                                            \n",
       "mean_lnage_ctr:grouping3R133C                                            \n",
       "mean_lnage_ctr:grouping3R168X                                            \n",
       "mean_lnage_ctr:grouping3R255X                                            \n",
       "mean_lnage_ctr:grouping3R270X                                            \n",
       "mean_lnage_ctr:grouping3R294X                                            \n",
       "mean_lnage_ctr:grouping3R306C                                            \n",
       "mean_lnage_ctr:grouping3T158M                                            \n",
       "duration:grouping3earlytrunc                                             \n",
       "duration:grouping3LargeDel                                               \n",
       "duration:grouping3R106W                                                  \n",
       "duration:grouping3R133C                                                  \n",
       "duration:grouping3R168X                                                  \n",
       "duration:grouping3R255X                                                  \n",
       "duration:grouping3R270X                                                  \n",
       "duration:grouping3R294X                                                  \n",
       "duration:grouping3R306C                                                  \n",
       "duration:grouping3T158M                                                  \n",
       "mean_lnage_ctr:duration:grouping3earlytrunc                              \n",
       "mean_lnage_ctr:duration:grouping3LargeDel                                \n",
       "mean_lnage_ctr:duration:grouping3R106W                                   \n",
       "mean_lnage_ctr:duration:grouping3R133C                                   \n",
       "mean_lnage_ctr:duration:grouping3R168X       0.481                       \n",
       "mean_lnage_ctr:duration:grouping3R255X       0.480     0.609             \n",
       "mean_lnage_ctr:duration:grouping3R270X       0.384     0.487     0.486   \n",
       "mean_lnage_ctr:duration:grouping3R294X       0.331     0.420     0.419   \n",
       "mean_lnage_ctr:duration:grouping3R306C       0.413     0.524     0.523   \n",
       "mean_lnage_ctr:duration:grouping3T158M       0.462     0.587     0.585   \n",
       "                                            m__::3R27 m__::3R29 m__::3R3\n",
       "mean_lnage_ctr                                                          \n",
       "duration                                                                \n",
       "grouping3earlytrunc                                                     \n",
       "grouping3LargeDel                                                       \n",
       "grouping3R106W                                                          \n",
       "grouping3R133C                                                          \n",
       "grouping3R168X                                                          \n",
       "grouping3R255X                                                          \n",
       "grouping3R270X                                                          \n",
       "grouping3R294X                                                          \n",
       "grouping3R306C                                                          \n",
       "grouping3T158M                                                          \n",
       "mean_lnage_ctr:duration                                                 \n",
       "mean_lnage_ctr:grouping3earlytrunc                                      \n",
       "mean_lnage_ctr:grouping3LargeDel                                        \n",
       "mean_lnage_ctr:grouping3R106W                                           \n",
       "mean_lnage_ctr:grouping3R133C                                           \n",
       "mean_lnage_ctr:grouping3R168X                                           \n",
       "mean_lnage_ctr:grouping3R255X                                           \n",
       "mean_lnage_ctr:grouping3R270X                                           \n",
       "mean_lnage_ctr:grouping3R294X                                           \n",
       "mean_lnage_ctr:grouping3R306C                                           \n",
       "mean_lnage_ctr:grouping3T158M                                           \n",
       "duration:grouping3earlytrunc                                            \n",
       "duration:grouping3LargeDel                                              \n",
       "duration:grouping3R106W                                                 \n",
       "duration:grouping3R133C                                                 \n",
       "duration:grouping3R168X                                                 \n",
       "duration:grouping3R255X                                                 \n",
       "duration:grouping3R270X                                                 \n",
       "duration:grouping3R294X                                                 \n",
       "duration:grouping3R306C                                                 \n",
       "duration:grouping3T158M                                                 \n",
       "mean_lnage_ctr:duration:grouping3earlytrunc                             \n",
       "mean_lnage_ctr:duration:grouping3LargeDel                               \n",
       "mean_lnage_ctr:duration:grouping3R106W                                  \n",
       "mean_lnage_ctr:duration:grouping3R133C                                  \n",
       "mean_lnage_ctr:duration:grouping3R168X                                  \n",
       "mean_lnage_ctr:duration:grouping3R255X                                  \n",
       "mean_lnage_ctr:duration:grouping3R270X                                  \n",
       "mean_lnage_ctr:duration:grouping3R294X       0.335                      \n",
       "mean_lnage_ctr:duration:grouping3R306C       0.418     0.361            \n",
       "mean_lnage_ctr:duration:grouping3T158M       0.468     0.404     0.504  \n",
       "\n",
       "Standardized Within-Group Residuals:\n",
       "        Min          Q1         Med          Q3         Max \n",
       "-3.56020953 -0.54194267 -0.04647267  0.47761403  5.20290481 \n",
       "\n",
       "Number of Observations: 5469\n",
       "Number of Groups: 1003 "
      ]
     },
     "metadata": {},
     "output_type": "display_data"
    }
   ],
   "source": [
    "summary(log_decomp)"
   ]
  },
  {
   "cell_type": "code",
   "execution_count": 27,
   "id": "e1ab8ba3",
   "metadata": {},
   "outputs": [],
   "source": [
    "#prediction of fixed effects\n",
    "time <- seq(2,25, by = 0.1)\n",
    "fixed_pred <- mecp2_pos25 %>% ungroup() %>% select(grouping3) %>% unique()\n",
    "fixed_pred <- fixed_pred %>% group_by(grouping3) %>% tidyr::expand(age = time) %>% ungroup\n",
    "fixed_pred$lnage <- log(fixed_pred$age)\n",
    "fixed_pred$mean_lnage <- mean(log(time))\n",
    "fixed_pred$mean_lnage_ctr <- 0\n",
    "fixed_pred$duration <- fixed_pred$lnage - fixed_pred$mean_lnage"
   ]
  },
  {
   "cell_type": "code",
   "execution_count": 28,
   "id": "f79c0194",
   "metadata": {},
   "outputs": [],
   "source": [
    "fixed_pred$pred <- predict(log_decomp, fixed_pred, level=0)"
   ]
  },
  {
   "cell_type": "code",
   "execution_count": 29,
   "id": "821edcf6",
   "metadata": {},
   "outputs": [],
   "source": [
    "#logtime decomp model without inclusion of genotype for general modeling \n",
    "log_decomp_general <- lme(fixed = total_score_clean ~ mean_lnage_ctr*duration, \n",
    "             random = ~duration|participant_id,\n",
    "             data = mecp2_decomp,\n",
    "             correlation = corAR1(form = ~1|participant_id),\n",
    "             method = \"ML\")"
   ]
  },
  {
   "cell_type": "code",
   "execution_count": 30,
   "id": "91266c0f",
   "metadata": {},
   "outputs": [],
   "source": [
    "#prediction of fixed effects\n",
    "time <- seq(2,25, by = 0.1)\n",
    "fixed_pred_general <- as.data.frame(time)\n",
    "colnames(fixed_pred_general) <- c('age')\n",
    "fixed_pred_general$lnage <- log(fixed_pred_general$age)\n",
    "fixed_pred_general$mean_lnage <- mean(log(time))\n",
    "fixed_pred_general$mean_lnage_ctr <- 0\n",
    "fixed_pred_general$duration <- fixed_pred_general$lnage - fixed_pred_general$mean_lnage"
   ]
  },
  {
   "cell_type": "code",
   "execution_count": 31,
   "id": "19da8198",
   "metadata": {},
   "outputs": [],
   "source": [
    "fixed_pred_general$pred <- predict(log_decomp_general, fixed_pred_general, level=0)"
   ]
  },
  {
   "cell_type": "code",
   "execution_count": 32,
   "id": "e44598f6",
   "metadata": {},
   "outputs": [
    {
     "name": "stderr",
     "output_type": "stream",
     "text": [
      "\u001b[1m\u001b[22m`geom_smooth()` using method = 'loess' and formula = 'y ~ x'\n",
      "\u001b[1m\u001b[22m`geom_smooth()` using method = 'loess' and formula = 'y ~ x'\n"
     ]
    },
    {
     "data": {
      "text/html": [
       "<strong>png:</strong> 2"
      ],
      "text/latex": [
       "\\textbf{png:} 2"
      ],
      "text/markdown": [
       "**png:** 2"
      ],
      "text/plain": [
       "png \n",
       "  2 "
      ]
     },
     "metadata": {},
     "output_type": "display_data"
    },
    {
     "name": "stderr",
     "output_type": "stream",
     "text": [
      "\u001b[1m\u001b[22m`geom_smooth()` using method = 'loess' and formula = 'y ~ x'\n",
      "\u001b[1m\u001b[22m`geom_smooth()` using method = 'loess' and formula = 'y ~ x'\n"
     ]
    },
    {
     "data": {
      "image/png": "[encoded data removed]",
      "text/plain": [
       "plot without title"
      ]
     },
     "metadata": {
      "image/png": {
       "height": 420,
       "width": 420
      }
     },
     "output_type": "display_data"
    }
   ],
   "source": [
    "#col_pal <- unname(piratepal('xmen', length.out = 8))\n",
    "#col_pal <-c(\"#999999\", \"#E69F00\", \"#56B4E9\", \"#009E73\", \n",
    " #          \"#F0E442\", \"#0072B2\", \"#D55E00\", \"#CC79A7\")\n",
    "#cbp1 <- c(\"#999999\", \"#E69F00\", \"#56B4E9\", \"#009E73\",\n",
    " #         \"#F0E442\", \"#0072B2\", \"#D55E00\", \"#CC79A7\")\n",
    "\n",
    "\n",
    "My_Theme = theme(\n",
    "  axis.title.x = element_text(size = 30, face=\"bold\", color = \"black\"),\n",
    "  axis.text.x = element_text(size = 30, face=\"bold\", color = \"black\"),\n",
    "  axis.title.y = element_text(size = 30, face=\"bold\", color = \"black\"),\n",
    "  axis.text.y = element_text(size = 30, face=\"bold\", color = \"black\"),  \n",
    "  axis.line = element_line(size = 2, color = \"black\"),\n",
    "  axis.ticks = element_line(size = 2, color = \"black\"),\n",
    "  legend.text = element_text(size = 30, face=\"bold\", color = \"black\"),\n",
    "  axis.ticks.length=unit(0.1,\"inch\"),    \n",
    "  legend.title = element_blank())\n",
    "\n",
    "fixed_pred$grouping3 <-  factor(fixed_pred$grouping3, levels = c(\"earlytrunc\",\n",
    "                                 \"R106W\",\n",
    "                                 \"R133C\",\n",
    "                                 \"T158M\",\n",
    "                                 \"R168X\",\n",
    "                                 \"R255X\",\n",
    "                                 \"R270X\",\n",
    "                                 \"R294X\",\n",
    "                                 \"R306C\",\n",
    "                                 \"LargeDel\",\n",
    "                                 \"CTT\")) \n",
    "\n",
    "logdecompplot <-  fixed_pred %>%\n",
    "    ggplot() +\n",
    "    geom_smooth(aes(x=age, y=pred, color = grouping3), size = 4, se = FALSE) +\n",
    "    scale_colour_manual(values = testpal) +\n",
    "    theme_classic() +\n",
    "    My_Theme +\n",
    "    guides(color=guide_legend(ncol=4)) +\n",
    "    ylab('CSS') +\n",
    "    xlab('Age (Years)') +\n",
    "            theme(legend.position = c(0.5, 0.95)) +\n",
    "    geom_smooth(data = fixed_pred_general,\n",
    "                aes(x = age, y = pred), size = 4, se = FALSE, color = 'black', linetype = 11 ) +\n",
    "    ylim(0,32)\n",
    "\n",
    "png(file=\"C:/Users/jkmer/Desktop/2023_css/logdecompmodel_allmut.png\",\n",
    "units=\"in\", width=10, height=16, res=300)\n",
    "logdecompplot\n",
    "dev.off()\n",
    "\n",
    "logdecompplot"
   ]
  },
  {
   "cell_type": "markdown",
   "id": "45f764bc",
   "metadata": {},
   "source": [
    "## Individual predictions from log decomp model using bayesian approach"
   ]
  },
  {
   "cell_type": "code",
   "execution_count": 33,
   "id": "f8e3ef3c",
   "metadata": {},
   "outputs": [],
   "source": [
    "#pull center value from training data set\n",
    "ctr_val_train <- unique(mecp2_decomp$ctrval)"
   ]
  },
  {
   "cell_type": "code",
   "execution_count": 34,
   "id": "7a0e7ff0",
   "metadata": {},
   "outputs": [],
   "source": [
    "#predict decomposed model for all individuals with represented mutations in mecp2 regardless of diagnosis\n",
    "\n",
    "\n",
    "#filter parent data for females with represented mecp2 mutations\n",
    "females <- clean[clean$childs_gender == \"Female\" ,]\n",
    "mecp2_pos <- females[females$grouping1_genetic_mutation == \"MECP2 mutation\" ,]\n",
    "mecp2_pos$age <- round(mecp2_pos$age_at_visit, digits = 1)\n",
    "mecp2_pos$lnage <- log(mecp2_pos$age)\n",
    "mecp2_pos <- mecp2_pos %>% filter( age <= 25)\n",
    "mecp2_pos$participant_id <- factor(mecp2_pos$participant_id)\n",
    "\n",
    "#remove under represented mutation groupings\n",
    "mecp2_pos <- mecp2_pos %>% filter(!grouping3 == 'OtherPt') %>% \n",
    "                               filter(!grouping3 == 'MISSING') %>% \n",
    "                               filter(!grouping3 == \"Splice\") %>%  \n",
    "                               filter(!grouping3 == \"Exon1\")\n",
    "mecp2_pos <- mecp2_pos[!(is.na(mecp2_pos$grouping3)), ]\n",
    "\n",
    "#decompose age\n",
    "mecp2_pos_decomp <- mecp2_pos %>%\n",
    "  group_by(participant_id) %>%\n",
    "  summarize(mean_lnage = mean(lnage)) %>% # calculates the mean age per person\n",
    "  ungroup() %>%\n",
    "mutate(mean_lnage_ctr = mean_lnage - ctr_val_train) %>% \n",
    "  right_join(mecp2_pos, by = \"participant_id\") %>% \n",
    "  mutate(duration = lnage - mean_lnage) %>%\n",
    "  select(participant_id, age, lnage, \n",
    "         mean_lnage, mean_lnage_ctr, duration, \n",
    "         total_score_clean, grouping3)\n",
    "\n",
    "#assign cntrval from training\n",
    "mecp2_pos_decomp$ctrval <- ctr_val_train\n",
    "\n",
    "#assign numeric factors to grouping3 in training and prediction - necessary for running JMbayes\n",
    "mecp2_decomp$grp_3num <- as.factor(as.numeric(mecp2_decomp$grouping3))\n",
    "mecp2_pos_decomp$grp_3num <- as.factor(as.numeric(mecp2_pos_decomp$grouping3))\n",
    "\n",
    "#create vector of ages for prediction\n",
    "time <- seq(2, 25, by = 0.1) #by = 1 for low resolution testing, by = 0.1 for actual production run\n",
    "logtime <- log(time)\n",
    "       \n",
    "#create vector of participant_id's for predictions to be made on       \n",
    "participant_ids <- unique(mecp2_pos_decomp$participant_id) #ref all diagnosis part_ids\n",
    "\n",
    "#train log decomp model on classic diagnosis       \n",
    "log_decomp <- lme(fixed = total_score_clean ~ mean_lnage_ctr*duration*grp_3num, \n",
    "             random = ~duration|participant_id,\n",
    "             data = mecp2_decomp,\n",
    "             correlation = corAR1(form = ~1|participant_id),\n",
    "             method = \"ML\")      \n",
    "       \n",
    "#loop over participant_ids for all diagnosis, constructing new set of durations based on individual specific mean_lnage\n",
    "all_pred = data.frame()\n",
    "for (i in participant_ids){\n",
    "     \n",
    "        #filter all diagnosis for participant_id of interest\n",
    "        tmp_new_dat <- mecp2_pos_decomp %>% filter(participant_id == i)\n",
    "    \n",
    "        #create vector of individual specific durations based on mean_lnage\n",
    "        tmp_durations <- logtime - unique(tmp_new_dat$mean_lnage)\n",
    "        \n",
    "    \n",
    "        #predict with JMbayes        \n",
    "        indiv_pred <- IndvPred_lme(log_decomp, \n",
    "                           newdata = tmp_new_dat, \n",
    "                           timeVar = \"duration\", \n",
    "                           M = 500, \n",
    "                           return_data = FALSE, #set to false for forecasting, if export with dataframe, need to remove rows of original data                           seed = 321,\n",
    "                           all_times = TRUE,\n",
    "                           times = tmp_durations)\n",
    "\n",
    "        #create data frame with individual and grouping3, assign ages of prediction, merge with predicted total_score\n",
    "        pred <- tmp_new_dat %>% \n",
    "                select(c(participant_id,grouping3)) %>% unique() %>% \n",
    "                group_by(participant_id, grouping3) %>% expand(age = time) %>% ungroup()\n",
    "        pred$pred <- indiv_pred$predicted_y\n",
    "    \n",
    "        #add individual predictions to output\n",
    "        all_pred <- rbind(all_pred, pred)\n",
    "    }"
   ]
  },
  {
   "cell_type": "code",
   "execution_count": 35,
   "id": "b20ccb93",
   "metadata": {},
   "outputs": [],
   "source": [
    "#pull individuals with > 13 visits and select single individual for each mutation class\n",
    "multi_visits <- mecp2_pos_decomp %>% group_by(participant_id) %>% \n",
    "        filter(age <= 25) %>%\n",
    "        filter(n() > 13) %>% ungroup() %>%\n",
    "        select(c(participant_id, grouping3)) %>% \n",
    "        unique()\n",
    "sample_multi <- multi_visits %>% distinct(grouping3, .keep_all = TRUE)"
   ]
  },
  {
   "cell_type": "code",
   "execution_count": 36,
   "id": "ae697c7f",
   "metadata": {},
   "outputs": [
    {
     "name": "stderr",
     "output_type": "stream",
     "text": [
      "\u001b[1m\u001b[22m`geom_smooth()` using method = 'loess' and formula = 'y ~ x'\n"
     ]
    },
    {
     "data": {
      "text/html": [
       "<strong>png:</strong> 2"
      ],
      "text/latex": [
       "\\textbf{png:} 2"
      ],
      "text/markdown": [
       "**png:** 2"
      ],
      "text/plain": [
       "png \n",
       "  2 "
      ]
     },
     "metadata": {},
     "output_type": "display_data"
    },
    {
     "name": "stderr",
     "output_type": "stream",
     "text": [
      "\u001b[1m\u001b[22m`geom_smooth()` using method = 'loess' and formula = 'y ~ x'\n"
     ]
    },
    {
     "data": {
      "image/png": "[encoded data removed]",
      "text/plain": [
       "plot without title"
      ]
     },
     "metadata": {
      "image/png": {
       "height": 420,
       "width": 420
      }
     },
     "output_type": "display_data"
    }
   ],
   "source": [
    "#plotting predicted versus actual for randomly selected individuals with > 13 visits\n",
    "\n",
    "My_Theme = theme(\n",
    "  axis.title.x = element_text(size = 30, face=\"bold\", color = \"black\"),\n",
    "  axis.text.x = element_text(size = 30, face=\"bold\", color = \"black\"),\n",
    "  axis.title.y = element_text(size = 30, face=\"bold\", color = \"black\"),\n",
    "  axis.text.y = element_text(size = 30, face=\"bold\", color = \"black\"),  \n",
    "  axis.line = element_line(size = 2),\n",
    "  axis.ticks = element_line(size = 2),\n",
    "  axis.ticks.length=unit(0.1,\"inch\"),    \n",
    "  legend.text = element_text(size = 30, color = \"black\"),\n",
    "  legend.title = element_blank())\n",
    "\n",
    "\n",
    "checkid <- sample_multi$participant_id\n",
    "predcheck <- all_pred %>% filter(participant_id %in% checkid)\n",
    "realcheck <- mecp2_pos_decomp %>% filter(participant_id %in% checkid)\n",
    "\n",
    "\n",
    "fitplot <- ggplot() +\n",
    "geom_smooth(data = predcheck, aes(x = age, y = pred), show.legend = FALSE, size = 4 ) +\n",
    "geom_point(data = realcheck, aes(x = age, y = total_score_clean), show.legend = FALSE, size = 4 ) +\n",
    "theme_classic() +\n",
    "My_Theme +\n",
    "xlab(\"Age (years)\") +\n",
    "ylab(\"CSS\") +\n",
    "facet_wrap(~grouping3, nrow = 4, scales = \"free\") +\n",
    "xlim(0,25) +\n",
    "ylim(0,45) + \n",
    "theme(\n",
    "  strip.background = element_blank(),\n",
    "  strip.text.x = element_text(size = 30, face=\"bold\", color = \"black\") #element_blank()\n",
    ")\n",
    "\n",
    "png(file=\"C:/Users/jkmer/Desktop/2023_css/fit2.png\",\n",
    "units=\"in\", width=20, height=20, res=300)\n",
    "fitplot\n",
    "dev.off()\n",
    "\n",
    "fitplot\n",
    "\n",
    "\n"
   ]
  },
  {
   "cell_type": "markdown",
   "id": "d844efa2",
   "metadata": {},
   "source": [
    "## RMSE LOOE for model performance"
   ]
  },
  {
   "cell_type": "code",
   "execution_count": 37,
   "id": "8321201b",
   "metadata": {},
   "outputs": [],
   "source": [
    "#LOOE for model performance,\n",
    "#Model input should be classic diagnosis, predictions are for all diagnosis\n",
    "#make predictions for observed ages to save computational time\n",
    "#calculate RMSE for all and by group\n",
    "pred_input <- mecp2_decomp #set input for training model\n",
    "participant_ids <- unique(mecp2_pos_decomp$participant_id) #reference diagnosis part_ids\n",
    "rmse_pred = data.frame()\n",
    "\n",
    "for (i in participant_ids){\n",
    "        train <- subset(pred_input, participant_id != i) #train cannot include sample of interest\n",
    "        test <- subset(mecp2_pos_decomp, participant_id == i) #pull single individual from all diagnosis\n",
    "        time <- test$age\n",
    "           if (length(time) == 1) {\n",
    "                                time <- c(time,26)\n",
    "                                } else {\n",
    "                                        time <- time\n",
    "                                                    }\n",
    "    logtime <- log(time)\n",
    "       \n",
    "    #specify model   \n",
    "    model_rep <- lme(fixed = total_score_clean ~ mean_lnage_ctr*duration*grp_3num, \n",
    "             random = ~duration|participant_id,\n",
    "             data = train,\n",
    "             correlation = corAR1(form = ~1|participant_id),\n",
    "             method = \"ML\")  \n",
    "        \n",
    "    #create individual specific durations\n",
    "        #filter all diagnosis for participant_id of interest\n",
    "        tmp_new_dat <- mecp2_pos_decomp %>% filter(participant_id == i)\n",
    "    \n",
    "        #create vector of individual specific durations based on mean_lnage\n",
    "        tmp_durations <- logtime - unique(tmp_new_dat$mean_lnage)\n",
    "        \n",
    "    \n",
    "        tmp_pred <- IndvPred_lme(model_rep, \n",
    "                           newdata = test, \n",
    "                           timeVar = \"duration\", \n",
    "                           M = 500, \n",
    "                           return_data = TRUE,\n",
    "                           seed = 321,\n",
    "                           all_times = TRUE,\n",
    "                           times = tmp_durations)\n",
    "       \n",
    "        rmse_pred <- rbind(rmse_pred, tmp_pred)\n",
    "    \n",
    "}\n",
    "\n",
    "rmse_pred <- rmse_pred %>% filter(age != 26)"
   ]
  },
  {
   "cell_type": "code",
   "execution_count": 38,
   "id": "e09a8b30",
   "metadata": {},
   "outputs": [],
   "source": [
    "write.csv(rmse_pred, \"C:/Users/jkmer/Desktop/2023_css/rmse_pred.csv\", row.names = FALSE)"
   ]
  },
  {
   "cell_type": "code",
   "execution_count": 39,
   "id": "d2d145a8",
   "metadata": {},
   "outputs": [],
   "source": [
    "#calculate rmse\n",
    "rmse <- rmse_pred %>% \n",
    "        group_by(participant_id) %>% \n",
    "        mutate(resid = pred - total_score_clean) %>%\n",
    "        mutate(residsquare = resid^2) %>%\n",
    "        mutate(mse = mean(residsquare)) %>%\n",
    "        mutate(rmse = sqrt(mse))"
   ]
  },
  {
   "cell_type": "code",
   "execution_count": 40,
   "id": "12d53ca7",
   "metadata": {},
   "outputs": [
    {
     "data": {
      "text/html": [
       "<strong>png:</strong> 2"
      ],
      "text/latex": [
       "\\textbf{png:} 2"
      ],
      "text/markdown": [
       "**png:** 2"
      ],
      "text/plain": [
       "png \n",
       "  2 "
      ]
     },
     "metadata": {},
     "output_type": "display_data"
    },
    {
     "data": {
      "image/png": "[encoded data removed]",
      "text/plain": [
       "plot without title"
      ]
     },
     "metadata": {
      "image/png": {
       "height": 420,
       "width": 420
      }
     },
     "output_type": "display_data"
    }
   ],
   "source": [
    "#plot rmse\n",
    "\n",
    "My_Theme = theme(\n",
    "  axis.title.x = element_blank(), #element_text(size = 20, face=\"bold\", color = \"black\"),\n",
    "  axis.text.x = element_text(size = 30, face=\"bold\", color = \"black\", angle = 45, vjust = 1, hjust=1),\n",
    "  axis.title.y = element_text(size = 30, face=\"bold\", color = \"black\"),\n",
    "  axis.text.y = element_text(size = 30, face=\"bold\", color = \"black\"),  \n",
    "  axis.line = element_line(size = 2, color = \"black\"),\n",
    "  axis.ticks = element_line(size = 2, color = \"black\"),\n",
    "  axis.ticks.length=unit(0.1,\"inch\"),    \n",
    "  legend.position = \"none\")\n",
    "\n",
    "\n",
    "rmse$grouping3 <- factor(rmse$grouping3, levels = c(\"earlytrunc\",\n",
    "                                 \"R106W\",\n",
    "                                 \"R133C\",\n",
    "                                 \"T158M\",\n",
    "                                 \"R168X\",\n",
    "                                 \"R255X\",\n",
    "                                 \"R270X\",\n",
    "                                 \"R294X\",\n",
    "                                 \"R306C\",\n",
    "                                 \"LargeDel\",\n",
    "                                 \"CTT\"))  \n",
    "level_order <- c(\"earlytrunc\",\n",
    "                                 \"R106W\",\n",
    "                                 \"R133C\",\n",
    "                                 \"T158M\",\n",
    "                                 \"R168X\",\n",
    "                                 \"R255X\",\n",
    "                                 \"R270X\",\n",
    "                                 \"R294X\",\n",
    "                                 \"R306C\",\n",
    "                                 \"LargeDel\",\n",
    "                                 \"CTT\") \n",
    "\n",
    "rmseplot <- rmse %>% select(c(participant_id, grouping3, rmse)) %>%\n",
    "         unique() %>%\n",
    "         #filter(grouping3 != \"LargeDel\" & grouping3 != \"earlytrunc\" & grouping3 != \"CTT\") %>% \n",
    "         ggplot(aes(x=factor(grouping3, level = level_order), y=rmse, fill = grouping3)) + \n",
    "         stat_boxplot(geom ='errorbar', size = 2, color = \"black\") +\n",
    "         geom_boxplot(size = 2, color = \"black\") +\n",
    "         scale_fill_manual(values = testpal) +\n",
    "         theme_classic() +\n",
    "         My_Theme +\n",
    "         ylab(\"RMSE\")\n",
    "\n",
    "png(file=\"C:/Users/jkmer/Desktop/2023_css/rmse2_allmut.png\",\n",
    "units=\"in\", width=7, height=6, res=300)\n",
    "rmseplot\n",
    "dev.off()\n",
    "\n",
    "rmseplot"
   ]
  },
  {
   "cell_type": "markdown",
   "id": "32141007",
   "metadata": {},
   "source": [
    "## Calculate percentile distributions for mean pred score \n",
    "## for common cases, assign percentiles to all cases"
   ]
  },
  {
   "cell_type": "code",
   "execution_count": 41,
   "id": "37880529",
   "metadata": {},
   "outputs": [],
   "source": [
    "#percentile calculation with mean predicted by individual\n",
    "#pull mean predictions and separate common cases\n",
    "all_mean_pred <- all_pred %>% unique()\n",
    "all_mean_pred <- all_mean_pred %>% group_by(participant_id) %>% mutate(mean_pred = mean(pred)) \n",
    "all_mean_pred <- all_mean_pred %>% select(c(participant_id, grouping3, mean_pred)) %>% unique()\n",
    "classic_mean_pred <- all_mean_pred %>% filter(participant_id %in% mecp2_decomp$participant_id)"
   ]
  },
  {
   "cell_type": "code",
   "execution_count": 42,
   "id": "094bf072",
   "metadata": {},
   "outputs": [],
   "source": [
    "write.csv(all_mean_pred, \"C:/Users/jkmer/Desktop/2023_css/mean_pred.csv\", row.names = FALSE)"
   ]
  },
  {
   "cell_type": "code",
   "execution_count": 43,
   "id": "243bd311",
   "metadata": {},
   "outputs": [],
   "source": [
    "#calculate and assign percentiles to predicted terminal values, based on cumulative distributions \n",
    "#of terminal values\n",
    "#create dummy array (TotalScores) with all grouping3 and score combinations at age 25\n",
    "\n",
    "Grouping3 <- c(\"R106W\", \n",
    "               \"R133C\", \n",
    "               \"T158M\", \n",
    "               \"R168X\", \n",
    "               \"R255X\", \n",
    "               \"R270X\", \n",
    "               \"R294X\", \n",
    "               \"R306C\",\n",
    "               \"CTT\",\n",
    "               \"LargeDel\",\n",
    "               \"earlytrunc\")\n",
    "fitted <- seq(from = 1, to = 58, by = 1)\n",
    "\n",
    "TotalScores = data.frame(fitted)\n",
    "\n",
    "TotalScores_mut <- TotalScores %>% \n",
    "    group_by(fitted) %>% \n",
    "    tidyr::expand(Grouping3)\n",
    "\n",
    "TotalScores_df <- as.data.frame(TotalScores_mut)\n"
   ]
  },
  {
   "cell_type": "code",
   "execution_count": 44,
   "id": "f0c0d67e",
   "metadata": {},
   "outputs": [],
   "source": [
    "#for loop to calculate dummy array TotalScores_df percentiles \n",
    "#from cumulative dist. of predicted terminal values for common cases\n",
    "\n",
    "scores_percentile = data.frame()\n",
    "\n",
    "predictions <- classic_mean_pred\n",
    "\n",
    "for (j in Grouping3) {\n",
    "        pred_scores <- predictions[predictions$grouping3 == j ,]\n",
    "        predict_fx <- ecdf(pred_scores$mean_pred)\n",
    "        scores_restrict <- TotalScores_df[TotalScores_df$Grouping3 == j ,]\n",
    "        scores_restrict$Percentile <- predict_fx(v = scores_restrict$fitted)\n",
    "        rownames(scores_restrict) <- NULL\n",
    "        # Using rbind() to append the output of one iteration to the dataframe\n",
    "        scores_percentile = rbind(scores_percentile, scores_restrict)\n",
    "        }\n",
    "    \n",
    "colnames(scores_percentile) = c( 'mean_pred', 'grouping3', 'Percentile')"
   ]
  },
  {
   "cell_type": "code",
   "execution_count": 45,
   "id": "ef4fb8c8",
   "metadata": {},
   "outputs": [],
   "source": [
    "#merge percentiles with predicted terminal scores\n",
    "#round predicted values and percentiles to whole\n",
    "scores_percentile$Percentile <- round(scores_percentile$Percentile, 2)\n",
    "all_mean_pred$mean_pred <- round(all_mean_pred$mean_pred)\n",
    "all_mean_pred$grouping3 <- as.factor(all_mean_pred$grouping3)\n",
    "#assign percentiles to estimated terminal scores for all diagnosis\n",
    "individual_percentiles <- merge(all_mean_pred, scores_percentile, by=c(\"mean_pred\",\"grouping3\")) %>%\n",
    "                           unique()\n",
    "#pull classic diagnosis percentiles\n",
    "classic_percentiles <- individual_percentiles %>% filter(participant_id %in% mecp2_decomp$participant_id)"
   ]
  },
  {
   "cell_type": "code",
   "execution_count": 46,
   "id": "ec8ccf3b",
   "metadata": {},
   "outputs": [],
   "source": [
    "#export individual percentiles and all_mean_pred\n",
    "write.csv(individual_percentiles, \n",
    "          \"C:/Users/jkmer/Desktop/2023_css/percentiles.csv\", row.names = FALSE)"
   ]
  },
  {
   "cell_type": "code",
   "execution_count": 47,
   "id": "60741639",
   "metadata": {},
   "outputs": [],
   "source": [
    "classic_percentiles <- individual_percentiles %>% filter(participant_id %in% mecp2_decomp$participant_id)"
   ]
  },
  {
   "cell_type": "code",
   "execution_count": 48,
   "id": "9ccf77c7",
   "metadata": {
    "scrolled": true
   },
   "outputs": [
    {
     "name": "stderr",
     "output_type": "stream",
     "text": [
      "Warning message:\n",
      "\"\u001b[1m\u001b[22mRemoved 26 rows containing missing values (`geom_line()`).\"\n"
     ]
    },
    {
     "data": {
      "text/html": [
       "<strong>png:</strong> 2"
      ],
      "text/latex": [
       "\\textbf{png:} 2"
      ],
      "text/markdown": [
       "**png:** 2"
      ],
      "text/plain": [
       "png \n",
       "  2 "
      ]
     },
     "metadata": {},
     "output_type": "display_data"
    },
    {
     "name": "stderr",
     "output_type": "stream",
     "text": [
      "Warning message:\n",
      "\"\u001b[1m\u001b[22mRemoved 26 rows containing missing values (`geom_line()`).\"\n"
     ]
    },
    {
     "data": {
      "image/png": "[encoded data removed]",
      "text/plain": [
       "plot without title"
      ]
     },
     "metadata": {
      "image/png": {
       "height": 420,
       "width": 420
      }
     },
     "output_type": "display_data"
    }
   ],
   "source": [
    "#plot cdf percentiles calculated from classic\n",
    "My_Theme = theme(\n",
    "  axis.title.x = element_text(size = 30, face=\"bold\", color = \"black\"),\n",
    "  axis.text.x = element_text(size = 30, face=\"bold\", color = \"black\"),\n",
    "  axis.title.y = element_text(size = 30, face=\"bold\", color = \"black\"),\n",
    "  axis.text.y = element_text(size = 30, face=\"bold\", color = \"black\"),  \n",
    "  axis.line = element_line(size = 2, color = \"black\"),\n",
    "  axis.ticks = element_line(size = 2, color = \"black\"),\n",
    "  legend.text = element_text(size = 30, face = \"bold\", color = \"black\"),\n",
    "  axis.ticks.length=unit(0.1,\"inch\"),    \n",
    "  legend.title = element_blank())\n",
    "\n",
    "\n",
    "individual_percentiles$grouping3 <- factor(individual_percentiles$grouping3, levels = c(\"earlytrunc\",\n",
    "                                 \"R106W\",\n",
    "                                 \"R133C\",\n",
    "                                 \"T158M\",\n",
    "                                 \"R168X\",\n",
    "                                 \"R255X\",\n",
    "                                 \"R270X\",\n",
    "                                 \"R294X\",\n",
    "                                 \"R306C\",\n",
    "                                 \"LargeDel\",\n",
    "                                 \"CTT\")) \n",
    "\n",
    "\n",
    "distplot <- individual_percentiles %>% \n",
    "        ggplot() +\n",
    "            geom_line(aes(x = mean_pred, y = 100*Percentile, color = grouping3), size = 3) +\n",
    "        labs(color='Mutation') + \n",
    "        ylab(\"Percentile\") + \n",
    "        xlab(\"Mean Predicted CSS\") +\n",
    "        theme_classic() + \n",
    "        scale_color_manual(values = testpal) +\n",
    "        My_Theme + \n",
    "        theme(legend.position = c(0.85, 0.4)) +\n",
    "                scale_y_continuous(expand = c(0,0),\n",
    "                     limits = c(0,110)) +\n",
    "        xlim(8,42)\n",
    "\n",
    "png(file=\"C:/Users/jkmer/Desktop/2023_css/distributions_allmut.png\",\n",
    "units=\"in\", width=16, height=8, res=300)\n",
    "distplot\n",
    "dev.off()\n",
    "\n",
    "distplot"
   ]
  },
  {
   "cell_type": "markdown",
   "id": "3e99920c",
   "metadata": {},
   "source": [
    "## Anova for assessing separation of genotypes by predicted terminal score"
   ]
  },
  {
   "cell_type": "code",
   "execution_count": 49,
   "id": "7ffd8502",
   "metadata": {},
   "outputs": [
    {
     "data": {
      "text/html": [
       "<table class=\"dataframe\">\n",
       "<caption>A anova: 3 × 4</caption>\n",
       "<thead>\n",
       "\t<tr><th></th><th scope=col>Sum Sq</th><th scope=col>Df</th><th scope=col>F value</th><th scope=col>Pr(&gt;F)</th></tr>\n",
       "\t<tr><th></th><th scope=col>&lt;dbl&gt;</th><th scope=col>&lt;dbl&gt;</th><th scope=col>&lt;dbl&gt;</th><th scope=col>&lt;dbl&gt;</th></tr>\n",
       "</thead>\n",
       "<tbody>\n",
       "\t<tr><th scope=row>(Intercept)</th><td>58344.300</td><td>  1</td><td>1630.4338</td><td>1.255594e-211</td></tr>\n",
       "\t<tr><th scope=row>grouping3</th><td> 8604.818</td><td> 10</td><td>  24.0462</td><td> 6.795048e-41</td></tr>\n",
       "\t<tr><th scope=row>Residuals</th><td>35498.249</td><td>992</td><td>       NA</td><td>           NA</td></tr>\n",
       "</tbody>\n",
       "</table>\n"
      ],
      "text/latex": [
       "A anova: 3 × 4\n",
       "\\begin{tabular}{r|llll}\n",
       "  & Sum Sq & Df & F value & Pr(>F)\\\\\n",
       "  & <dbl> & <dbl> & <dbl> & <dbl>\\\\\n",
       "\\hline\n",
       "\t(Intercept) & 58344.300 &   1 & 1630.4338 & 1.255594e-211\\\\\n",
       "\tgrouping3 &  8604.818 &  10 &   24.0462 &  6.795048e-41\\\\\n",
       "\tResiduals & 35498.249 & 992 &        NA &            NA\\\\\n",
       "\\end{tabular}\n"
      ],
      "text/markdown": [
       "\n",
       "A anova: 3 × 4\n",
       "\n",
       "| <!--/--> | Sum Sq &lt;dbl&gt; | Df &lt;dbl&gt; | F value &lt;dbl&gt; | Pr(&gt;F) &lt;dbl&gt; |\n",
       "|---|---|---|---|---|\n",
       "| (Intercept) | 58344.300 |   1 | 1630.4338 | 1.255594e-211 |\n",
       "| grouping3 |  8604.818 |  10 |   24.0462 |  6.795048e-41 |\n",
       "| Residuals | 35498.249 | 992 |        NA |            NA |\n",
       "\n"
      ],
      "text/plain": [
       "            Sum Sq    Df  F value   Pr(>F)       \n",
       "(Intercept) 58344.300   1 1630.4338 1.255594e-211\n",
       "grouping3    8604.818  10   24.0462  6.795048e-41\n",
       "Residuals   35498.249 992        NA            NA"
      ]
     },
     "metadata": {},
     "output_type": "display_data"
    }
   ],
   "source": [
    "#anova to check for grouping3 genotype separation in terminal scores \"pred\" in classic cases\n",
    "#since groups are unbalanced, need to use Type III sums of squares\n",
    "pred_aov <- Anova(lm(mean_pred~grouping3, data = classic_percentiles), type=\"III\")\n",
    "pred_aov"
   ]
  },
  {
   "cell_type": "code",
   "execution_count": 50,
   "id": "039259cf",
   "metadata": {},
   "outputs": [
    {
     "data": {
      "text/plain": [
       "$statistics\n",
       "   MSerror  Df     Mean       CV\n",
       "  35.78453 992 24.57527 24.34161\n",
       "\n",
       "$parameters\n",
       "   test    name.t ntr StudentizedRange alpha\n",
       "  Tukey grouping3  11         4.562585  0.05\n",
       "\n",
       "$means\n",
       "           mean_pred      std   r Min Max  Q25  Q50   Q75\n",
       "CTT         22.05000 6.058330 120  10  34 17.0 22.5 26.00\n",
       "earlytrunc  26.11000 5.933801 100  13  38 22.0 27.0 30.00\n",
       "LargeDel    25.25490 6.721749 102  11  40 20.0 25.5 29.00\n",
       "R106W       26.51429 5.419851  35  18  35 22.0 26.0 32.00\n",
       "R133C       20.12857 5.313154  70   9  32 16.0 20.0 24.00\n",
       "R168X       27.69672 5.969467 122  10  42 24.0 27.0 32.00\n",
       "R255X       27.72072 6.448638 111   9  41 24.0 28.0 33.00\n",
       "R270X       28.25373 6.233690  67  13  40 23.5 29.0 32.50\n",
       "R294X       20.83077 5.290230  65  12  33 17.0 20.0 24.00\n",
       "R306C       19.98913 5.155802  92   9  35 16.0 20.5 23.25\n",
       "T158M       24.68067 6.157444 119  12  42 21.0 25.0 29.00\n",
       "\n",
       "$comparison\n",
       "NULL\n",
       "\n",
       "$groups\n",
       "           mean_pred groups\n",
       "R270X       28.25373      a\n",
       "R255X       27.72072      a\n",
       "R168X       27.69672      a\n",
       "R106W       26.51429     ab\n",
       "earlytrunc  26.11000     ab\n",
       "LargeDel    25.25490     ab\n",
       "T158M       24.68067      b\n",
       "CTT         22.05000      c\n",
       "R294X       20.83077      c\n",
       "R133C       20.12857      c\n",
       "R306C       19.98913      c\n",
       "\n",
       "attr(,\"class\")\n",
       "[1] \"group\""
      ]
     },
     "metadata": {},
     "output_type": "display_data"
    }
   ],
   "source": [
    "comparison <- HSD.test(lm(mean_pred~grouping3, data = classic_percentiles), \"grouping3\", group=TRUE)\n",
    "comparison"
   ]
  },
  {
   "cell_type": "code",
   "execution_count": 51,
   "id": "b7beb233",
   "metadata": {},
   "outputs": [],
   "source": [
    "#calculate mean predictons standard error by genotype group\n",
    "stderror <- function(x) sd(x)/sqrt(length(x))\n",
    "mean_pred2 <- classic_percentiles %>% group_by(grouping3) %>% \n",
    "                                    mutate(mean = mean(mean_pred)) %>%\n",
    "                                    mutate(sem = stderror(mean_pred)) %>%\n",
    "                                    select(grouping3, mean, sem) %>%\n",
    "                                    unique()"
   ]
  },
  {
   "cell_type": "code",
   "execution_count": 52,
   "id": "fb3c197c",
   "metadata": {},
   "outputs": [],
   "source": [
    "#reassign grouping letters in reverse for ease of presentation\n",
    "groups <- comparison$groups\n",
    "groups$grouping3 <- rownames(groups)\n",
    "groups <- groups %>% select(c(groups, grouping3))\n",
    "groups <- merge(groups, mean_pred2, by = \"grouping3\")\n",
    "#groups$groups2 <- c('ab', 'bcd', 'bcd', 'bcd', 'a', 'cd', 'cd', 'd', 'a', 'a', 'bc')"
   ]
  },
  {
   "cell_type": "code",
   "execution_count": 53,
   "id": "57ea94e5",
   "metadata": {},
   "outputs": [],
   "source": [
    "#filters <- c('earlytrunc', 'LargeDel', 'CTT')\n",
    "#groups <- groups %>% filter(!grouping3 %in% filters)\n",
    "groups$groups2 <- c('a', 'bc', 'bc', 'bc', 'a', 'c', 'c', 'c', 'a', 'a', 'b')"
   ]
  },
  {
   "cell_type": "code",
   "execution_count": 54,
   "id": "aea090f4",
   "metadata": {},
   "outputs": [
    {
     "data": {
      "text/html": [
       "<table class=\"dataframe\">\n",
       "<caption>A data.frame: 11 × 5</caption>\n",
       "<thead>\n",
       "\t<tr><th scope=col>grouping3</th><th scope=col>groups</th><th scope=col>mean</th><th scope=col>sem</th><th scope=col>groups2</th></tr>\n",
       "\t<tr><th scope=col>&lt;chr&gt;</th><th scope=col>&lt;chr&gt;</th><th scope=col>&lt;dbl&gt;</th><th scope=col>&lt;dbl&gt;</th><th scope=col>&lt;chr&gt;</th></tr>\n",
       "</thead>\n",
       "<tbody>\n",
       "\t<tr><td>CTT       </td><td>c </td><td>22.05000</td><td>0.5530473</td><td>a </td></tr>\n",
       "\t<tr><td>earlytrunc</td><td>ab</td><td>26.11000</td><td>0.5933801</td><td>bc</td></tr>\n",
       "\t<tr><td>LargeDel  </td><td>ab</td><td>25.25490</td><td>0.6655523</td><td>bc</td></tr>\n",
       "\t<tr><td>R106W     </td><td>ab</td><td>26.51429</td><td>0.9161221</td><td>bc</td></tr>\n",
       "\t<tr><td>R133C     </td><td>c </td><td>20.12857</td><td>0.6350434</td><td>a </td></tr>\n",
       "\t<tr><td>R168X     </td><td>a </td><td>27.69672</td><td>0.5404501</td><td>c </td></tr>\n",
       "\t<tr><td>R255X     </td><td>a </td><td>27.72072</td><td>0.6120776</td><td>c </td></tr>\n",
       "\t<tr><td>R270X     </td><td>a </td><td>28.25373</td><td>0.7615664</td><td>c </td></tr>\n",
       "\t<tr><td>R294X     </td><td>c </td><td>20.83077</td><td>0.6561723</td><td>a </td></tr>\n",
       "\t<tr><td>R306C     </td><td>c </td><td>19.98913</td><td>0.5375296</td><td>a </td></tr>\n",
       "\t<tr><td>T158M     </td><td>b </td><td>24.68067</td><td>0.5644520</td><td>b </td></tr>\n",
       "</tbody>\n",
       "</table>\n"
      ],
      "text/latex": [
       "A data.frame: 11 × 5\n",
       "\\begin{tabular}{lllll}\n",
       " grouping3 & groups & mean & sem & groups2\\\\\n",
       " <chr> & <chr> & <dbl> & <dbl> & <chr>\\\\\n",
       "\\hline\n",
       "\t CTT        & c  & 22.05000 & 0.5530473 & a \\\\\n",
       "\t earlytrunc & ab & 26.11000 & 0.5933801 & bc\\\\\n",
       "\t LargeDel   & ab & 25.25490 & 0.6655523 & bc\\\\\n",
       "\t R106W      & ab & 26.51429 & 0.9161221 & bc\\\\\n",
       "\t R133C      & c  & 20.12857 & 0.6350434 & a \\\\\n",
       "\t R168X      & a  & 27.69672 & 0.5404501 & c \\\\\n",
       "\t R255X      & a  & 27.72072 & 0.6120776 & c \\\\\n",
       "\t R270X      & a  & 28.25373 & 0.7615664 & c \\\\\n",
       "\t R294X      & c  & 20.83077 & 0.6561723 & a \\\\\n",
       "\t R306C      & c  & 19.98913 & 0.5375296 & a \\\\\n",
       "\t T158M      & b  & 24.68067 & 0.5644520 & b \\\\\n",
       "\\end{tabular}\n"
      ],
      "text/markdown": [
       "\n",
       "A data.frame: 11 × 5\n",
       "\n",
       "| grouping3 &lt;chr&gt; | groups &lt;chr&gt; | mean &lt;dbl&gt; | sem &lt;dbl&gt; | groups2 &lt;chr&gt; |\n",
       "|---|---|---|---|---|\n",
       "| CTT        | c  | 22.05000 | 0.5530473 | a  |\n",
       "| earlytrunc | ab | 26.11000 | 0.5933801 | bc |\n",
       "| LargeDel   | ab | 25.25490 | 0.6655523 | bc |\n",
       "| R106W      | ab | 26.51429 | 0.9161221 | bc |\n",
       "| R133C      | c  | 20.12857 | 0.6350434 | a  |\n",
       "| R168X      | a  | 27.69672 | 0.5404501 | c  |\n",
       "| R255X      | a  | 27.72072 | 0.6120776 | c  |\n",
       "| R270X      | a  | 28.25373 | 0.7615664 | c  |\n",
       "| R294X      | c  | 20.83077 | 0.6561723 | a  |\n",
       "| R306C      | c  | 19.98913 | 0.5375296 | a  |\n",
       "| T158M      | b  | 24.68067 | 0.5644520 | b  |\n",
       "\n"
      ],
      "text/plain": [
       "   grouping3  groups mean     sem       groups2\n",
       "1  CTT        c      22.05000 0.5530473 a      \n",
       "2  earlytrunc ab     26.11000 0.5933801 bc     \n",
       "3  LargeDel   ab     25.25490 0.6655523 bc     \n",
       "4  R106W      ab     26.51429 0.9161221 bc     \n",
       "5  R133C      c      20.12857 0.6350434 a      \n",
       "6  R168X      a      27.69672 0.5404501 c      \n",
       "7  R255X      a      27.72072 0.6120776 c      \n",
       "8  R270X      a      28.25373 0.7615664 c      \n",
       "9  R294X      c      20.83077 0.6561723 a      \n",
       "10 R306C      c      19.98913 0.5375296 a      \n",
       "11 T158M      b      24.68067 0.5644520 b      "
      ]
     },
     "metadata": {},
     "output_type": "display_data"
    }
   ],
   "source": [
    "groups"
   ]
  },
  {
   "cell_type": "code",
   "execution_count": 55,
   "id": "8eb8bb7b",
   "metadata": {},
   "outputs": [
    {
     "data": {
      "text/html": [
       "<strong>png:</strong> 2"
      ],
      "text/latex": [
       "\\textbf{png:} 2"
      ],
      "text/markdown": [
       "**png:** 2"
      ],
      "text/plain": [
       "png \n",
       "  2 "
      ]
     },
     "metadata": {},
     "output_type": "display_data"
    },
    {
     "data": {
      "image/png": "[encoded data removed]",
      "text/plain": [
       "plot without title"
      ]
     },
     "metadata": {
      "image/png": {
       "height": 420,
       "width": 420
      }
     },
     "output_type": "display_data"
    }
   ],
   "source": [
    "#plot mean predictions\n",
    "\n",
    "My_Theme = theme(\n",
    "  axis.title.x = element_blank(), #element_text(size = 20, face=\"bold\", color = \"black\"),\n",
    "  axis.text.x = element_text(size = 30, face=\"bold\", color = \"black\", angle = 45, vjust = 1, hjust=1),\n",
    "  axis.title.y = element_text(size = 30, face=\"bold\", color = \"black\"),\n",
    "  axis.text.y = element_text(size = 30, face=\"bold\", color = \"black\"),  \n",
    "  axis.line=element_line(size = 2, color = \"black\"),\n",
    "  axis.ticks = element_line(size = 2, color = \"black\"),\n",
    "  axis.ticks.length=unit(0.1,\"inch\"),    \n",
    "  legend.position = \"none\")\n",
    "\n",
    "groups$grouping3 <- factor(groups$grouping3, levels = c(\"earlytrunc\",\n",
    "                                 \"R106W\",\n",
    "                                 \"R133C\",\n",
    "                                 \"T158M\",\n",
    "                                 \"R168X\",\n",
    "                                 \"R255X\",\n",
    "                                 \"R270X\",\n",
    "                                 \"R294X\",\n",
    "                                 \"R306C\",\n",
    "                                 \"LargeDel\",\n",
    "                                 \"CTT\")) \n",
    "\n",
    "meanplot <- ggplot(groups, aes(reorder(grouping3,mean), mean, fill = grouping3)) + \n",
    "      geom_bar(stat = \"identity\", color = \"black\", size=1, width=0.9) +\n",
    "      #stat_summary(fun=mean, geom=\"bar\") +\n",
    "      geom_errorbar(aes(ymin=mean-sem, ymax=mean+sem), width=.3, size=1) +\n",
    "      scale_y_continuous(expand = c(0,0),\n",
    "                     limits = c(0,37)) +\n",
    "          ylab(\"Mean Pred. CSS\") +\n",
    "          theme_classic() +\n",
    "          scale_fill_manual(values = testpal) +\n",
    "          My_Theme +\n",
    "        geom_text(aes(label = groups2, fontface = \"bold\"), vjust = -2, size = 7)\n",
    "\n",
    "\n",
    "png(file=\"C:/Users/jkmer/Desktop/2023_css/mean_pred_allmut.png\",\n",
    "units=\"in\", width=8, height=8, res=300)\n",
    "meanplot\n",
    "dev.off()\n",
    "\n",
    "meanplot"
   ]
  },
  {
   "cell_type": "code",
   "execution_count": 56,
   "id": "633cdb25",
   "metadata": {},
   "outputs": [],
   "source": [
    "#heatplot to show comparisons in mean prediction\n",
    "comparison <- HSD.test(lm(mean_pred~grouping3, data = classic_percentiles), \"grouping3\", group=FALSE)\n",
    "pvals <- comparison$comparison %>% select(pvalue)"
   ]
  },
  {
   "cell_type": "code",
   "execution_count": 57,
   "id": "302f4b14",
   "metadata": {},
   "outputs": [],
   "source": [
    "pvals$comp <- rownames(pvals)\n",
    "pvals <- pvals %>%  mutate(signif = case_when(pvalue < 0.001 ~ '< 0.001',\n",
    "  pvalue < 0.01 ~ '< 0.01',\n",
    "  pvalue < 0.05 ~ '< 0.05',\n",
    "  pvalue > 0.05 ~ '1'))\n",
    "pvals <- separate(data = pvals, col = comp, into = c(\"A\", \"B\"), sep = \" - \")\n",
    "pvals2 <- pvals\n",
    "colnames(pvals2) <- c('pvalue', 'B', 'A', \"signif\")\n",
    "pvals <- rbind(pvals, pvals2)\n"
   ]
  },
  {
   "cell_type": "code",
   "execution_count": 58,
   "id": "a2c32ca1",
   "metadata": {},
   "outputs": [
    {
     "data": {
      "text/html": [
       "<table class=\"dataframe\">\n",
       "<caption>A data.frame: 110 × 4</caption>\n",
       "<thead>\n",
       "\t<tr><th></th><th scope=col>pvalue</th><th scope=col>A</th><th scope=col>B</th><th scope=col>signif</th></tr>\n",
       "\t<tr><th></th><th scope=col>&lt;dbl&gt;</th><th scope=col>&lt;chr&gt;</th><th scope=col>&lt;chr&gt;</th><th scope=col>&lt;chr&gt;</th></tr>\n",
       "</thead>\n",
       "<tbody>\n",
       "\t<tr><th scope=row>CTT - earlytrunc</th><td>0.0000</td><td><span style=white-space:pre-wrap>CTT       </span></td><td>earlytrunc</td><td>&lt; 0.001</td></tr>\n",
       "\t<tr><th scope=row>CTT - LargeDel</th><td>0.0036</td><td><span style=white-space:pre-wrap>CTT       </span></td><td><span style=white-space:pre-wrap>LargeDel  </span></td><td>&lt; 0.01 </td></tr>\n",
       "\t<tr><th scope=row>CTT - R106W</th><td>0.0052</td><td><span style=white-space:pre-wrap>CTT       </span></td><td><span style=white-space:pre-wrap>R106W     </span></td><td>&lt; 0.01 </td></tr>\n",
       "\t<tr><th scope=row>CTT - R133C</th><td>0.5517</td><td>CTT       </td><td>R133C     </td><td>1      </td></tr>\n",
       "\t<tr><th scope=row>CTT - R168X</th><td>0.0000</td><td><span style=white-space:pre-wrap>CTT       </span></td><td><span style=white-space:pre-wrap>R168X     </span></td><td>&lt; 0.001</td></tr>\n",
       "\t<tr><th scope=row>CTT - R255X</th><td>0.0000</td><td><span style=white-space:pre-wrap>CTT       </span></td><td><span style=white-space:pre-wrap>R255X     </span></td><td>&lt; 0.001</td></tr>\n",
       "\t<tr><th scope=row>CTT - R270X</th><td>0.0000</td><td><span style=white-space:pre-wrap>CTT       </span></td><td><span style=white-space:pre-wrap>R270X     </span></td><td>&lt; 0.001</td></tr>\n",
       "\t<tr><th scope=row>CTT - R294X</th><td>0.9647</td><td>CTT       </td><td>R294X     </td><td>1      </td></tr>\n",
       "\t<tr><th scope=row>CTT - R306C</th><td>0.3139</td><td>CTT       </td><td>R306C     </td><td>1      </td></tr>\n",
       "\t<tr><th scope=row>CTT - T158M</th><td>0.0290</td><td><span style=white-space:pre-wrap>CTT       </span></td><td><span style=white-space:pre-wrap>T158M     </span></td><td>&lt; 0.05 </td></tr>\n",
       "\t<tr><th scope=row>earlytrunc - LargeDel</th><td>0.9952</td><td>earlytrunc</td><td>LargeDel  </td><td>1      </td></tr>\n",
       "\t<tr><th scope=row>earlytrunc - R106W</th><td>1.0000</td><td>earlytrunc</td><td>R106W     </td><td>1      </td></tr>\n",
       "\t<tr><th scope=row>earlytrunc - R133C</th><td>0.0000</td><td>earlytrunc</td><td><span style=white-space:pre-wrap>R133C     </span></td><td>&lt; 0.001</td></tr>\n",
       "\t<tr><th scope=row>earlytrunc - R168X</th><td>0.6725</td><td>earlytrunc</td><td>R168X     </td><td>1      </td></tr>\n",
       "\t<tr><th scope=row>earlytrunc - R255X</th><td>0.6818</td><td>earlytrunc</td><td>R255X     </td><td>1      </td></tr>\n",
       "\t<tr><th scope=row>earlytrunc - R270X</th><td>0.4556</td><td>earlytrunc</td><td>R270X     </td><td>1      </td></tr>\n",
       "\t<tr><th scope=row>earlytrunc - R294X</th><td>0.0000</td><td>earlytrunc</td><td><span style=white-space:pre-wrap>R294X     </span></td><td>&lt; 0.001</td></tr>\n",
       "\t<tr><th scope=row>earlytrunc - R306C</th><td>0.0000</td><td>earlytrunc</td><td><span style=white-space:pre-wrap>R306C     </span></td><td>&lt; 0.001</td></tr>\n",
       "\t<tr><th scope=row>earlytrunc - T158M</th><td>0.8026</td><td>earlytrunc</td><td>T158M     </td><td>1      </td></tr>\n",
       "\t<tr><th scope=row>LargeDel - R106W</th><td>0.9925</td><td>LargeDel  </td><td>R106W     </td><td>1      </td></tr>\n",
       "\t<tr><th scope=row>LargeDel - R133C</th><td>0.0000</td><td><span style=white-space:pre-wrap>LargeDel  </span></td><td><span style=white-space:pre-wrap>R133C     </span></td><td>&lt; 0.001</td></tr>\n",
       "\t<tr><th scope=row>LargeDel - R168X</th><td>0.0851</td><td>LargeDel  </td><td>R168X     </td><td>1      </td></tr>\n",
       "\t<tr><th scope=row>LargeDel - R255X</th><td>0.0943</td><td>LargeDel  </td><td>R255X     </td><td>1      </td></tr>\n",
       "\t<tr><th scope=row>LargeDel - R270X</th><td>0.0561</td><td>LargeDel  </td><td>R270X     </td><td>1      </td></tr>\n",
       "\t<tr><th scope=row>LargeDel - R294X</th><td>0.0002</td><td><span style=white-space:pre-wrap>LargeDel  </span></td><td><span style=white-space:pre-wrap>R294X     </span></td><td>&lt; 0.001</td></tr>\n",
       "\t<tr><th scope=row>LargeDel - R306C</th><td>0.0000</td><td><span style=white-space:pre-wrap>LargeDel  </span></td><td><span style=white-space:pre-wrap>R306C     </span></td><td>&lt; 0.001</td></tr>\n",
       "\t<tr><th scope=row>LargeDel - T158M</th><td>0.9998</td><td>LargeDel  </td><td>T158M     </td><td>1      </td></tr>\n",
       "\t<tr><th scope=row>R106W - R133C</th><td>0.0000</td><td><span style=white-space:pre-wrap>R106W     </span></td><td><span style=white-space:pre-wrap>R133C     </span></td><td>&lt; 0.001</td></tr>\n",
       "\t<tr><th scope=row>R106W - R168X</th><td>0.9946</td><td>R106W     </td><td>R168X     </td><td>1      </td></tr>\n",
       "\t<tr><th scope=row>R106W - R255X</th><td>0.9942</td><td>R106W     </td><td>R255X     </td><td>1      </td></tr>\n",
       "\t<tr><th scope=row>...</th><td>...</td><td>...</td><td>...</td><td>...</td></tr>\n",
       "\t<tr><th scope=row>LargeDel - R306C1</th><td>0.0000</td><td>R306C</td><td>LargeDel</td><td>&lt; 0.001</td></tr>\n",
       "\t<tr><th scope=row>LargeDel - T158M1</th><td>0.9998</td><td>T158M</td><td>LargeDel</td><td>1      </td></tr>\n",
       "\t<tr><th scope=row>R106W - R133C1</th><td>0.0000</td><td>R133C</td><td><span style=white-space:pre-wrap>R106W   </span></td><td>&lt; 0.001</td></tr>\n",
       "\t<tr><th scope=row>R106W - R168X1</th><td>0.9946</td><td>R168X</td><td>R106W   </td><td>1      </td></tr>\n",
       "\t<tr><th scope=row>R106W - R255X1</th><td>0.9942</td><td>R255X</td><td>R106W   </td><td>1      </td></tr>\n",
       "\t<tr><th scope=row>R106W - R270X1</th><td>0.9498</td><td>R270X</td><td>R106W   </td><td>1      </td></tr>\n",
       "\t<tr><th scope=row>R106W - R294X1</th><td>0.0003</td><td>R294X</td><td><span style=white-space:pre-wrap>R106W   </span></td><td>&lt; 0.001</td></tr>\n",
       "\t<tr><th scope=row>R106W - R306C1</th><td>0.0000</td><td>R306C</td><td><span style=white-space:pre-wrap>R106W   </span></td><td>&lt; 0.001</td></tr>\n",
       "\t<tr><th scope=row>R106W - T158M1</th><td>0.8849</td><td>T158M</td><td>R106W   </td><td>1      </td></tr>\n",
       "\t<tr><th scope=row>R133C - R168X1</th><td>0.0000</td><td>R168X</td><td><span style=white-space:pre-wrap>R133C   </span></td><td>&lt; 0.001</td></tr>\n",
       "\t<tr><th scope=row>R133C - R255X1</th><td>0.0000</td><td>R255X</td><td><span style=white-space:pre-wrap>R133C   </span></td><td>&lt; 0.001</td></tr>\n",
       "\t<tr><th scope=row>R133C - R270X1</th><td>0.0000</td><td>R270X</td><td><span style=white-space:pre-wrap>R133C   </span></td><td>&lt; 0.001</td></tr>\n",
       "\t<tr><th scope=row>R133C - R294X1</th><td>0.9998</td><td>R294X</td><td>R133C   </td><td>1      </td></tr>\n",
       "\t<tr><th scope=row>R133C - R306C1</th><td>1.0000</td><td>R306C</td><td>R133C   </td><td>1      </td></tr>\n",
       "\t<tr><th scope=row>R133C - T158M1</th><td>0.0000</td><td>T158M</td><td><span style=white-space:pre-wrap>R133C   </span></td><td>&lt; 0.001</td></tr>\n",
       "\t<tr><th scope=row>R168X - R255X1</th><td>1.0000</td><td>R255X</td><td>R168X   </td><td>1      </td></tr>\n",
       "\t<tr><th scope=row>R168X - R270X1</th><td>0.9999</td><td>R270X</td><td>R168X   </td><td>1      </td></tr>\n",
       "\t<tr><th scope=row>R168X - R294X1</th><td>0.0000</td><td>R294X</td><td><span style=white-space:pre-wrap>R168X   </span></td><td>&lt; 0.001</td></tr>\n",
       "\t<tr><th scope=row>R168X - R306C1</th><td>0.0000</td><td>R306C</td><td><span style=white-space:pre-wrap>R168X   </span></td><td>&lt; 0.001</td></tr>\n",
       "\t<tr><th scope=row>R168X - T158M1</th><td>0.0046</td><td>T158M</td><td><span style=white-space:pre-wrap>R168X   </span></td><td>&lt; 0.01 </td></tr>\n",
       "\t<tr><th scope=row>R255X - R270X1</th><td>1.0000</td><td>R270X</td><td>R255X   </td><td>1      </td></tr>\n",
       "\t<tr><th scope=row>R255X - R294X1</th><td>0.0000</td><td>R294X</td><td><span style=white-space:pre-wrap>R255X   </span></td><td>&lt; 0.001</td></tr>\n",
       "\t<tr><th scope=row>R255X - R306C1</th><td>0.0000</td><td>R306C</td><td><span style=white-space:pre-wrap>R255X   </span></td><td>&lt; 0.001</td></tr>\n",
       "\t<tr><th scope=row>R255X - T158M1</th><td>0.0059</td><td>T158M</td><td><span style=white-space:pre-wrap>R255X   </span></td><td>&lt; 0.01 </td></tr>\n",
       "\t<tr><th scope=row>R270X - R294X1</th><td>0.0000</td><td>R294X</td><td><span style=white-space:pre-wrap>R270X   </span></td><td>&lt; 0.001</td></tr>\n",
       "\t<tr><th scope=row>R270X - R306C1</th><td>0.0000</td><td>R306C</td><td><span style=white-space:pre-wrap>R270X   </span></td><td>&lt; 0.001</td></tr>\n",
       "\t<tr><th scope=row>R270X - T158M1</th><td>0.0047</td><td>T158M</td><td><span style=white-space:pre-wrap>R270X   </span></td><td>&lt; 0.01 </td></tr>\n",
       "\t<tr><th scope=row>R294X - R306C1</th><td>0.9987</td><td>R306C</td><td>R294X   </td><td>1      </td></tr>\n",
       "\t<tr><th scope=row>R294X - T158M1</th><td>0.0016</td><td>T158M</td><td><span style=white-space:pre-wrap>R294X   </span></td><td>&lt; 0.01 </td></tr>\n",
       "\t<tr><th scope=row>R306C - T158M1</th><td>0.0000</td><td>T158M</td><td><span style=white-space:pre-wrap>R306C   </span></td><td>&lt; 0.001</td></tr>\n",
       "</tbody>\n",
       "</table>\n"
      ],
      "text/latex": [
       "A data.frame: 110 × 4\n",
       "\\begin{tabular}{r|llll}\n",
       "  & pvalue & A & B & signif\\\\\n",
       "  & <dbl> & <chr> & <chr> & <chr>\\\\\n",
       "\\hline\n",
       "\tCTT - earlytrunc & 0.0000 & CTT        & earlytrunc & < 0.001\\\\\n",
       "\tCTT - LargeDel & 0.0036 & CTT        & LargeDel   & < 0.01 \\\\\n",
       "\tCTT - R106W & 0.0052 & CTT        & R106W      & < 0.01 \\\\\n",
       "\tCTT - R133C & 0.5517 & CTT        & R133C      & 1      \\\\\n",
       "\tCTT - R168X & 0.0000 & CTT        & R168X      & < 0.001\\\\\n",
       "\tCTT - R255X & 0.0000 & CTT        & R255X      & < 0.001\\\\\n",
       "\tCTT - R270X & 0.0000 & CTT        & R270X      & < 0.001\\\\\n",
       "\tCTT - R294X & 0.9647 & CTT        & R294X      & 1      \\\\\n",
       "\tCTT - R306C & 0.3139 & CTT        & R306C      & 1      \\\\\n",
       "\tCTT - T158M & 0.0290 & CTT        & T158M      & < 0.05 \\\\\n",
       "\tearlytrunc - LargeDel & 0.9952 & earlytrunc & LargeDel   & 1      \\\\\n",
       "\tearlytrunc - R106W & 1.0000 & earlytrunc & R106W      & 1      \\\\\n",
       "\tearlytrunc - R133C & 0.0000 & earlytrunc & R133C      & < 0.001\\\\\n",
       "\tearlytrunc - R168X & 0.6725 & earlytrunc & R168X      & 1      \\\\\n",
       "\tearlytrunc - R255X & 0.6818 & earlytrunc & R255X      & 1      \\\\\n",
       "\tearlytrunc - R270X & 0.4556 & earlytrunc & R270X      & 1      \\\\\n",
       "\tearlytrunc - R294X & 0.0000 & earlytrunc & R294X      & < 0.001\\\\\n",
       "\tearlytrunc - R306C & 0.0000 & earlytrunc & R306C      & < 0.001\\\\\n",
       "\tearlytrunc - T158M & 0.8026 & earlytrunc & T158M      & 1      \\\\\n",
       "\tLargeDel - R106W & 0.9925 & LargeDel   & R106W      & 1      \\\\\n",
       "\tLargeDel - R133C & 0.0000 & LargeDel   & R133C      & < 0.001\\\\\n",
       "\tLargeDel - R168X & 0.0851 & LargeDel   & R168X      & 1      \\\\\n",
       "\tLargeDel - R255X & 0.0943 & LargeDel   & R255X      & 1      \\\\\n",
       "\tLargeDel - R270X & 0.0561 & LargeDel   & R270X      & 1      \\\\\n",
       "\tLargeDel - R294X & 0.0002 & LargeDel   & R294X      & < 0.001\\\\\n",
       "\tLargeDel - R306C & 0.0000 & LargeDel   & R306C      & < 0.001\\\\\n",
       "\tLargeDel - T158M & 0.9998 & LargeDel   & T158M      & 1      \\\\\n",
       "\tR106W - R133C & 0.0000 & R106W      & R133C      & < 0.001\\\\\n",
       "\tR106W - R168X & 0.9946 & R106W      & R168X      & 1      \\\\\n",
       "\tR106W - R255X & 0.9942 & R106W      & R255X      & 1      \\\\\n",
       "\t... & ... & ... & ... & ...\\\\\n",
       "\tLargeDel - R306C1 & 0.0000 & R306C & LargeDel & < 0.001\\\\\n",
       "\tLargeDel - T158M1 & 0.9998 & T158M & LargeDel & 1      \\\\\n",
       "\tR106W - R133C1 & 0.0000 & R133C & R106W    & < 0.001\\\\\n",
       "\tR106W - R168X1 & 0.9946 & R168X & R106W    & 1      \\\\\n",
       "\tR106W - R255X1 & 0.9942 & R255X & R106W    & 1      \\\\\n",
       "\tR106W - R270X1 & 0.9498 & R270X & R106W    & 1      \\\\\n",
       "\tR106W - R294X1 & 0.0003 & R294X & R106W    & < 0.001\\\\\n",
       "\tR106W - R306C1 & 0.0000 & R306C & R106W    & < 0.001\\\\\n",
       "\tR106W - T158M1 & 0.8849 & T158M & R106W    & 1      \\\\\n",
       "\tR133C - R168X1 & 0.0000 & R168X & R133C    & < 0.001\\\\\n",
       "\tR133C - R255X1 & 0.0000 & R255X & R133C    & < 0.001\\\\\n",
       "\tR133C - R270X1 & 0.0000 & R270X & R133C    & < 0.001\\\\\n",
       "\tR133C - R294X1 & 0.9998 & R294X & R133C    & 1      \\\\\n",
       "\tR133C - R306C1 & 1.0000 & R306C & R133C    & 1      \\\\\n",
       "\tR133C - T158M1 & 0.0000 & T158M & R133C    & < 0.001\\\\\n",
       "\tR168X - R255X1 & 1.0000 & R255X & R168X    & 1      \\\\\n",
       "\tR168X - R270X1 & 0.9999 & R270X & R168X    & 1      \\\\\n",
       "\tR168X - R294X1 & 0.0000 & R294X & R168X    & < 0.001\\\\\n",
       "\tR168X - R306C1 & 0.0000 & R306C & R168X    & < 0.001\\\\\n",
       "\tR168X - T158M1 & 0.0046 & T158M & R168X    & < 0.01 \\\\\n",
       "\tR255X - R270X1 & 1.0000 & R270X & R255X    & 1      \\\\\n",
       "\tR255X - R294X1 & 0.0000 & R294X & R255X    & < 0.001\\\\\n",
       "\tR255X - R306C1 & 0.0000 & R306C & R255X    & < 0.001\\\\\n",
       "\tR255X - T158M1 & 0.0059 & T158M & R255X    & < 0.01 \\\\\n",
       "\tR270X - R294X1 & 0.0000 & R294X & R270X    & < 0.001\\\\\n",
       "\tR270X - R306C1 & 0.0000 & R306C & R270X    & < 0.001\\\\\n",
       "\tR270X - T158M1 & 0.0047 & T158M & R270X    & < 0.01 \\\\\n",
       "\tR294X - R306C1 & 0.9987 & R306C & R294X    & 1      \\\\\n",
       "\tR294X - T158M1 & 0.0016 & T158M & R294X    & < 0.01 \\\\\n",
       "\tR306C - T158M1 & 0.0000 & T158M & R306C    & < 0.001\\\\\n",
       "\\end{tabular}\n"
      ],
      "text/markdown": [
       "\n",
       "A data.frame: 110 × 4\n",
       "\n",
       "| <!--/--> | pvalue &lt;dbl&gt; | A &lt;chr&gt; | B &lt;chr&gt; | signif &lt;chr&gt; |\n",
       "|---|---|---|---|---|\n",
       "| CTT - earlytrunc | 0.0000 | CTT        | earlytrunc | &lt; 0.001 |\n",
       "| CTT - LargeDel | 0.0036 | CTT        | LargeDel   | &lt; 0.01  |\n",
       "| CTT - R106W | 0.0052 | CTT        | R106W      | &lt; 0.01  |\n",
       "| CTT - R133C | 0.5517 | CTT        | R133C      | 1       |\n",
       "| CTT - R168X | 0.0000 | CTT        | R168X      | &lt; 0.001 |\n",
       "| CTT - R255X | 0.0000 | CTT        | R255X      | &lt; 0.001 |\n",
       "| CTT - R270X | 0.0000 | CTT        | R270X      | &lt; 0.001 |\n",
       "| CTT - R294X | 0.9647 | CTT        | R294X      | 1       |\n",
       "| CTT - R306C | 0.3139 | CTT        | R306C      | 1       |\n",
       "| CTT - T158M | 0.0290 | CTT        | T158M      | &lt; 0.05  |\n",
       "| earlytrunc - LargeDel | 0.9952 | earlytrunc | LargeDel   | 1       |\n",
       "| earlytrunc - R106W | 1.0000 | earlytrunc | R106W      | 1       |\n",
       "| earlytrunc - R133C | 0.0000 | earlytrunc | R133C      | &lt; 0.001 |\n",
       "| earlytrunc - R168X | 0.6725 | earlytrunc | R168X      | 1       |\n",
       "| earlytrunc - R255X | 0.6818 | earlytrunc | R255X      | 1       |\n",
       "| earlytrunc - R270X | 0.4556 | earlytrunc | R270X      | 1       |\n",
       "| earlytrunc - R294X | 0.0000 | earlytrunc | R294X      | &lt; 0.001 |\n",
       "| earlytrunc - R306C | 0.0000 | earlytrunc | R306C      | &lt; 0.001 |\n",
       "| earlytrunc - T158M | 0.8026 | earlytrunc | T158M      | 1       |\n",
       "| LargeDel - R106W | 0.9925 | LargeDel   | R106W      | 1       |\n",
       "| LargeDel - R133C | 0.0000 | LargeDel   | R133C      | &lt; 0.001 |\n",
       "| LargeDel - R168X | 0.0851 | LargeDel   | R168X      | 1       |\n",
       "| LargeDel - R255X | 0.0943 | LargeDel   | R255X      | 1       |\n",
       "| LargeDel - R270X | 0.0561 | LargeDel   | R270X      | 1       |\n",
       "| LargeDel - R294X | 0.0002 | LargeDel   | R294X      | &lt; 0.001 |\n",
       "| LargeDel - R306C | 0.0000 | LargeDel   | R306C      | &lt; 0.001 |\n",
       "| LargeDel - T158M | 0.9998 | LargeDel   | T158M      | 1       |\n",
       "| R106W - R133C | 0.0000 | R106W      | R133C      | &lt; 0.001 |\n",
       "| R106W - R168X | 0.9946 | R106W      | R168X      | 1       |\n",
       "| R106W - R255X | 0.9942 | R106W      | R255X      | 1       |\n",
       "| ... | ... | ... | ... | ... |\n",
       "| LargeDel - R306C1 | 0.0000 | R306C | LargeDel | &lt; 0.001 |\n",
       "| LargeDel - T158M1 | 0.9998 | T158M | LargeDel | 1       |\n",
       "| R106W - R133C1 | 0.0000 | R133C | R106W    | &lt; 0.001 |\n",
       "| R106W - R168X1 | 0.9946 | R168X | R106W    | 1       |\n",
       "| R106W - R255X1 | 0.9942 | R255X | R106W    | 1       |\n",
       "| R106W - R270X1 | 0.9498 | R270X | R106W    | 1       |\n",
       "| R106W - R294X1 | 0.0003 | R294X | R106W    | &lt; 0.001 |\n",
       "| R106W - R306C1 | 0.0000 | R306C | R106W    | &lt; 0.001 |\n",
       "| R106W - T158M1 | 0.8849 | T158M | R106W    | 1       |\n",
       "| R133C - R168X1 | 0.0000 | R168X | R133C    | &lt; 0.001 |\n",
       "| R133C - R255X1 | 0.0000 | R255X | R133C    | &lt; 0.001 |\n",
       "| R133C - R270X1 | 0.0000 | R270X | R133C    | &lt; 0.001 |\n",
       "| R133C - R294X1 | 0.9998 | R294X | R133C    | 1       |\n",
       "| R133C - R306C1 | 1.0000 | R306C | R133C    | 1       |\n",
       "| R133C - T158M1 | 0.0000 | T158M | R133C    | &lt; 0.001 |\n",
       "| R168X - R255X1 | 1.0000 | R255X | R168X    | 1       |\n",
       "| R168X - R270X1 | 0.9999 | R270X | R168X    | 1       |\n",
       "| R168X - R294X1 | 0.0000 | R294X | R168X    | &lt; 0.001 |\n",
       "| R168X - R306C1 | 0.0000 | R306C | R168X    | &lt; 0.001 |\n",
       "| R168X - T158M1 | 0.0046 | T158M | R168X    | &lt; 0.01  |\n",
       "| R255X - R270X1 | 1.0000 | R270X | R255X    | 1       |\n",
       "| R255X - R294X1 | 0.0000 | R294X | R255X    | &lt; 0.001 |\n",
       "| R255X - R306C1 | 0.0000 | R306C | R255X    | &lt; 0.001 |\n",
       "| R255X - T158M1 | 0.0059 | T158M | R255X    | &lt; 0.01  |\n",
       "| R270X - R294X1 | 0.0000 | R294X | R270X    | &lt; 0.001 |\n",
       "| R270X - R306C1 | 0.0000 | R306C | R270X    | &lt; 0.001 |\n",
       "| R270X - T158M1 | 0.0047 | T158M | R270X    | &lt; 0.01  |\n",
       "| R294X - R306C1 | 0.9987 | R306C | R294X    | 1       |\n",
       "| R294X - T158M1 | 0.0016 | T158M | R294X    | &lt; 0.01  |\n",
       "| R306C - T158M1 | 0.0000 | T158M | R306C    | &lt; 0.001 |\n",
       "\n"
      ],
      "text/plain": [
       "                      pvalue A          B          signif \n",
       "CTT - earlytrunc      0.0000 CTT        earlytrunc < 0.001\n",
       "CTT - LargeDel        0.0036 CTT        LargeDel   < 0.01 \n",
       "CTT - R106W           0.0052 CTT        R106W      < 0.01 \n",
       "CTT - R133C           0.5517 CTT        R133C      1      \n",
       "CTT - R168X           0.0000 CTT        R168X      < 0.001\n",
       "CTT - R255X           0.0000 CTT        R255X      < 0.001\n",
       "CTT - R270X           0.0000 CTT        R270X      < 0.001\n",
       "CTT - R294X           0.9647 CTT        R294X      1      \n",
       "CTT - R306C           0.3139 CTT        R306C      1      \n",
       "CTT - T158M           0.0290 CTT        T158M      < 0.05 \n",
       "earlytrunc - LargeDel 0.9952 earlytrunc LargeDel   1      \n",
       "earlytrunc - R106W    1.0000 earlytrunc R106W      1      \n",
       "earlytrunc - R133C    0.0000 earlytrunc R133C      < 0.001\n",
       "earlytrunc - R168X    0.6725 earlytrunc R168X      1      \n",
       "earlytrunc - R255X    0.6818 earlytrunc R255X      1      \n",
       "earlytrunc - R270X    0.4556 earlytrunc R270X      1      \n",
       "earlytrunc - R294X    0.0000 earlytrunc R294X      < 0.001\n",
       "earlytrunc - R306C    0.0000 earlytrunc R306C      < 0.001\n",
       "earlytrunc - T158M    0.8026 earlytrunc T158M      1      \n",
       "LargeDel - R106W      0.9925 LargeDel   R106W      1      \n",
       "LargeDel - R133C      0.0000 LargeDel   R133C      < 0.001\n",
       "LargeDel - R168X      0.0851 LargeDel   R168X      1      \n",
       "LargeDel - R255X      0.0943 LargeDel   R255X      1      \n",
       "LargeDel - R270X      0.0561 LargeDel   R270X      1      \n",
       "LargeDel - R294X      0.0002 LargeDel   R294X      < 0.001\n",
       "LargeDel - R306C      0.0000 LargeDel   R306C      < 0.001\n",
       "LargeDel - T158M      0.9998 LargeDel   T158M      1      \n",
       "R106W - R133C         0.0000 R106W      R133C      < 0.001\n",
       "R106W - R168X         0.9946 R106W      R168X      1      \n",
       "R106W - R255X         0.9942 R106W      R255X      1      \n",
       "...                   ...    ...        ...        ...    \n",
       "LargeDel - R306C1     0.0000 R306C      LargeDel   < 0.001\n",
       "LargeDel - T158M1     0.9998 T158M      LargeDel   1      \n",
       "R106W - R133C1        0.0000 R133C      R106W      < 0.001\n",
       "R106W - R168X1        0.9946 R168X      R106W      1      \n",
       "R106W - R255X1        0.9942 R255X      R106W      1      \n",
       "R106W - R270X1        0.9498 R270X      R106W      1      \n",
       "R106W - R294X1        0.0003 R294X      R106W      < 0.001\n",
       "R106W - R306C1        0.0000 R306C      R106W      < 0.001\n",
       "R106W - T158M1        0.8849 T158M      R106W      1      \n",
       "R133C - R168X1        0.0000 R168X      R133C      < 0.001\n",
       "R133C - R255X1        0.0000 R255X      R133C      < 0.001\n",
       "R133C - R270X1        0.0000 R270X      R133C      < 0.001\n",
       "R133C - R294X1        0.9998 R294X      R133C      1      \n",
       "R133C - R306C1        1.0000 R306C      R133C      1      \n",
       "R133C - T158M1        0.0000 T158M      R133C      < 0.001\n",
       "R168X - R255X1        1.0000 R255X      R168X      1      \n",
       "R168X - R270X1        0.9999 R270X      R168X      1      \n",
       "R168X - R294X1        0.0000 R294X      R168X      < 0.001\n",
       "R168X - R306C1        0.0000 R306C      R168X      < 0.001\n",
       "R168X - T158M1        0.0046 T158M      R168X      < 0.01 \n",
       "R255X - R270X1        1.0000 R270X      R255X      1      \n",
       "R255X - R294X1        0.0000 R294X      R255X      < 0.001\n",
       "R255X - R306C1        0.0000 R306C      R255X      < 0.001\n",
       "R255X - T158M1        0.0059 T158M      R255X      < 0.01 \n",
       "R270X - R294X1        0.0000 R294X      R270X      < 0.001\n",
       "R270X - R306C1        0.0000 R306C      R270X      < 0.001\n",
       "R270X - T158M1        0.0047 T158M      R270X      < 0.01 \n",
       "R294X - R306C1        0.9987 R306C      R294X      1      \n",
       "R294X - T158M1        0.0016 T158M      R294X      < 0.01 \n",
       "R306C - T158M1        0.0000 T158M      R306C      < 0.001"
      ]
     },
     "metadata": {},
     "output_type": "display_data"
    }
   ],
   "source": [
    "pvals"
   ]
  },
  {
   "cell_type": "code",
   "execution_count": 59,
   "id": "eada7002",
   "metadata": {},
   "outputs": [
    {
     "name": "stderr",
     "output_type": "stream",
     "text": [
      "Warning message:\n",
      "\"\u001b[1m\u001b[22mThe `size` argument of `element_rect()` is deprecated as of ggplot2 3.4.0.\n",
      "\u001b[36mi\u001b[39m Please use the `linewidth` argument instead.\"\n"
     ]
    },
    {
     "data": {
      "text/html": [
       "<strong>png:</strong> 2"
      ],
      "text/latex": [
       "\\textbf{png:} 2"
      ],
      "text/markdown": [
       "**png:** 2"
      ],
      "text/plain": [
       "png \n",
       "  2 "
      ]
     },
     "metadata": {},
     "output_type": "display_data"
    },
    {
     "data": {
      "image/png": "[encoded data removed]",
      "text/plain": [
       "plot without title"
      ]
     },
     "metadata": {
      "image/png": {
       "height": 420,
       "width": 420
      }
     },
     "output_type": "display_data"
    }
   ],
   "source": [
    "#plot pairwise comparisons\n",
    "My_Theme = theme(\n",
    "  axis.title.x = element_blank(), #element_text(size = 20, face=\"bold\", color = \"black\"),\n",
    "  axis.text.x = element_text(size = 30, face = \"bold\", color = \"black\", angle = 90, vjust = 0.5, hjust=1),\n",
    "  axis.title.y = element_blank(),\n",
    "  axis.text.y = element_text(size = 30, face = \"bold\", color = \"black\"),  \n",
    "  axis.line=element_line(size = 2, color = \"black\"),\n",
    "  axis.ticks = element_line(size = 2, color = \"black\"),\n",
    "  axis.ticks.length=unit(0.1,\"inch\"),    \n",
    "  legend.text = element_text(size=30, face = \"bold\", color = \"black\"),\n",
    "  legend.title = element_text(size = 30, face = \"bold\", color = \"black\"))\n",
    "\n",
    "level_order <- c('R306C',\n",
    "                 'R133C',\n",
    "                 'R294X',\n",
    "                 'CTT',\n",
    "                 'T158M',\n",
    "                 'LargeDel',\n",
    "                 'R106W',\n",
    "                 'earlytrunc',                 \n",
    "                 'R168X',\n",
    "                 'R255X',\n",
    "                 'R270X')\n",
    "\n",
    "\n",
    "\n",
    "pvalplot <- pvals %>%\n",
    " ggplot(aes(x = factor(A, level = level_order), y = factor(B, level = level_order), fill = signif)) +\n",
    " geom_tile(color = \"black\") +\n",
    "theme_classic() +\n",
    "My_Theme +\n",
    " scale_x_discrete(expand=c(0.02,0)) +\n",
    " scale_y_discrete(expand=c(0.02,0)) +\n",
    "scale_fill_manual(values = c(\"#FF6666\", \"#FFB266\", \"#FFFF66\", \"#66FFFF\"),\n",
    "                              name = \"Tukey's p\", \n",
    "                              labels = c('<0.001', '<0.01', '<0.05', 'NS')) +\n",
    "coord_equal() +\n",
    "theme(panel.border=element_rect(fill = NA, colour='black', size=2)) +\n",
    "annotate(\"rect\", xmin=c(0.5, 4.5), \n",
    "                 xmax=c(4.5, 11.5), \n",
    "                 ymin=c(0.5, 4.5), \n",
    "                 ymax=c(4.5, 11.5), colour=\"black\", fill=\"transparent\", size=2)\n",
    "\n",
    "png(file=\"C:/Users/jkmer/Desktop/2023_css/pvalues_allmut.png\",\n",
    "units=\"in\", width=9, height=9, res=300)\n",
    "pvalplot\n",
    "dev.off()\n",
    "\n",
    "pvalplot\n"
   ]
  },
  {
   "cell_type": "markdown",
   "id": "0ddc6697",
   "metadata": {},
   "source": [
    "## Distribution of percentiles to show collapsing of genotype - phenotype in the nCSS score"
   ]
  },
  {
   "cell_type": "code",
   "execution_count": 60,
   "id": "c53f353c",
   "metadata": {},
   "outputs": [],
   "source": [
    "#calculate and assign percentiles to predicted terminal values, based on cumulative distributions \n",
    "#of terminal values\n",
    "#create dummy array (TotalScores) with all grouping3 and score combinations at age 25\n",
    "\n",
    "Grouping3 <- c(\"R106W\", \n",
    "               \"R133C\", \n",
    "               \"T158M\", \n",
    "               \"R168X\", \n",
    "               \"R255X\", \n",
    "               \"R270X\", \n",
    "               \"R294X\", \n",
    "               \"R306C\",\n",
    "               \"CTT\",\n",
    "               \"LargeDel\",\n",
    "               \"earlytrunc\")\n",
    "fitted <- seq(from = 0, to = 1, by = 0.01)\n",
    "\n",
    "TotalScores = data.frame(fitted)\n",
    "\n",
    "TotalScores_mut <- TotalScores %>% \n",
    "    group_by(fitted) %>% \n",
    "    tidyr::expand(Grouping3)\n",
    "\n",
    "TotalScores_df <- as.data.frame(TotalScores_mut)\n"
   ]
  },
  {
   "cell_type": "code",
   "execution_count": 61,
   "id": "80adc1a0",
   "metadata": {},
   "outputs": [],
   "source": [
    "#for loop to calculate dummy array TotalScores_df percentiles \n",
    "#from cumulative dist. of predicted terminal values for common cases\n",
    "\n",
    "scores_percentile = data.frame()\n",
    "\n",
    "predictions <- individual_percentiles\n",
    "\n",
    "for (j in Grouping3) {\n",
    "        pred_scores <- predictions[predictions$grouping3 == j ,]\n",
    "        predict_fx <- ecdf(pred_scores$Percentile)\n",
    "        scores_restrict <- TotalScores_df[TotalScores_df$Grouping3 == j ,]\n",
    "        scores_restrict$Percentile <- predict_fx(v = scores_restrict$fitted)\n",
    "        rownames(scores_restrict) <- NULL\n",
    "        # Using rbind() to append the output of one iteration to the dataframe\n",
    "        scores_percentile = rbind(scores_percentile, scores_restrict)\n",
    "        }\n",
    "    \n",
    "colnames(scores_percentile) = c( 'Percentile', 'grouping3', 'Percentile2')"
   ]
  },
  {
   "cell_type": "code",
   "execution_count": 62,
   "id": "e059c2a4",
   "metadata": {},
   "outputs": [],
   "source": [
    "#assign percentiles to estimated terminal scores for all diagnosis\n",
    "individual_percentiles2 <- merge(individual_percentiles, scores_percentile, by=c(\"Percentile\",\"grouping3\")) %>%\n",
    "                           unique()\n"
   ]
  },
  {
   "cell_type": "code",
   "execution_count": 63,
   "id": "9e1c4846",
   "metadata": {
    "scrolled": true
   },
   "outputs": [
    {
     "data": {
      "text/html": [
       "<strong>png:</strong> 2"
      ],
      "text/latex": [
       "\\textbf{png:} 2"
      ],
      "text/markdown": [
       "**png:** 2"
      ],
      "text/plain": [
       "png \n",
       "  2 "
      ]
     },
     "metadata": {},
     "output_type": "display_data"
    },
    {
     "data": {
      "image/png": "[encoded data removed]",
      "text/plain": [
       "plot without title"
      ]
     },
     "metadata": {
      "image/png": {
       "height": 420,
       "width": 420
      }
     },
     "output_type": "display_data"
    }
   ],
   "source": [
    "#plot cdf percentiles calculated from common percentiles\n",
    "My_Theme = theme(\n",
    "  axis.title.x = element_text(size = 30, face=\"bold\", color = \"black\"),\n",
    "  axis.text.x = element_text(size = 30, face=\"bold\", color = \"black\"),\n",
    "  axis.title.y = element_text(size = 30, face=\"bold\", color = \"black\"),\n",
    "  axis.text.y = element_text(size = 30, face=\"bold\", color = \"black\"),  \n",
    "  axis.line = element_line(size = 2, color = \"black\"),\n",
    "  axis.ticks = element_line(size = 2, color = \"black\"),\n",
    "  legend.text = element_text(size = 30, face = \"bold\", color = \"black\"),\n",
    "  legend.title = element_blank())#element_text(size = 20, face=\"bold\", color = \"black\"))\n",
    "\n",
    "\n",
    "individual_percentiles2$grouping3 <- factor(individual_percentiles2$grouping3, levels = c(\"earlytrunc\",\n",
    "                                 \"R106W\",\n",
    "                                 \"R133C\",\n",
    "                                 \"T158M\",\n",
    "                                 \"R168X\",\n",
    "                                 \"R255X\",\n",
    "                                 \"R270X\",\n",
    "                                 \"R294X\",\n",
    "                                 \"R306C\",\n",
    "                                 \"LargeDel\",\n",
    "                                 \"CTT\")) \n",
    "\n",
    "\n",
    "distplot <- individual_percentiles2 %>% \n",
    "        #filter(grouping3 != \"LargeDel\" & grouping3 != \"earlytrunc\" & grouping3 != \"CTT\") %>% \n",
    "        ggplot() +\n",
    "            #geom_point(aes(x = pred, y = Percentile, color = grouping3)) +\n",
    "            geom_line(aes(x = Percentile, y = 100*Percentile2, color = grouping3), size = 3) +\n",
    "        labs(color='Mutation') + \n",
    "        ylab(\"Percentile\") + \n",
    "        xlab(\"Normative CSS\") +\n",
    "        theme_classic() + \n",
    "        scale_color_manual(values = testpal) +\n",
    "        My_Theme + \n",
    "        theme(legend.position = c(0.85, 0.4)) +\n",
    "                scale_y_continuous(expand = c(0,0),\n",
    "                     limits = c(0,110))# +\n",
    "       # xlim(0,120)\n",
    "\n",
    "png(file=\"C:/Users/jkmer/Desktop/2023_css/distributions_allmut_percentiles.png\",\n",
    "units=\"in\", width=16, height=8, res=300)\n",
    "distplot\n",
    "dev.off()\n",
    "\n",
    "distplot"
   ]
  }
 ],
 "metadata": {
  "kernelspec": {
   "display_name": "R",
   "language": "R",
   "name": "ir"
  },
  "language_info": {
   "codemirror_mode": "r",
   "file_extension": ".r",
   "mimetype": "text/x-r-source",
   "name": "R",
   "pygments_lexer": "r",
   "version": "4.1.3"
  }
 },
 "nbformat": 4,
 "nbformat_minor": 5
}

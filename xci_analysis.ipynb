{
 "cells": [
  {
   "cell_type": "code",
   "execution_count": 1,
   "id": "83091f3c",
   "metadata": {},
   "outputs": [
    {
     "data": {
      "text/html": [
       "<dl>\n",
       "\t<dt>$platform</dt>\n",
       "\t\t<dd>'x86_64-w64-mingw32'</dd>\n",
       "\t<dt>$arch</dt>\n",
       "\t\t<dd>'x86_64'</dd>\n",
       "\t<dt>$os</dt>\n",
       "\t\t<dd>'mingw32'</dd>\n",
       "\t<dt>$system</dt>\n",
       "\t\t<dd>'x86_64, mingw32'</dd>\n",
       "\t<dt>$status</dt>\n",
       "\t\t<dd>''</dd>\n",
       "\t<dt>$major</dt>\n",
       "\t\t<dd>'4'</dd>\n",
       "\t<dt>$minor</dt>\n",
       "\t\t<dd>'1.3'</dd>\n",
       "\t<dt>$year</dt>\n",
       "\t\t<dd>'2022'</dd>\n",
       "\t<dt>$month</dt>\n",
       "\t\t<dd>'03'</dd>\n",
       "\t<dt>$day</dt>\n",
       "\t\t<dd>'10'</dd>\n",
       "\t<dt>$`svn rev`</dt>\n",
       "\t\t<dd>'81868'</dd>\n",
       "\t<dt>$language</dt>\n",
       "\t\t<dd>'R'</dd>\n",
       "\t<dt>$version.string</dt>\n",
       "\t\t<dd>'R version 4.1.3 (2022-03-10)'</dd>\n",
       "\t<dt>$nickname</dt>\n",
       "\t\t<dd>'One Push-Up'</dd>\n",
       "</dl>\n"
      ],
      "text/latex": [
       "\\begin{description}\n",
       "\\item[\\$platform] 'x86\\_64-w64-mingw32'\n",
       "\\item[\\$arch] 'x86\\_64'\n",
       "\\item[\\$os] 'mingw32'\n",
       "\\item[\\$system] 'x86\\_64, mingw32'\n",
       "\\item[\\$status] ''\n",
       "\\item[\\$major] '4'\n",
       "\\item[\\$minor] '1.3'\n",
       "\\item[\\$year] '2022'\n",
       "\\item[\\$month] '03'\n",
       "\\item[\\$day] '10'\n",
       "\\item[\\$`svn rev`] '81868'\n",
       "\\item[\\$language] 'R'\n",
       "\\item[\\$version.string] 'R version 4.1.3 (2022-03-10)'\n",
       "\\item[\\$nickname] 'One Push-Up'\n",
       "\\end{description}\n"
      ],
      "text/markdown": [
       "$platform\n",
       ":   'x86_64-w64-mingw32'\n",
       "$arch\n",
       ":   'x86_64'\n",
       "$os\n",
       ":   'mingw32'\n",
       "$system\n",
       ":   'x86_64, mingw32'\n",
       "$status\n",
       ":   ''\n",
       "$major\n",
       ":   '4'\n",
       "$minor\n",
       ":   '1.3'\n",
       "$year\n",
       ":   '2022'\n",
       "$month\n",
       ":   '03'\n",
       "$day\n",
       ":   '10'\n",
       "$`svn rev`\n",
       ":   '81868'\n",
       "$language\n",
       ":   'R'\n",
       "$version.string\n",
       ":   'R version 4.1.3 (2022-03-10)'\n",
       "$nickname\n",
       ":   'One Push-Up'\n",
       "\n",
       "\n"
      ],
      "text/plain": [
       "$platform\n",
       "[1] \"x86_64-w64-mingw32\"\n",
       "\n",
       "$arch\n",
       "[1] \"x86_64\"\n",
       "\n",
       "$os\n",
       "[1] \"mingw32\"\n",
       "\n",
       "$system\n",
       "[1] \"x86_64, mingw32\"\n",
       "\n",
       "$status\n",
       "[1] \"\"\n",
       "\n",
       "$major\n",
       "[1] \"4\"\n",
       "\n",
       "$minor\n",
       "[1] \"1.3\"\n",
       "\n",
       "$year\n",
       "[1] \"2022\"\n",
       "\n",
       "$month\n",
       "[1] \"03\"\n",
       "\n",
       "$day\n",
       "[1] \"10\"\n",
       "\n",
       "$`svn rev`\n",
       "[1] \"81868\"\n",
       "\n",
       "$language\n",
       "[1] \"R\"\n",
       "\n",
       "$version.string\n",
       "[1] \"R version 4.1.3 (2022-03-10)\"\n",
       "\n",
       "$nickname\n",
       "[1] \"One Push-Up\"\n"
      ]
     },
     "metadata": {},
     "output_type": "display_data"
    }
   ],
   "source": [
    "R.Version()"
   ]
  },
  {
   "cell_type": "code",
   "execution_count": 2,
   "id": "87a9d16f",
   "metadata": {},
   "outputs": [],
   "source": [
    " Sys.setenv(JAGS_HOME = \"C:/Program Files/JAGS/JAGS-4.0.0\")"
   ]
  },
  {
   "cell_type": "code",
   "execution_count": 3,
   "id": "783e1084",
   "metadata": {},
   "outputs": [
    {
     "name": "stderr",
     "output_type": "stream",
     "text": [
      "Loading required package: lme4\n",
      "\n",
      "Loading required package: Matrix\n",
      "\n",
      "Loading required package: ggplot2\n",
      "\n",
      "Loading required package: ggpubr\n",
      "\n",
      "Loading required package: directlabels\n",
      "\n",
      "Loading required package: RColorBrewer\n",
      "\n",
      "Loading required package: ggeffects\n",
      "\n",
      "Loading required package: see\n",
      "\n",
      "Loading required package: ggforce\n",
      "\n",
      "Loading required package: yarrr\n",
      "\n",
      "Loading required package: jpeg\n",
      "\n",
      "Loading required package: BayesFactor\n",
      "\n",
      "Loading required package: coda\n",
      "\n",
      "************\n",
      "Welcome to BayesFactor 0.9.12-4.4. If you have questions, please contact Richard Morey (richarddmorey@gmail.com).\n",
      "\n",
      "Type BFManual() to open the manual.\n",
      "************\n",
      "\n",
      "Loading required package: circlize\n",
      "\n",
      "========================================\n",
      "circlize version 0.4.15\n",
      "CRAN page: https://cran.r-project.org/package=circlize\n",
      "Github page: https://github.com/jokergoo/circlize\n",
      "Documentation: https://jokergoo.github.io/circlize_book/book/\n",
      "\n",
      "If you use it in published research, please cite:\n",
      "Gu, Z. circlize implements and enhances circular visualization\n",
      "  in R. Bioinformatics 2014.\n",
      "\n",
      "This message can be suppressed by:\n",
      "  suppressPackageStartupMessages(library(circlize))\n",
      "========================================\n",
      "\n",
      "\n",
      "yarrr v0.1.5. Citation info at citation('yarrr'). Package guide at yarrr.guide()\n",
      "\n",
      "Email me at Nathaniel.D.Phillips.is@gmail.com\n",
      "\n",
      "\n",
      "Attaching package: 'yarrr'\n",
      "\n",
      "\n",
      "The following object is masked from 'package:ggplot2':\n",
      "\n",
      "    diamonds\n",
      "\n",
      "\n",
      "Loading required package: mgcv\n",
      "\n",
      "Loading required package: nlme\n",
      "\n",
      "\n",
      "Attaching package: 'nlme'\n",
      "\n",
      "\n",
      "The following object is masked from 'package:directlabels':\n",
      "\n",
      "    gapply\n",
      "\n",
      "\n",
      "The following object is masked from 'package:lme4':\n",
      "\n",
      "    lmList\n",
      "\n",
      "\n",
      "This is mgcv 1.8-42. For overview type 'help(\"mgcv-package\")'.\n",
      "\n",
      "Loading required package: gratia\n",
      "\n",
      "Loading required package: tidymv\n",
      "\n",
      "tidymv will be deprecated. Users are recommended\n",
      "    to check out the in-progress replacement tidygam\n",
      "    (https://github.com/stefanocoretta/tidygam).\n",
      "\n",
      "Loading required package: visreg\n",
      "\n",
      "Loading required package: tidyverse\n",
      "\n",
      "-- \u001b[1mAttaching core tidyverse packages\u001b[22m ---------------------------------------------------------------- tidyverse 2.0.0 --\n",
      "\u001b[32mv\u001b[39m \u001b[34mdplyr    \u001b[39m 1.1.2     \u001b[32mv\u001b[39m \u001b[34mreadr    \u001b[39m 2.1.4\n",
      "\u001b[32mv\u001b[39m \u001b[34mforcats  \u001b[39m 1.0.0     \u001b[32mv\u001b[39m \u001b[34mstringr  \u001b[39m 1.5.0\n",
      "\u001b[32mv\u001b[39m \u001b[34mlubridate\u001b[39m 1.9.2     \u001b[32mv\u001b[39m \u001b[34mtibble   \u001b[39m 3.2.1\n",
      "\u001b[32mv\u001b[39m \u001b[34mpurrr    \u001b[39m 1.0.1     \u001b[32mv\u001b[39m \u001b[34mtidyr    \u001b[39m 1.3.0\n",
      "-- \u001b[1mConflicts\u001b[22m ---------------------------------------------------------------------------------- tidyverse_conflicts() --\n",
      "\u001b[31mx\u001b[39m \u001b[34mdplyr\u001b[39m::\u001b[32mcollapse()\u001b[39m masks \u001b[34mnlme\u001b[39m::collapse()\n",
      "\u001b[31mx\u001b[39m \u001b[34mtidyr\u001b[39m::\u001b[32mexpand()\u001b[39m   masks \u001b[34mMatrix\u001b[39m::expand()\n",
      "\u001b[31mx\u001b[39m \u001b[34mdplyr\u001b[39m::\u001b[32mfilter()\u001b[39m   masks \u001b[34mstats\u001b[39m::filter()\n",
      "\u001b[31mx\u001b[39m \u001b[34mdplyr\u001b[39m::\u001b[32mlag()\u001b[39m      masks \u001b[34mstats\u001b[39m::lag()\n",
      "\u001b[31mx\u001b[39m \u001b[34mtidyr\u001b[39m::\u001b[32mpack()\u001b[39m     masks \u001b[34mMatrix\u001b[39m::pack()\n",
      "\u001b[31mx\u001b[39m \u001b[34mtidyr\u001b[39m::\u001b[32munpack()\u001b[39m   masks \u001b[34mMatrix\u001b[39m::unpack()\n",
      "\u001b[36mi\u001b[39m Use the conflicted package (\u001b[3m\u001b[34m<http://conflicted.r-lib.org/>\u001b[39m\u001b[23m) to force all conflicts to become errors\n",
      "Loading required package: confintr\n",
      "\n",
      "Loading required package: Kendall\n",
      "\n",
      "Loading required package: poolr\n",
      "\n",
      "Loading required package: broom\n",
      "\n",
      "Loading required package: modelr\n",
      "\n",
      "\n",
      "Attaching package: 'modelr'\n",
      "\n",
      "\n",
      "The following object is masked from 'package:broom':\n",
      "\n",
      "    bootstrap\n",
      "\n",
      "\n",
      "The following object is masked from 'package:gratia':\n",
      "\n",
      "    add_residuals\n",
      "\n",
      "\n",
      "The following object is masked from 'package:ggeffects':\n",
      "\n",
      "    data_grid\n",
      "\n",
      "\n",
      "Loading required package: gdata\n",
      "\n",
      "gdata: Unable to locate valid perl interpreter\n",
      "gdata: \n",
      "gdata: read.xls() will be unable to read Excel XLS and XLSX files\n",
      "gdata: unless the 'perl=' argument is used to specify the location of a\n",
      "gdata: valid perl intrpreter.\n",
      "gdata: \n",
      "gdata: (To avoid display of this message in the future, please ensure\n",
      "gdata: perl is installed and available on the executable search path.)\n",
      "\n",
      "gdata: Unable to load perl libaries needed by read.xls()\n",
      "gdata: to support 'XLX' (Excel 97-2004) files.\n",
      "\n",
      "\n",
      "\n",
      "gdata: Unable to load perl libaries needed by read.xls()\n",
      "gdata: to support 'XLSX' (Excel 2007+) files.\n",
      "\n",
      "\n",
      "\n",
      "gdata: Run the function 'installXLSXsupport()'\n",
      "gdata: to automatically download and install the perl\n",
      "gdata: libaries needed to support Excel XLS and XLSX formats.\n",
      "\n",
      "\n",
      "Attaching package: 'gdata'\n",
      "\n",
      "\n",
      "The following object is masked from 'package:modelr':\n",
      "\n",
      "    resample\n",
      "\n",
      "\n",
      "The following objects are masked from 'package:dplyr':\n",
      "\n",
      "    combine, first, last\n",
      "\n",
      "\n",
      "The following object is masked from 'package:purrr':\n",
      "\n",
      "    keep\n",
      "\n",
      "\n",
      "The following object is masked from 'package:stats':\n",
      "\n",
      "    nobs\n",
      "\n",
      "\n",
      "The following object is masked from 'package:utils':\n",
      "\n",
      "    object.size\n",
      "\n",
      "\n",
      "The following object is masked from 'package:base':\n",
      "\n",
      "    startsWith\n",
      "\n",
      "\n",
      "Loading required package: LongituRF\n",
      "\n",
      "Loading required package: janitor\n",
      "\n",
      "\n",
      "Attaching package: 'janitor'\n",
      "\n",
      "\n",
      "The following objects are masked from 'package:stats':\n",
      "\n",
      "    chisq.test, fisher.test\n",
      "\n",
      "\n",
      "Loading required package: zoo\n",
      "\n",
      "\n",
      "Attaching package: 'zoo'\n",
      "\n",
      "\n",
      "The following objects are masked from 'package:base':\n",
      "\n",
      "    as.Date, as.Date.numeric\n",
      "\n",
      "\n",
      "Loading required package: gt\n",
      "\n",
      "Loading required package: scales\n",
      "\n",
      "\n",
      "Attaching package: 'scales'\n",
      "\n",
      "\n",
      "The following object is masked from 'package:purrr':\n",
      "\n",
      "    discard\n",
      "\n",
      "\n",
      "The following object is masked from 'package:readr':\n",
      "\n",
      "    col_factor\n",
      "\n",
      "\n",
      "Loading required package: glue\n",
      "\n",
      "\n",
      "Attaching package: 'glue'\n",
      "\n",
      "\n",
      "The following object is masked from 'package:gdata':\n",
      "\n",
      "    trim\n",
      "\n",
      "\n",
      "Loading required package: htree\n",
      "\n",
      "Loading required package: parallel\n",
      "\n",
      "htree 2.0.0\n",
      "\n",
      "Loading required package: JMbayes\n",
      "\n",
      "Loading required package: survival\n",
      "\n",
      "Loading required package: doParallel\n",
      "\n",
      "Loading required package: foreach\n",
      "\n",
      "\n",
      "Attaching package: 'foreach'\n",
      "\n",
      "\n",
      "The following objects are masked from 'package:purrr':\n",
      "\n",
      "    accumulate, when\n",
      "\n",
      "\n",
      "Loading required package: iterators\n",
      "\n",
      "Loading required package: rstan\n",
      "\n",
      "Loading required package: StanHeaders\n",
      "\n",
      "rstan (Version 2.21.7, GitRev: 2e1f913d3ca3)\n",
      "\n",
      "For execution on a local, multicore CPU with excess RAM we recommend calling\n",
      "options(mc.cores = parallel::detectCores()).\n",
      "To avoid recompilation of unchanged Stan programs, we recommend calling\n",
      "rstan_options(auto_write = TRUE)\n",
      "\n",
      "Do not specify '-march=native' in 'LOCAL_CPPFLAGS' or a Makevars file\n",
      "\n",
      "\n",
      "Attaching package: 'rstan'\n",
      "\n",
      "\n",
      "The following object is masked from 'package:tidyr':\n",
      "\n",
      "    extract\n",
      "\n",
      "\n",
      "The following object is masked from 'package:coda':\n",
      "\n",
      "    traceplot\n",
      "\n",
      "\n",
      "Loading required package: car\n",
      "\n",
      "Loading required package: carData\n",
      "\n",
      "\n",
      "Attaching package: 'car'\n",
      "\n",
      "\n",
      "The following object is masked from 'package:dplyr':\n",
      "\n",
      "    recode\n",
      "\n",
      "\n",
      "The following object is masked from 'package:purrr':\n",
      "\n",
      "    some\n",
      "\n",
      "\n",
      "Loading required package: agricolae\n",
      "\n",
      "\n",
      "Attaching package: 'agricolae'\n",
      "\n",
      "\n",
      "The following objects are masked from 'package:confintr':\n",
      "\n",
      "    kurtosis, skewness\n",
      "\n",
      "\n",
      "Loading required package: flextable\n",
      "\n",
      "\n",
      "Attaching package: 'flextable'\n",
      "\n",
      "\n",
      "The following object is masked from 'package:purrr':\n",
      "\n",
      "    compose\n",
      "\n",
      "\n",
      "The following object is masked from 'package:circlize':\n",
      "\n",
      "    fontsize\n",
      "\n",
      "\n",
      "The following objects are masked from 'package:ggpubr':\n",
      "\n",
      "    border, font, rotate\n",
      "\n",
      "\n",
      "Loading required package: crul\n",
      "\n",
      "Loading required package: rempsyc\n",
      "\n",
      "Suggested APA citation: Thériault, R. (2022). rempsyc: Convenience functions for psychology \n",
      "(R package version 0.1.2) [Computer software]. https://rempsyc.remi-theriault.com \n",
      "\n"
     ]
    },
    {
     "data": {
      "text/html": [
       "<style>\n",
       ".dl-inline {width: auto; margin:0; padding: 0}\n",
       ".dl-inline>dt, .dl-inline>dd {float: none; width: auto; display: inline-block}\n",
       ".dl-inline>dt::after {content: \":\\0020\"; padding-right: .5ex}\n",
       ".dl-inline>dt:not(:first-of-type) {padding-left: .5ex}\n",
       "</style><dl class=dl-inline><dt>lme4</dt><dd>TRUE</dd><dt>ggplot2</dt><dd>TRUE</dd><dt>ggpubr</dt><dd>TRUE</dd><dt>directlabels</dt><dd>TRUE</dd><dt>RColorBrewer</dt><dd>TRUE</dd><dt>ggeffects</dt><dd>TRUE</dd><dt>see</dt><dd>TRUE</dd><dt>ggforce</dt><dd>TRUE</dd><dt>yarrr</dt><dd>TRUE</dd><dt>mgcv</dt><dd>TRUE</dd><dt>gratia</dt><dd>TRUE</dd><dt>tidymv</dt><dd>TRUE</dd><dt>visreg</dt><dd>TRUE</dd><dt>tidyverse</dt><dd>TRUE</dd><dt>dplyr</dt><dd>TRUE</dd><dt>directlabels</dt><dd>TRUE</dd><dt>confintr</dt><dd>TRUE</dd><dt>Kendall</dt><dd>TRUE</dd><dt>poolr</dt><dd>TRUE</dd><dt>broom</dt><dd>TRUE</dd><dt>modelr</dt><dd>TRUE</dd><dt>gdata</dt><dd>TRUE</dd><dt>LongituRF</dt><dd>TRUE</dd><dt>janitor</dt><dd>TRUE</dd><dt>zoo</dt><dd>TRUE</dd><dt>gt</dt><dd>TRUE</dd><dt>scales</dt><dd>TRUE</dd><dt>glue</dt><dd>TRUE</dd><dt>purrr</dt><dd>TRUE</dd><dt>htree</dt><dd>TRUE</dd><dt>JMbayes</dt><dd>TRUE</dd><dt>car</dt><dd>TRUE</dd><dt>agricolae</dt><dd>TRUE</dd><dt>flextable</dt><dd>TRUE</dd><dt>crul</dt><dd>TRUE</dd><dt>rempsyc</dt><dd>TRUE</dd></dl>\n"
      ],
      "text/latex": [
       "\\begin{description*}\n",
       "\\item[lme4] TRUE\n",
       "\\item[ggplot2] TRUE\n",
       "\\item[ggpubr] TRUE\n",
       "\\item[directlabels] TRUE\n",
       "\\item[RColorBrewer] TRUE\n",
       "\\item[ggeffects] TRUE\n",
       "\\item[see] TRUE\n",
       "\\item[ggforce] TRUE\n",
       "\\item[yarrr] TRUE\n",
       "\\item[mgcv] TRUE\n",
       "\\item[gratia] TRUE\n",
       "\\item[tidymv] TRUE\n",
       "\\item[visreg] TRUE\n",
       "\\item[tidyverse] TRUE\n",
       "\\item[dplyr] TRUE\n",
       "\\item[directlabels] TRUE\n",
       "\\item[confintr] TRUE\n",
       "\\item[Kendall] TRUE\n",
       "\\item[poolr] TRUE\n",
       "\\item[broom] TRUE\n",
       "\\item[modelr] TRUE\n",
       "\\item[gdata] TRUE\n",
       "\\item[LongituRF] TRUE\n",
       "\\item[janitor] TRUE\n",
       "\\item[zoo] TRUE\n",
       "\\item[gt] TRUE\n",
       "\\item[scales] TRUE\n",
       "\\item[glue] TRUE\n",
       "\\item[purrr] TRUE\n",
       "\\item[htree] TRUE\n",
       "\\item[JMbayes] TRUE\n",
       "\\item[car] TRUE\n",
       "\\item[agricolae] TRUE\n",
       "\\item[flextable] TRUE\n",
       "\\item[crul] TRUE\n",
       "\\item[rempsyc] TRUE\n",
       "\\end{description*}\n"
      ],
      "text/markdown": [
       "lme4\n",
       ":   TRUEggplot2\n",
       ":   TRUEggpubr\n",
       ":   TRUEdirectlabels\n",
       ":   TRUERColorBrewer\n",
       ":   TRUEggeffects\n",
       ":   TRUEsee\n",
       ":   TRUEggforce\n",
       ":   TRUEyarrr\n",
       ":   TRUEmgcv\n",
       ":   TRUEgratia\n",
       ":   TRUEtidymv\n",
       ":   TRUEvisreg\n",
       ":   TRUEtidyverse\n",
       ":   TRUEdplyr\n",
       ":   TRUEdirectlabels\n",
       ":   TRUEconfintr\n",
       ":   TRUEKendall\n",
       ":   TRUEpoolr\n",
       ":   TRUEbroom\n",
       ":   TRUEmodelr\n",
       ":   TRUEgdata\n",
       ":   TRUELongituRF\n",
       ":   TRUEjanitor\n",
       ":   TRUEzoo\n",
       ":   TRUEgt\n",
       ":   TRUEscales\n",
       ":   TRUEglue\n",
       ":   TRUEpurrr\n",
       ":   TRUEhtree\n",
       ":   TRUEJMbayes\n",
       ":   TRUEcar\n",
       ":   TRUEagricolae\n",
       ":   TRUEflextable\n",
       ":   TRUEcrul\n",
       ":   TRUErempsyc\n",
       ":   TRUE\n",
       "\n"
      ],
      "text/plain": [
       "        lme4      ggplot2       ggpubr directlabels RColorBrewer    ggeffects \n",
       "        TRUE         TRUE         TRUE         TRUE         TRUE         TRUE \n",
       "         see      ggforce        yarrr         mgcv       gratia       tidymv \n",
       "        TRUE         TRUE         TRUE         TRUE         TRUE         TRUE \n",
       "      visreg    tidyverse        dplyr directlabels     confintr      Kendall \n",
       "        TRUE         TRUE         TRUE         TRUE         TRUE         TRUE \n",
       "       poolr        broom       modelr        gdata    LongituRF      janitor \n",
       "        TRUE         TRUE         TRUE         TRUE         TRUE         TRUE \n",
       "         zoo           gt       scales         glue        purrr        htree \n",
       "        TRUE         TRUE         TRUE         TRUE         TRUE         TRUE \n",
       "     JMbayes          car    agricolae    flextable         crul      rempsyc \n",
       "        TRUE         TRUE         TRUE         TRUE         TRUE         TRUE "
      ]
     },
     "metadata": {},
     "output_type": "display_data"
    }
   ],
   "source": [
    ".libPaths(\"C:/Users/jkmer/anaconda3/envs/r4-base/Library\")\n",
    "\n",
    "load.lib <- c(\"lme4\",\n",
    "              \"ggplot2\",\n",
    "              \"ggpubr\",\n",
    "              \"directlabels\",\n",
    "              \"RColorBrewer\",\n",
    "              \"ggeffects\",\n",
    "              \"see\",\n",
    "              \"ggforce\",\n",
    "              \"yarrr\",\n",
    "              \"mgcv\",\n",
    "              \"gratia\",\n",
    "              \"tidymv\",\n",
    "              \"visreg\",\n",
    "              \"tidyverse\",\n",
    "              \"dplyr\",\n",
    "              \"directlabels\",\n",
    "              \"confintr\",\n",
    "              \"Kendall\",\n",
    "              \"poolr\",\n",
    "              \"broom\",\n",
    "              \"modelr\",\n",
    "              \"gdata\",\n",
    "             \"LongituRF\",\n",
    "             \"janitor\",\n",
    "             \"zoo\",\n",
    "             \"gt\",\n",
    "             \"scales\",\n",
    "             \"glue\",\n",
    "             \"purrr\",\n",
    "             \"htree\",\n",
    "             \"JMbayes\",\n",
    "             \"car\",\n",
    "             \"agricolae\",\n",
    "             \"flextable\",\n",
    "             \"crul\",\n",
    "             \"rempsyc\"\n",
    ") \n",
    "\n",
    "sapply(load.lib,require,character=TRUE)"
   ]
  },
  {
   "cell_type": "code",
   "execution_count": 4,
   "id": "6b9c2384",
   "metadata": {},
   "outputs": [],
   "source": [
    "# read in cleaned CLinical Severity Scores from Rett Natural History Study 5201 and 5211\n",
    "clean <- read.csv('C:/Users/jkmer/Desktop/2023_css/20230201_CSS_5201_5211_cleaned.csv')"
   ]
  },
  {
   "cell_type": "code",
   "execution_count": 5,
   "id": "55fa3aff",
   "metadata": {},
   "outputs": [],
   "source": [
    "# prepare compiled data set"
   ]
  },
  {
   "cell_type": "code",
   "execution_count": 6,
   "id": "cebcf2e3",
   "metadata": {},
   "outputs": [],
   "source": [
    "mean_pred <- read.csv(\"C:/Users/jkmer/Desktop/2023_css/mean_pred.csv\")\n",
    "individual_percentiles <- read.csv(\"C:/Users/jkmer/Desktop/2023_css/percentiles.csv\")\n",
    "xi <- read.csv('C:/Users/jkmer/desktop/2023_css/2023_xi.csv')"
   ]
  },
  {
   "cell_type": "code",
   "execution_count": 7,
   "id": "9cc4ec12",
   "metadata": {},
   "outputs": [],
   "source": [
    "baseline <- clean %>% group_by(participant_id) %>% slice(which.min(age_at_visit)) %>% ungroup"
   ]
  },
  {
   "cell_type": "code",
   "execution_count": 8,
   "id": "d1fec396",
   "metadata": {},
   "outputs": [],
   "source": [
    "baseline <- baseline %>% select(participant_id, \n",
    "                                childs_gender, \n",
    "                                diagnosis,\n",
    "                                grouping3,\n",
    "                                age_at_visit,\n",
    "                                total_score_clean)"
   ]
  },
  {
   "cell_type": "code",
   "execution_count": 9,
   "id": "eb3fa012",
   "metadata": {},
   "outputs": [],
   "source": [
    "colnames(baseline) <- c('participant_id',\n",
    "                        'childs_gender',\n",
    "                        'diagnosis',\n",
    "                        'grouping3',\n",
    "                        'baseline_age',\n",
    "                        'baseline_css')"
   ]
  },
  {
   "cell_type": "code",
   "execution_count": 10,
   "id": "26cd7d0d",
   "metadata": {},
   "outputs": [],
   "source": [
    "merged <- merge(x = baseline, y = individual_percentiles %>% select(-grouping3), by=\"participant_id\")"
   ]
  },
  {
   "cell_type": "code",
   "execution_count": 11,
   "id": "fa195519",
   "metadata": {},
   "outputs": [],
   "source": [
    "merged2 <- merge(x = merged, y = xi %>% select(c(participant_id, Paternal.Inactivation)), by = \"participant_id\", all.x = TRUE)"
   ]
  },
  {
   "cell_type": "code",
   "execution_count": 12,
   "id": "573c1e2b",
   "metadata": {},
   "outputs": [],
   "source": [
    "write.csv(merged2, \"C:/Users/jkmer/Desktop/2023_css/consensus_data.csv\", row.names = FALSE)"
   ]
  },
  {
   "cell_type": "markdown",
   "id": "104c617d",
   "metadata": {},
   "source": [
    "## XCI for all diagnosis"
   ]
  },
  {
   "cell_type": "code",
   "execution_count": 13,
   "id": "fb5f4dd5",
   "metadata": {},
   "outputs": [],
   "source": [
    "#select pertinant columns\n",
    "xi_analysis <- merged2 %>% drop_na(Paternal.Inactivation)"
   ]
  },
  {
   "cell_type": "code",
   "execution_count": 14,
   "id": "9eeb5927",
   "metadata": {},
   "outputs": [],
   "source": [
    "filteredxi <- xi_analysis"
   ]
  },
  {
   "cell_type": "markdown",
   "id": "9a7573da",
   "metadata": {},
   "source": [
    "## Nearest age CSS vs XCI"
   ]
  },
  {
   "cell_type": "code",
   "execution_count": 15,
   "id": "b6c031f5",
   "metadata": {},
   "outputs": [],
   "source": [
    "stderror <- function(x) sd(x)/sqrt(length(x))"
   ]
  },
  {
   "cell_type": "code",
   "execution_count": 16,
   "id": "2a733817",
   "metadata": {},
   "outputs": [
    {
     "data": {
      "text/html": [
       "9.72930234899329"
      ],
      "text/latex": [
       "9.72930234899329"
      ],
      "text/markdown": [
       "9.72930234899329"
      ],
      "text/plain": [
       "[1] 9.729302"
      ]
     },
     "metadata": {},
     "output_type": "display_data"
    },
    {
     "data": {
      "text/html": [
       "<style>\n",
       ".list-inline {list-style: none; margin:0; padding: 0}\n",
       ".list-inline>li {display: inline-block}\n",
       ".list-inline>li:not(:last-child)::after {content: \"\\00b7\"; padding: 0 .5ex}\n",
       "</style>\n",
       "<ol class=list-inline><li>198</li><li>14</li></ol>\n"
      ],
      "text/latex": [
       "\\begin{enumerate*}\n",
       "\\item 198\n",
       "\\item 14\n",
       "\\end{enumerate*}\n"
      ],
      "text/markdown": [
       "1. 198\n",
       "2. 14\n",
       "\n",
       "\n"
      ],
      "text/plain": [
       "[1] 198  14"
      ]
     },
     "metadata": {},
     "output_type": "display_data"
    },
    {
     "name": "stderr",
     "output_type": "stream",
     "text": [
      "Warning message:\n",
      "\"\u001b[1m\u001b[22mThe `size` argument of `element_line()` is deprecated as of ggplot2 3.4.0.\n",
      "\u001b[36mi\u001b[39m Please use the `linewidth` argument instead.\"\n",
      "Warning message:\n",
      "\"\u001b[1m\u001b[22mUsing `size` aesthetic for lines was deprecated in ggplot2 3.4.0.\n",
      "\u001b[36mi\u001b[39m Please use `linewidth` instead.\"\n",
      "\u001b[1m\u001b[22m`geom_smooth()` using formula = 'y ~ x'\n",
      "\u001b[1m\u001b[22m`geom_smooth()` using formula = 'y ~ x'\n"
     ]
    },
    {
     "data": {
      "text/html": [
       "<strong>png:</strong> 2"
      ],
      "text/latex": [
       "\\textbf{png:} 2"
      ],
      "text/markdown": [
       "**png:** 2"
      ],
      "text/plain": [
       "png \n",
       "  2 "
      ]
     },
     "metadata": {},
     "output_type": "display_data"
    },
    {
     "data": {
      "text/plain": [
       "\n",
       "\tPearson's product-moment correlation\n",
       "\n",
       "data:  corr_df$total_score_clean and corr_df$Paternal.Inactivation\n",
       "t = 1.044, df = 196, p-value = 0.2978\n",
       "alternative hypothesis: true correlation is not equal to 0\n",
       "95 percent confidence interval:\n",
       " -0.06575794  0.21161256\n",
       "sample estimates:\n",
       "       cor \n",
       "0.07436543 \n"
      ]
     },
     "metadata": {},
     "output_type": "display_data"
    },
    {
     "data": {
      "text/html": [
       "132"
      ],
      "text/latex": [
       "132"
      ],
      "text/markdown": [
       "132"
      ],
      "text/plain": [
       "[1] 132"
      ]
     },
     "metadata": {},
     "output_type": "display_data"
    },
    {
     "data": {
      "text/plain": [
       "\n",
       "\tPearson's product-moment correlation\n",
       "\n",
       "data:  corr_df$total_score_clean and corr_df$Paternal.Inactivation\n",
       "t = -1.9388, df = 130, p-value = 0.05469\n",
       "alternative hypothesis: true correlation is not equal to 0\n",
       "95 percent confidence interval:\n",
       " -0.329084892  0.003328741\n",
       "sample estimates:\n",
       "       cor \n",
       "-0.1676391 \n"
      ]
     },
     "metadata": {},
     "output_type": "display_data"
    },
    {
     "data": {
      "text/html": [
       "66"
      ],
      "text/latex": [
       "66"
      ],
      "text/markdown": [
       "66"
      ],
      "text/plain": [
       "[1] 66"
      ]
     },
     "metadata": {},
     "output_type": "display_data"
    },
    {
     "data": {
      "text/plain": [
       "\n",
       "\tPearson's product-moment correlation\n",
       "\n",
       "data:  corr_df$total_score_clean and corr_df$Paternal.Inactivation\n",
       "t = 1.6519, df = 64, p-value = 0.1034\n",
       "alternative hypothesis: true correlation is not equal to 0\n",
       "95 percent confidence interval:\n",
       " -0.04185712  0.42352759\n",
       "sample estimates:\n",
       "      cor \n",
       "0.2022243 \n"
      ]
     },
     "metadata": {},
     "output_type": "display_data"
    },
    {
     "name": "stderr",
     "output_type": "stream",
     "text": [
      "\u001b[1m\u001b[22mScale for \u001b[32mx\u001b[39m is already present.\n",
      "Adding another scale for \u001b[32mx\u001b[39m, which will replace the existing scale.\n",
      "\u001b[1m\u001b[22m`geom_smooth()` using formula = 'y ~ x'\n"
     ]
    },
    {
     "data": {
      "image/png": "[encoded data removed]",
      "text/plain": [
       "plot without title"
      ]
     },
     "metadata": {
      "image/png": {
       "height": 420,
       "width": 420
      }
     },
     "output_type": "display_data"
    },
    {
     "name": "stderr",
     "output_type": "stream",
     "text": [
      "\u001b[1m\u001b[22m`geom_smooth()` using formula = 'y ~ x'\n"
     ]
    },
    {
     "data": {
      "text/html": [
       "<strong>png:</strong> 2"
      ],
      "text/latex": [
       "\\textbf{png:} 2"
      ],
      "text/markdown": [
       "**png:** 2"
      ],
      "text/plain": [
       "png \n",
       "  2 "
      ]
     },
     "metadata": {},
     "output_type": "display_data"
    },
    {
     "name": "stderr",
     "output_type": "stream",
     "text": [
      "\u001b[1m\u001b[22mScale for \u001b[32mx\u001b[39m is already present.\n",
      "Adding another scale for \u001b[32mx\u001b[39m, which will replace the existing scale.\n",
      "\u001b[1m\u001b[22m`geom_smooth()` using formula = 'y ~ x'\n"
     ]
    },
    {
     "data": {
      "image/png": "[encoded data removed]",
      "text/plain": [
       "plot without title"
      ]
     },
     "metadata": {
      "image/png": {
       "height": 420,
       "width": 420
      }
     },
     "output_type": "display_data"
    },
    {
     "name": "stderr",
     "output_type": "stream",
     "text": [
      "\u001b[1m\u001b[22m`geom_smooth()` using formula = 'y ~ x'\n"
     ]
    },
    {
     "data": {
      "text/html": [
       "<strong>png:</strong> 2"
      ],
      "text/latex": [
       "\\textbf{png:} 2"
      ],
      "text/markdown": [
       "**png:** 2"
      ],
      "text/plain": [
       "png \n",
       "  2 "
      ]
     },
     "metadata": {},
     "output_type": "display_data"
    },
    {
     "name": "stderr",
     "output_type": "stream",
     "text": [
      "\u001b[1m\u001b[22mScale for \u001b[32mx\u001b[39m is already present.\n",
      "Adding another scale for \u001b[32mx\u001b[39m, which will replace the existing scale.\n",
      "\u001b[1m\u001b[22m`geom_smooth()` using formula = 'y ~ x'\n"
     ]
    },
    {
     "data": {
      "image/png": "[encoded data removed]",
      "text/plain": [
       "plot without title"
      ]
     },
     "metadata": {
      "image/png": {
       "height": 420,
       "width": 420
      }
     },
     "output_type": "display_data"
    },
    {
     "name": "stderr",
     "output_type": "stream",
     "text": [
      "\u001b[1m\u001b[22m`geom_smooth()` using formula = 'y ~ x'\n"
     ]
    },
    {
     "data": {
      "text/html": [
       "<strong>png:</strong> 2"
      ],
      "text/latex": [
       "\\textbf{png:} 2"
      ],
      "text/markdown": [
       "**png:** 2"
      ],
      "text/plain": [
       "png \n",
       "  2 "
      ]
     },
     "metadata": {},
     "output_type": "display_data"
    },
    {
     "data": {
      "image/png": "[encoded data removed]",
      "text/plain": [
       "plot without title"
      ]
     },
     "metadata": {
      "image/png": {
       "height": 420,
       "width": 420
      }
     },
     "output_type": "display_data"
    }
   ],
   "source": [
    "#calc mean age of entire set (not baseline age, to get nearest age to mean)\n",
    "raw_css <- clean %>% select(participant_id, age_at_visit, total_score_clean)\n",
    "raw_xi_css <- merge(filteredxi, raw_css, by = 'participant_id')\n",
    "raw_xi_css <- raw_xi_css %>% group_by(grouping3) %>% \n",
    "                    mutate(mean_age = mean(age_at_visit)) %>%\n",
    "                    mutate(sem = stderror(age_at_visit)) %>% ungroup()\n",
    "ref_age <- mean(raw_xi_css$age_at_visit)\n",
    "ref_age\n",
    "#make column of absolute distance from mean age per observation\n",
    "raw_xi_css$ref_age_dist <- abs(raw_xi_css$age_at_visit - ref_age)\n",
    "#group by participant and filter for which minimum distance\n",
    "nearest_xi_css <- raw_xi_css %>% group_by(participant_id) %>% slice(which.min(ref_age_dist))\n",
    "#nearest_xi_css <- raw_xi_css %>% group_by(participant_id) %>% slice(which.max(age_at_visit))\n",
    "dim(nearest_xi_css)\n",
    "\n",
    "###################################\n",
    "#define severity groupings\n",
    "nearest_xi_css <- nearest_xi_css %>%   mutate(sev_group = case_when(\n",
    "  grouping3 == 'R106W' ~ 1,\n",
    "  grouping3 == 'T158M' ~ 1,\n",
    "  grouping3 == 'R133C' ~ 0,  \n",
    "  grouping3 == 'R168X' ~ 1,\n",
    "  grouping3 == 'R255X' ~ 1,\n",
    "  grouping3 == 'R270X' ~ 1,\n",
    "  grouping3 == 'R294X' ~ 0,\n",
    "  grouping3 == 'R306C' ~ 0,\n",
    "  grouping3 == 'CTT' ~ 0,\n",
    "  grouping3 == 'earlytrunc' ~ 1,\n",
    "  grouping3 == 'LargeDel' ~ 1))\n",
    "\n",
    "#plot css nearest this age by mecp2 mutation\n",
    "testpal <- c('#ff00ff', '#33cc33', '#006600',\n",
    "             '#33cccc', '#777b7e', '#663300',\n",
    "             '#cc9900', '#ff5050', '#3366ff',\n",
    "             '#6600cc', '#ff9900')\n",
    "\n",
    "My_Theme = theme(\n",
    "  axis.title.x = element_text(size = 30, face=\"bold\", color = \"black\"),\n",
    "  axis.text.x = element_text(size = 30, face=\"bold\", color = \"black\"),\n",
    "  axis.title.y = element_text(size = 30, face=\"bold\", color = \"black\"),\n",
    "  axis.text.y = element_text(size = 30, face=\"bold\", color = \"black\"),  \n",
    "  axis.line=element_line(size = 2, color = \"black\"),\n",
    "  axis.ticks = element_line(size = 2, color = \"black\"),\n",
    "  legend.text = element_text(size = 30, face = \"bold\", color = \"black\"),\n",
    "  axis.ticks.length=unit(0.1,\"inch\"),    \n",
    "  legend.title = element_blank())\n",
    "\n",
    "nearest_xi_css$grouping3 <- factor(nearest_xi_css$grouping3, levels = c(\"earlytrunc\",\n",
    "                                 \"R106W\",\n",
    "                                 \"R133C\",\n",
    "                                 \"T158M\",\n",
    "                                 \"R168X\",\n",
    "                                 \"R255X\",\n",
    "                                 \"R270X\",\n",
    "                                 \"R294X\",\n",
    "                                 \"R306C\",\n",
    "                                 \"LargeDel\",\n",
    "                                 \"CTT\")) \n",
    "sp_age <- nearest_xi_css %>%\n",
    "ggplot(aes(x = age_at_visit, y = total_score_clean, color = grouping3)) +\n",
    "geom_point(size = 3) + geom_smooth(method=\"lm\", size = 3, se = FALSE) + \n",
    "theme_classic() + My_Theme + scale_color_manual(values = testpal) +\n",
    "ylab('CSS') + xlab('Age (years)')\n",
    "\n",
    "sp_age\n",
    "\n",
    "png(file=\"C:/Users/jkmer/Desktop/2023_css/raw_nearestcss_age.png\",\n",
    "units=\"in\", width=10, height=8, res=300)\n",
    "sp_age\n",
    "dev.off()\n",
    "\n",
    "#run pearsons\n",
    "#xi corr with severity for all\n",
    "myvars3 <- c(\"total_score_clean\", \"Paternal.Inactivation\")\n",
    "corr_df <- nearest_xi_css[myvars3]\n",
    "cor.test(corr_df$total_score_clean, corr_df$Paternal.Inactivation)\n",
    "\n",
    "#xi corr with severity for severe and mild\n",
    "severe <- c('T158M', 'R168X', 'R255X', 'R270X', 'R106W', 'earlytrunc', 'LargeDel')\n",
    "myvars3 <- c(\"total_score_clean\", \"Paternal.Inactivation\")\n",
    "sevxi <- nearest_xi_css %>% filter(grouping3 %in% severe)\n",
    "length(unique(sevxi$participant_id))\n",
    "corr_df <- sevxi[myvars3]\n",
    "cor.test(corr_df$total_score_clean, corr_df$Paternal.Inactivation)\n",
    "\n",
    "mild <- c('R133C', 'R306C', 'R294X', 'CTT')\n",
    "myvars3 <- c(\"total_score_clean\", \"Paternal.Inactivation\")\n",
    "mildxi <- nearest_xi_css %>% filter(grouping3 %in% mild)\n",
    "length(unique(mildxi$participant_id))\n",
    "corr_df <- mildxi[myvars3]\n",
    "cor.test(corr_df$total_score_clean, corr_df$Paternal.Inactivation)\n",
    "\n",
    "\n",
    "#plot xci versus css at this age\n",
    "My_Theme = theme(\n",
    "  axis.title.x = element_text(size = 30, face=\"bold\", color = \"black\"),\n",
    "  axis.text.x = element_text(size = 30, face=\"bold\", color = \"black\"),\n",
    "  axis.title.y = element_text(size = 30, face=\"bold\", color = \"black\"),\n",
    "  axis.text.y = element_text(size = 30, face=\"bold\", color = \"black\"),  \n",
    "  axis.line=element_line(size = 2, color = \"black\"),\n",
    "  axis.ticks = element_line(size = 2, color = \"black\"),\n",
    "  axis.ticks.length=unit(0.1,\"inch\"),  \n",
    "  legend.position = \"none\")\n",
    "\n",
    "\n",
    "\n",
    "\n",
    "sp <- nearest_xi_css %>% \n",
    "ggplot(aes(x = Paternal.Inactivation, y = total_score_clean)) +\n",
    "geom_point(size = 3) + geom_smooth(method=\"lm\", size = 3, fill = '#ff5050', color = '#ff5050') + \n",
    "theme_classic()\n",
    "\n",
    "\n",
    "xiplot <- sp +\n",
    "My_Theme +\n",
    "ylab(\"CSS\") +\n",
    "xlab(\"% Paternal XI\") +  \n",
    "scale_x_continuous(breaks = c(25, 50, 75, 100)) + xlim(10,102)\n",
    "\n",
    "xiplot\n",
    "png(file=\"C:/Users/jkmer/Desktop/2023_css/raw_xiplot_allmut.png\",\n",
    "units=\"in\", width=8, height=8, res=300)\n",
    "xiplot\n",
    "dev.off()\n",
    "\n",
    "################\n",
    "#for mild\n",
    "sp <- nearest_xi_css %>% filter(sev_group == 0) %>%\n",
    "ggplot(aes(x = Paternal.Inactivation, y = total_score_clean)) +\n",
    "geom_point(size = 3) + geom_smooth(method=\"lm\", size = 3, fill = '#ff5050', color = '#ff5050') + \n",
    "theme_classic()\n",
    "\n",
    "\n",
    "xiplot <- sp +\n",
    "My_Theme +\n",
    "ylab(\"CSS\") +\n",
    "xlab(\"% Paternal XI\") +  \n",
    "scale_x_continuous(breaks = c(25, 50, 75, 100)) + xlim(10,102)\n",
    "\n",
    "\n",
    "xiplot\n",
    "png(file=\"C:/Users/jkmer/Desktop/2023_css/raw_xiplot_allmut_mild.png\",\n",
    "units=\"in\", width=8, height=8, res=300)\n",
    "xiplot\n",
    "dev.off()\n",
    "\n",
    "\n",
    "#####################\n",
    "#for severe\n",
    "sp <- nearest_xi_css %>% filter(sev_group == 1) %>%\n",
    "ggplot(aes(x = Paternal.Inactivation, y = total_score_clean)) +\n",
    "geom_point(size = 3) + geom_smooth(method=\"lm\", size = 3, fill = '#ff5050', color = '#ff5050') + \n",
    "theme_classic()\n",
    "\n",
    "\n",
    "xiplot <- sp +\n",
    "My_Theme +\n",
    "ylab(\"CSS\") +\n",
    "xlab(\"% Paternal XI\") +  \n",
    "scale_x_continuous(breaks = c(25, 50, 75, 100)) + xlim(10,102)\n",
    "\n",
    "\n",
    "xiplot\n",
    "png(file=\"C:/Users/jkmer/Desktop/2023_css/raw_xiplot_allmut_severe.png\",\n",
    "units=\"in\", width=8, height=8, res=300)\n",
    "xiplot\n",
    "dev.off()\n",
    "\n"
   ]
  },
  {
   "cell_type": "code",
   "execution_count": 17,
   "id": "af237c7d",
   "metadata": {},
   "outputs": [
    {
     "data": {
      "text/html": [
       "<style>\n",
       ".list-inline {list-style: none; margin:0; padding: 0}\n",
       ".list-inline>li {display: inline-block}\n",
       ".list-inline>li:not(:last-child)::after {content: \"\\00b7\"; padding: 0 .5ex}\n",
       "</style>\n",
       "<ol class=list-inline><li>198</li><li>1</li></ol>\n"
      ],
      "text/latex": [
       "\\begin{enumerate*}\n",
       "\\item 198\n",
       "\\item 1\n",
       "\\end{enumerate*}\n"
      ],
      "text/markdown": [
       "1. 198\n",
       "2. 1\n",
       "\n",
       "\n"
      ],
      "text/plain": [
       "[1] 198   1"
      ]
     },
     "metadata": {},
     "output_type": "display_data"
    },
    {
     "data": {
      "text/html": [
       "<style>\n",
       ".list-inline {list-style: none; margin:0; padding: 0}\n",
       ".list-inline>li {display: inline-block}\n",
       ".list-inline>li:not(:last-child)::after {content: \"\\00b7\"; padding: 0 .5ex}\n",
       "</style>\n",
       "<ol class=list-inline><li>66</li><li>1</li></ol>\n"
      ],
      "text/latex": [
       "\\begin{enumerate*}\n",
       "\\item 66\n",
       "\\item 1\n",
       "\\end{enumerate*}\n"
      ],
      "text/markdown": [
       "1. 66\n",
       "2. 1\n",
       "\n",
       "\n"
      ],
      "text/plain": [
       "[1] 66  1"
      ]
     },
     "metadata": {},
     "output_type": "display_data"
    },
    {
     "data": {
      "text/html": [
       "<style>\n",
       ".list-inline {list-style: none; margin:0; padding: 0}\n",
       ".list-inline>li {display: inline-block}\n",
       ".list-inline>li:not(:last-child)::after {content: \"\\00b7\"; padding: 0 .5ex}\n",
       "</style>\n",
       "<ol class=list-inline><li>132</li><li>1</li></ol>\n"
      ],
      "text/latex": [
       "\\begin{enumerate*}\n",
       "\\item 132\n",
       "\\item 1\n",
       "\\end{enumerate*}\n"
      ],
      "text/markdown": [
       "1. 132\n",
       "2. 1\n",
       "\n",
       "\n"
      ],
      "text/plain": [
       "[1] 132   1"
      ]
     },
     "metadata": {},
     "output_type": "display_data"
    },
    {
     "data": {
      "text/plain": [
       "\n",
       "earlytrunc      R106W      R133C      T158M      R168X      R255X      R270X \n",
       "        17          8         10         26         25         24         14 \n",
       "     R294X      R306C   LargeDel        CTT \n",
       "        16         19         18         21 "
      ]
     },
     "metadata": {},
     "output_type": "display_data"
    }
   ],
   "source": [
    "dim(nearest_xi_css %>% select(participant_id) %>% unique())\n",
    "\n",
    "dim(nearest_xi_css %>% filter(sev_group == 0) %>% select(participant_id) %>% unique())\n",
    "\n",
    "dim(nearest_xi_css %>% filter(sev_group == 1) %>% select(participant_id) %>% unique())\n",
    "\n",
    "table(nearest_xi_css$grouping3)"
   ]
  },
  {
   "cell_type": "markdown",
   "id": "acf46ba9",
   "metadata": {},
   "source": [
    "## Normative CSS vs XCI"
   ]
  },
  {
   "cell_type": "code",
   "execution_count": 18,
   "id": "ba1698b4",
   "metadata": {},
   "outputs": [
    {
     "data": {
      "text/plain": [
       "\n",
       "\tTwo-sided 95% normal confidence interval for the true Pearson\n",
       "\tcorrelation coefficient\n",
       "\n",
       "Sample estimate: -0.07254271 \n",
       "Confidence interval:\n",
       "      2.5%      97.5% \n",
       "-0.2098613  0.0675824 \n"
      ]
     },
     "metadata": {},
     "output_type": "display_data"
    },
    {
     "data": {
      "text/plain": [
       "\n",
       "\tPearson's product-moment correlation\n",
       "\n",
       "data:  corr_df$Percentile and corr_df$Paternal.Inactivation\n",
       "t = -1.0183, df = 196, p-value = 0.3098\n",
       "alternative hypothesis: true correlation is not equal to 0\n",
       "95 percent confidence interval:\n",
       " -0.2098613  0.0675824\n",
       "sample estimates:\n",
       "        cor \n",
       "-0.07254271 \n"
      ]
     },
     "metadata": {},
     "output_type": "display_data"
    }
   ],
   "source": [
    "#xi corr with severity for all\n",
    "myvars3 <- c(\"Percentile\", \"Paternal.Inactivation\")\n",
    "corr_df <- filteredxi[myvars3]\n",
    "ci_cor(corr_df, method = c(\"pearson\"))\n",
    "cor.test(corr_df$Percentile, corr_df$Paternal.Inactivation)"
   ]
  },
  {
   "cell_type": "code",
   "execution_count": 19,
   "id": "4d027322",
   "metadata": {},
   "outputs": [
    {
     "name": "stderr",
     "output_type": "stream",
     "text": [
      "\u001b[1m\u001b[22mScale for \u001b[32mx\u001b[39m is already present.\n",
      "Adding another scale for \u001b[32mx\u001b[39m, which will replace the existing scale.\n",
      "\u001b[1m\u001b[22m`geom_smooth()` using formula = 'y ~ x'\n",
      "\u001b[1m\u001b[22m`geom_smooth()` using formula = 'y ~ x'\n"
     ]
    },
    {
     "data": {
      "text/html": [
       "<strong>png:</strong> 2"
      ],
      "text/latex": [
       "\\textbf{png:} 2"
      ],
      "text/markdown": [
       "**png:** 2"
      ],
      "text/plain": [
       "png \n",
       "  2 "
      ]
     },
     "metadata": {},
     "output_type": "display_data"
    },
    {
     "name": "stderr",
     "output_type": "stream",
     "text": [
      "\u001b[1m\u001b[22m`geom_smooth()` using formula = 'y ~ x'\n"
     ]
    },
    {
     "data": {
      "image/png": "[encoded data removed]",
      "text/plain": [
       "plot without title"
      ]
     },
     "metadata": {
      "image/png": {
       "height": 420,
       "width": 420
      }
     },
     "output_type": "display_data"
    },
    {
     "name": "stderr",
     "output_type": "stream",
     "text": [
      "\u001b[1m\u001b[22m`geom_smooth()` using formula = 'y ~ x'\n"
     ]
    },
    {
     "data": {
      "text/html": [
       "<strong>png:</strong> 2"
      ],
      "text/latex": [
       "\\textbf{png:} 2"
      ],
      "text/markdown": [
       "**png:** 2"
      ],
      "text/plain": [
       "png \n",
       "  2 "
      ]
     },
     "metadata": {},
     "output_type": "display_data"
    },
    {
     "data": {
      "image/png": "[encoded data removed]",
      "text/plain": [
       "plot without title"
      ]
     },
     "metadata": {
      "image/png": {
       "height": 420,
       "width": 420
      }
     },
     "output_type": "display_data"
    }
   ],
   "source": [
    "#plot for all\n",
    "\n",
    "My_Theme = theme(\n",
    "  axis.title.x = element_text(size = 30, face=\"bold\", color = \"black\"),\n",
    "  axis.text.x = element_text(size = 30, face=\"bold\", color = \"black\"),\n",
    "  axis.title.y = element_text(size = 30, face=\"bold\", color = \"black\"),\n",
    "  axis.text.y = element_text(size = 30, face=\"bold\", color = \"black\"),  \n",
    "  axis.line=element_line(size = 2, color = \"black\"),\n",
    "  axis.ticks = element_line(size = 2, color = \"black\"),\n",
    "  axis.ticks.length=unit(0.1,\"inch\"),  \n",
    "  legend.position = \"none\")\n",
    "\n",
    "level_order <- c(\"earlytrunc\",\n",
    "                                 \"R106W\",\n",
    "                                 \"R133C\",\n",
    "                                 \"T158M\",\n",
    "                                 \"R168X\",\n",
    "                                 \"R255X\",\n",
    "                                 \"R270X\",\n",
    "                                 \"R294X\",\n",
    "                                 \"R306C\",\n",
    "                                 \"LargeDel\",\n",
    "                                 \"CTT\") \n",
    "\n",
    "\n",
    "sp <- filteredxi %>%\n",
    "mutate(norm = Percentile) %>%\n",
    "ggplot(aes(x = Paternal.Inactivation, y = norm)) +\n",
    "geom_point(size = 3) + geom_smooth(method=\"lm\", size = 3, fill = '#ff5050', color = '#ff5050') + \n",
    "theme_classic()\n",
    "\n",
    "\n",
    "\n",
    "xiplot <- sp +\n",
    "My_Theme +\n",
    "ylab(\"Normative CSS\") +\n",
    "xlab(\"% Paternal XI\") +\n",
    "scale_x_continuous(breaks = c(25, 50, 75, 100)) +  xlim(10,102) + ylim(0,1.02)\n",
    "\n",
    "\n",
    "\n",
    "\n",
    "group_xiplot <- sp + facet_wrap(\"grouping3\", nrow = 2)  +\n",
    "theme(\n",
    "  strip.background = element_blank(),\n",
    "  strip.text.x = element_text(size = 20, face=\"bold\", color = \"black\")) +\n",
    "My_Theme  +\n",
    "ylab(\"Normalized CSS\") +\n",
    "xlab(\"% Paternal XI\") +\n",
    "scale_x_continuous(breaks = c(25, 50, 75, 100))\n",
    "\n",
    "xiplot\n",
    "png(file=\"C:/Users/jkmer/Desktop/2023_css/xiplot_allmut_nolabel.png\",\n",
    "units=\"in\", width=8, height=8, res=300)\n",
    "xiplot\n",
    "dev.off()\n",
    "\n",
    "group_xiplot\n",
    "png(file=\"C:/Users/jkmer/Desktop/2023_css/group_xiplot.png\",\n",
    "units=\"in\", width=15, height=10, res=300)\n",
    "group_xiplot\n",
    "dev.off()\n",
    "\n"
   ]
  },
  {
   "cell_type": "code",
   "execution_count": 20,
   "id": "3304c425",
   "metadata": {},
   "outputs": [
    {
     "data": {
      "text/html": [
       "132"
      ],
      "text/latex": [
       "132"
      ],
      "text/markdown": [
       "132"
      ],
      "text/plain": [
       "[1] 132"
      ]
     },
     "metadata": {},
     "output_type": "display_data"
    },
    {
     "data": {
      "text/plain": [
       "\n",
       "\tTwo-sided 95% normal confidence interval for the true Pearson\n",
       "\tcorrelation coefficient\n",
       "\n",
       "Sample estimate: -0.2147746 \n",
       "Confidence interval:\n",
       "       2.5%       97.5% \n",
       "-0.37199520 -0.04557474 \n"
      ]
     },
     "metadata": {},
     "output_type": "display_data"
    },
    {
     "data": {
      "text/plain": [
       "\n",
       "\tPearson's product-moment correlation\n",
       "\n",
       "data:  corr_df$Percentile and corr_df$Paternal.Inactivation\n",
       "t = -2.5073, df = 130, p-value = 0.0134\n",
       "alternative hypothesis: true correlation is not equal to 0\n",
       "95 percent confidence interval:\n",
       " -0.37199520 -0.04557474\n",
       "sample estimates:\n",
       "       cor \n",
       "-0.2147746 \n"
      ]
     },
     "metadata": {},
     "output_type": "display_data"
    }
   ],
   "source": [
    "#xi corr with severity for severe and mild\n",
    "severe <- c('T158M', 'R168X', 'R255X', 'R270X', 'R106W', 'earlytrunc', 'LargeDel')\n",
    "myvars3 <- c(\"Percentile\", \"Paternal.Inactivation\")\n",
    "sevxi <- filteredxi %>% filter(grouping3 %in% severe) %>% filter(Paternal.Inactivation >= 0)\n",
    "length((sevxi$participant_id))\n",
    "corr_df <- sevxi[myvars3]\n",
    "ci_cor(corr_df, method = c(\"pearson\"))\n",
    "cor.test(corr_df$Percentile, corr_df$Paternal.Inactivation)"
   ]
  },
  {
   "cell_type": "code",
   "execution_count": 21,
   "id": "b89d7564",
   "metadata": {},
   "outputs": [
    {
     "data": {
      "text/html": [
       "66"
      ],
      "text/latex": [
       "66"
      ],
      "text/markdown": [
       "66"
      ],
      "text/plain": [
       "[1] 66"
      ]
     },
     "metadata": {},
     "output_type": "display_data"
    },
    {
     "data": {
      "text/plain": [
       "\n",
       "\tTwo-sided 95% normal confidence interval for the true Pearson\n",
       "\tcorrelation coefficient\n",
       "\n",
       "Sample estimate: 0.1393307 \n",
       "Confidence interval:\n",
       "      2.5%      97.5% \n",
       "-0.1062863  0.3689225 \n"
      ]
     },
     "metadata": {},
     "output_type": "display_data"
    },
    {
     "data": {
      "text/plain": [
       "\n",
       "\tPearson's product-moment correlation\n",
       "\n",
       "data:  corr_df$Percentile and corr_df$Paternal.Inactivation\n",
       "t = 1.1256, df = 64, p-value = 0.2645\n",
       "alternative hypothesis: true correlation is not equal to 0\n",
       "95 percent confidence interval:\n",
       " -0.1062863  0.3689225\n",
       "sample estimates:\n",
       "      cor \n",
       "0.1393307 \n"
      ]
     },
     "metadata": {},
     "output_type": "display_data"
    }
   ],
   "source": [
    "mild <- c('R133C', 'R306C', 'R294X', 'CTT')\n",
    "myvars3 <- c(\"Percentile\", \"Paternal.Inactivation\")\n",
    "mildxi <- filteredxi %>% filter(grouping3 %in% mild) %>% filter(Paternal.Inactivation >= 0)\n",
    "length((mildxi$participant_id))\n",
    "corr_df <- mildxi[myvars3]\n",
    "ci_cor(corr_df, method = c(\"pearson\"))\n",
    "cor.test(corr_df$Percentile, corr_df$Paternal.Inactivation)"
   ]
  },
  {
   "cell_type": "code",
   "execution_count": 22,
   "id": "d48b3689",
   "metadata": {},
   "outputs": [
    {
     "name": "stderr",
     "output_type": "stream",
     "text": [
      "\u001b[1m\u001b[22mScale for \u001b[32mx\u001b[39m is already present.\n",
      "Adding another scale for \u001b[32mx\u001b[39m, which will replace the existing scale.\n",
      "\u001b[1m\u001b[22m`geom_smooth()` using formula = 'y ~ x'\n",
      "\u001b[1m\u001b[22m`geom_smooth()` using formula = 'y ~ x'\n"
     ]
    },
    {
     "data": {
      "text/html": [
       "<strong>png:</strong> 2"
      ],
      "text/latex": [
       "\\textbf{png:} 2"
      ],
      "text/markdown": [
       "**png:** 2"
      ],
      "text/plain": [
       "png \n",
       "  2 "
      ]
     },
     "metadata": {},
     "output_type": "display_data"
    },
    {
     "name": "stderr",
     "output_type": "stream",
     "text": [
      "\u001b[1m\u001b[22m`geom_smooth()` using formula = 'y ~ x'\n"
     ]
    },
    {
     "data": {
      "image/png": "[encoded data removed]",
      "text/plain": [
       "plot without title"
      ]
     },
     "metadata": {
      "image/png": {
       "height": 420,
       "width": 420
      }
     },
     "output_type": "display_data"
    },
    {
     "name": "stderr",
     "output_type": "stream",
     "text": [
      "\u001b[1m\u001b[22m`geom_smooth()` using formula = 'y ~ x'\n"
     ]
    },
    {
     "data": {
      "text/html": [
       "<strong>png:</strong> 2"
      ],
      "text/latex": [
       "\\textbf{png:} 2"
      ],
      "text/markdown": [
       "**png:** 2"
      ],
      "text/plain": [
       "png \n",
       "  2 "
      ]
     },
     "metadata": {},
     "output_type": "display_data"
    },
    {
     "data": {
      "image/png": "[encoded data removed]",
      "text/plain": [
       "plot without title"
      ]
     },
     "metadata": {
      "image/png": {
       "height": 420,
       "width": 420
      }
     },
     "output_type": "display_data"
    }
   ],
   "source": [
    "#plot for severe genotypes only\n",
    "severe <- c('T158M', 'R168X', 'R255X', 'R270X', 'R106W', 'earlytrunc', 'LargeDel')\n",
    "\n",
    "\n",
    "sp <- filteredxi %>% filter(grouping3 %in% severe) %>%\n",
    "mutate(norm = Percentile) %>%\n",
    "ggplot(aes(x = Paternal.Inactivation, y = norm)) +\n",
    "geom_point(size = 3) + geom_smooth(method=\"lm\", size = 3, fill = '#ff5050', color = '#ff5050') + \n",
    "theme_classic()\n",
    "\n",
    "\n",
    "severe_xiplot <- sp + My_Theme  +\n",
    "ylab(\"Normative CSS\") +\n",
    "xlab(\"% Paternal XI\") +\n",
    "scale_x_continuous(breaks = c(25, 50, 75, 100))  + xlim(10,102) + ylim(0,1.02)\n",
    "\n",
    "severe_group_xiplot <- sp + facet_wrap(\"grouping3\", nrow = 1) +\n",
    "theme(\n",
    "  strip.background = element_blank(),\n",
    "  strip.text.x = element_text(size = 20, face=\"bold\", color = \"black\")) +\n",
    "My_Theme  +\n",
    "ylab(\"Normalized CSS\") +\n",
    "xlab(\"% Paternal XI\") +\n",
    "scale_x_continuous(breaks = c(25, 50, 75, 100))\n",
    "\n",
    "severe_xiplot\n",
    "png(file=\"C:/Users/jkmer/Desktop/2023_css/sev_xiplot_allmut.png\",\n",
    "units=\"in\", width=8, height=8, res=300)\n",
    "severe_xiplot\n",
    "dev.off()\n",
    "\n",
    "severe_group_xiplot\n",
    "png(file=\"C:/Users/jkmer/Desktop/2023_css/sev_group_xiplot.png\",\n",
    "units=\"in\", width=12, height=5, res=300)\n",
    "severe_group_xiplot\n",
    "dev.off()"
   ]
  },
  {
   "cell_type": "code",
   "execution_count": 23,
   "id": "ba73ff3f",
   "metadata": {
    "scrolled": true
   },
   "outputs": [
    {
     "name": "stderr",
     "output_type": "stream",
     "text": [
      "\u001b[1m\u001b[22mScale for \u001b[32mx\u001b[39m is already present.\n",
      "Adding another scale for \u001b[32mx\u001b[39m, which will replace the existing scale.\n",
      "\u001b[1m\u001b[22m`geom_smooth()` using formula = 'y ~ x'\n",
      "\u001b[1m\u001b[22m`geom_smooth()` using formula = 'y ~ x'\n"
     ]
    },
    {
     "data": {
      "text/html": [
       "<strong>png:</strong> 2"
      ],
      "text/latex": [
       "\\textbf{png:} 2"
      ],
      "text/markdown": [
       "**png:** 2"
      ],
      "text/plain": [
       "png \n",
       "  2 "
      ]
     },
     "metadata": {},
     "output_type": "display_data"
    },
    {
     "name": "stderr",
     "output_type": "stream",
     "text": [
      "\u001b[1m\u001b[22m`geom_smooth()` using formula = 'y ~ x'\n"
     ]
    },
    {
     "data": {
      "image/png": "[encoded data removed]",
      "text/plain": [
       "plot without title"
      ]
     },
     "metadata": {
      "image/png": {
       "height": 420,
       "width": 420
      }
     },
     "output_type": "display_data"
    },
    {
     "name": "stderr",
     "output_type": "stream",
     "text": [
      "\u001b[1m\u001b[22m`geom_smooth()` using formula = 'y ~ x'\n"
     ]
    },
    {
     "data": {
      "text/html": [
       "<strong>png:</strong> 2"
      ],
      "text/latex": [
       "\\textbf{png:} 2"
      ],
      "text/markdown": [
       "**png:** 2"
      ],
      "text/plain": [
       "png \n",
       "  2 "
      ]
     },
     "metadata": {},
     "output_type": "display_data"
    },
    {
     "data": {
      "image/png": "[encoded data removed]",
      "text/plain": [
       "plot without title"
      ]
     },
     "metadata": {
      "image/png": {
       "height": 420,
       "width": 420
      }
     },
     "output_type": "display_data"
    }
   ],
   "source": [
    "#plot for mild\n",
    "mild <- c('R133C', 'R306C', 'R294X', 'CTT')\n",
    "\n",
    "sp <- filteredxi %>% filter(grouping3 %in% mild) %>%\n",
    "mutate(norm = Percentile) %>%\n",
    "ggplot(aes(x = Paternal.Inactivation, y = norm)) +\n",
    "geom_point(size = 3) + geom_smooth(method=\"lm\", size = 3, fill = '#ff5050', color = '#ff5050') + \n",
    "theme_classic()\n",
    "\n",
    "\n",
    "\n",
    "\n",
    "mild_xiplot <- sp +\n",
    "My_Theme  +\n",
    "ylab(\"Normative CSS\") +\n",
    "xlab(\"% Paternal XI\") +\n",
    "scale_x_continuous(breaks = c(25, 50, 75, 100)) + xlim(10,102) + ylim(0,1.02)\n",
    "\n",
    "mild_group_xiplot <- sp + facet_wrap(\"grouping3\") +\n",
    "theme(\n",
    "  strip.background = element_blank(),\n",
    "  strip.text.x = element_text(size = 20, face=\"bold\", color = \"black\")) +\n",
    "My_Theme  +\n",
    "ylab(\"Normalized CSS\") +\n",
    "xlab(\"% Paternal XI\") +\n",
    "scale_x_continuous(breaks = c(25, 50, 75, 100))\n",
    "\n",
    "mild_xiplot\n",
    "png(file=\"C:/Users/jkmer/Desktop/2023_css/mild_xiplot_allmut.png\",\n",
    "units=\"in\", width=8, height=8, res=300)\n",
    "mild_xiplot\n",
    "dev.off()\n",
    "\n",
    "mild_group_xiplot\n",
    "png(file=\"C:/Users/jkmer/Desktop/2023_css/mild_group_xiplot.png\",\n",
    "units=\"in\", width=10, height=5, res=300)\n",
    "mild_group_xiplot\n",
    "dev.off()"
   ]
  },
  {
   "cell_type": "markdown",
   "id": "a03d7efe",
   "metadata": {},
   "source": [
    "## Modeling the interaction between MECP2 mutation severity and XCI impact on nCSS"
   ]
  },
  {
   "cell_type": "code",
   "execution_count": 24,
   "id": "1d127916",
   "metadata": {},
   "outputs": [],
   "source": [
    "filteredxi <- filteredxi %>%   mutate(sev_group = case_when(\n",
    "  grouping3 == 'R106W' ~ 1,\n",
    "  grouping3 == 'T158M' ~ 1,\n",
    "  grouping3 == 'R133C' ~ 0,  \n",
    "  grouping3 == 'R168X' ~ 1,\n",
    "  grouping3 == 'R255X' ~ 1,\n",
    "  grouping3 == 'R270X' ~ 1,\n",
    "  grouping3 == 'R294X' ~ 0,\n",
    "  grouping3 == 'R306C' ~ 0,\n",
    "  grouping3 == 'CTT' ~ 0,\n",
    "  grouping3 == 'earlytrunc' ~ 1,\n",
    "  grouping3 == 'LargeDel' ~ 1))"
   ]
  },
  {
   "cell_type": "code",
   "execution_count": 25,
   "id": "338588ba",
   "metadata": {},
   "outputs": [],
   "source": [
    "#build model where ncss is defined by XCI and mecp2 mutation severity group\n",
    "model_xi <- lm(Percentile ~ Paternal.Inactivation*sev_group, data = filteredxi)"
   ]
  },
  {
   "cell_type": "code",
   "execution_count": 26,
   "id": "21e41538",
   "metadata": {
    "scrolled": true
   },
   "outputs": [
    {
     "data": {
      "text/plain": [
       "\n",
       "Call:\n",
       "lm(formula = Percentile ~ Paternal.Inactivation * sev_group, \n",
       "    data = filteredxi)\n",
       "\n",
       "Residuals:\n",
       "     Min       1Q   Median       3Q      Max \n",
       "-0.46187 -0.22905 -0.00283  0.22161  0.57436 \n",
       "\n",
       "Coefficients:\n",
       "                                 Estimate Std. Error t value Pr(>|t|)   \n",
       "(Intercept)                      0.326801   0.107652   3.036  0.00273 **\n",
       "Paternal.Inactivation            0.002103   0.001671   1.258  0.20978   \n",
       "sev_group                        0.349913   0.145541   2.404  0.01715 * \n",
       "Paternal.Inactivation:sev_group -0.005225   0.002136  -2.447  0.01531 * \n",
       "---\n",
       "Signif. codes:  0 '***' 0.001 '**' 0.01 '*' 0.05 '.' 0.1 ' ' 1\n",
       "\n",
       "Residual standard error: 0.2797 on 194 degrees of freedom\n",
       "Multiple R-squared:  0.0353,\tAdjusted R-squared:  0.02038 \n",
       "F-statistic: 2.366 on 3 and 194 DF,  p-value: 0.07224\n"
      ]
     },
     "metadata": {},
     "output_type": "display_data"
    }
   ],
   "source": [
    "summary(model_xi)"
   ]
  },
  {
   "cell_type": "code",
   "execution_count": 27,
   "id": "7baf54fe",
   "metadata": {},
   "outputs": [
    {
     "data": {
      "text/html": [
       "<table class=\"dataframe\">\n",
       "<caption>A data.frame: 4 × 6</caption>\n",
       "<thead>\n",
       "\t<tr><th></th><th scope=col>Sum Sq</th><th scope=col>Df</th><th scope=col>F value</th><th scope=col>Pr(&gt;F)</th><th scope=col>PctExp</th><th scope=col>params</th></tr>\n",
       "\t<tr><th></th><th scope=col>&lt;dbl&gt;</th><th scope=col>&lt;dbl&gt;</th><th scope=col>&lt;dbl&gt;</th><th scope=col>&lt;dbl&gt;</th><th scope=col>&lt;dbl&gt;</th><th scope=col>&lt;chr&gt;</th></tr>\n",
       "</thead>\n",
       "<tbody>\n",
       "\t<tr><th scope=row>Paternal.Inactivation</th><td> 0.086941007</td><td>  1</td><td>1.11156564</td><td>0.29305315</td><td> 0.55260168</td><td>Paternal.Inactivation          </td></tr>\n",
       "\t<tr><th scope=row>sev_group</th><td> 0.004233371</td><td>  1</td><td>0.05412486</td><td>0.81628040</td><td> 0.02690753</td><td>sev_group                      </td></tr>\n",
       "\t<tr><th scope=row>Paternal.Inactivation:sev_group</th><td> 0.468166437</td><td>  1</td><td>5.98564182</td><td>0.01531362</td><td> 2.97569086</td><td>Paternal.Inactivation:sev_group</td></tr>\n",
       "\t<tr><th scope=row>Residuals</th><td>15.173692557</td><td>194</td><td>        NA</td><td>        NA</td><td>96.44479992</td><td>Residuals                      </td></tr>\n",
       "</tbody>\n",
       "</table>\n"
      ],
      "text/latex": [
       "A data.frame: 4 × 6\n",
       "\\begin{tabular}{r|llllll}\n",
       "  & Sum Sq & Df & F value & Pr(>F) & PctExp & params\\\\\n",
       "  & <dbl> & <dbl> & <dbl> & <dbl> & <dbl> & <chr>\\\\\n",
       "\\hline\n",
       "\tPaternal.Inactivation &  0.086941007 &   1 & 1.11156564 & 0.29305315 &  0.55260168 & Paternal.Inactivation          \\\\\n",
       "\tsev\\_group &  0.004233371 &   1 & 0.05412486 & 0.81628040 &  0.02690753 & sev\\_group                      \\\\\n",
       "\tPaternal.Inactivation:sev\\_group &  0.468166437 &   1 & 5.98564182 & 0.01531362 &  2.97569086 & Paternal.Inactivation:sev\\_group\\\\\n",
       "\tResiduals & 15.173692557 & 194 &         NA &         NA & 96.44479992 & Residuals                      \\\\\n",
       "\\end{tabular}\n"
      ],
      "text/markdown": [
       "\n",
       "A data.frame: 4 × 6\n",
       "\n",
       "| <!--/--> | Sum Sq &lt;dbl&gt; | Df &lt;dbl&gt; | F value &lt;dbl&gt; | Pr(&gt;F) &lt;dbl&gt; | PctExp &lt;dbl&gt; | params &lt;chr&gt; |\n",
       "|---|---|---|---|---|---|---|\n",
       "| Paternal.Inactivation |  0.086941007 |   1 | 1.11156564 | 0.29305315 |  0.55260168 | Paternal.Inactivation           |\n",
       "| sev_group |  0.004233371 |   1 | 0.05412486 | 0.81628040 |  0.02690753 | sev_group                       |\n",
       "| Paternal.Inactivation:sev_group |  0.468166437 |   1 | 5.98564182 | 0.01531362 |  2.97569086 | Paternal.Inactivation:sev_group |\n",
       "| Residuals | 15.173692557 | 194 |         NA |         NA | 96.44479992 | Residuals                       |\n",
       "\n"
      ],
      "text/plain": [
       "                                Sum Sq       Df  F value    Pr(>F)    \n",
       "Paternal.Inactivation            0.086941007   1 1.11156564 0.29305315\n",
       "sev_group                        0.004233371   1 0.05412486 0.81628040\n",
       "Paternal.Inactivation:sev_group  0.468166437   1 5.98564182 0.01531362\n",
       "Residuals                       15.173692557 194         NA         NA\n",
       "                                PctExp      params                         \n",
       "Paternal.Inactivation            0.55260168 Paternal.Inactivation          \n",
       "sev_group                        0.02690753 sev_group                      \n",
       "Paternal.Inactivation:sev_group  2.97569086 Paternal.Inactivation:sev_group\n",
       "Residuals                       96.44479992 Residuals                      "
      ]
     },
     "metadata": {},
     "output_type": "display_data"
    }
   ],
   "source": [
    "# calculate variance explained for xi model\n",
    "af <- Anova(model_xi, type = 2)\n",
    "afss <- af$\"Sum Sq\"\n",
    "pctvar <- cbind(af,PctExp=(afss/sum(afss))*100)\n",
    "pctvar$params <- rownames(pctvar)\n",
    "pctvar"
   ]
  }
 ],
 "metadata": {
  "kernelspec": {
   "display_name": "R",
   "language": "R",
   "name": "ir"
  },
  "language_info": {
   "codemirror_mode": "r",
   "file_extension": ".r",
   "mimetype": "text/x-r-source",
   "name": "R",
   "pygments_lexer": "r",
   "version": "4.1.3"
  }
 },
 "nbformat": 4,
 "nbformat_minor": 5
}
